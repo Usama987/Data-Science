{
 "cells": [
  {
   "cell_type": "markdown",
   "metadata": {},
   "source": [
    "## Here we first load the glove vectors as a dictionary - `embeddings_index`\n",
    "`embeddings_index['banana']` would give some 100 length vector for the word `'banana'`\n",
    "\n",
    "The object `GLOVE_DIR` points to the text file which containes the vectors, but it could also be downloaded from http://nlp.stanford.edu/data/glove.6B.zip and saved on disk"
   ]
  },
  {
   "cell_type": "code",
   "execution_count": 1,
   "metadata": {},
   "outputs": [],
   "source": [
    "import os\n",
    "import numpy as np"
   ]
  },
  {
   "cell_type": "code",
   "execution_count": 2,
   "metadata": {},
   "outputs": [],
   "source": [
    "GLOVE_DIR_PATH ='./glove_embeddings'"
   ]
  },
  {
   "cell_type": "code",
   "execution_count": 3,
   "metadata": {},
   "outputs": [
    {
     "data": {
      "text/plain": [
       "'./glove_embeddings/glove.50d.txt'"
      ]
     },
     "execution_count": 3,
     "metadata": {},
     "output_type": "execute_result"
    }
   ],
   "source": [
    "os.path.join(GLOVE_DIR_PATH, 'glove.50d.txt')"
   ]
  },
  {
   "cell_type": "code",
   "execution_count": 4,
   "metadata": {},
   "outputs": [
    {
     "name": "stdout",
     "output_type": "stream",
     "text": [
      "Found 6 word vectors.\n"
     ]
    }
   ],
   "source": [
    "embeddings_index1 = {}\n",
    "a = open(os.path.join(GLOVE_DIR_PATH, 'glove.50d.txt'),encoding=\"utf8\")\n",
    "\n",
    "for line in a:\n",
    "    values = line.split()\n",
    "    # print(values)\n",
    "    word = values[0]\n",
    "    coefs = np.asarray(values[1:], dtype='float32')\n",
    "    embeddings_index1[word] = coefs\n",
    "    \n",
    "a.close()\n",
    "\n",
    "print('Found %s word vectors.' % len(embeddings_index1))"
   ]
  },
  {
   "cell_type": "code",
   "execution_count": 5,
   "metadata": {},
   "outputs": [
    {
     "data": {
      "text/plain": [
       "dict_keys(['the', ',', '.', 'of', 'to', 'and'])"
      ]
     },
     "execution_count": 5,
     "metadata": {},
     "output_type": "execute_result"
    }
   ],
   "source": [
    "embeddings_index1.keys()"
   ]
  },
  {
   "cell_type": "code",
   "execution_count": 6,
   "metadata": {},
   "outputs": [
    {
     "data": {
      "text/plain": [
       "array([ 0.70853  ,  0.57088  , -0.4716   ,  0.18048  ,  0.54449  ,\n",
       "        0.72603  ,  0.18157  , -0.52393  ,  0.10381  , -0.17566  ,\n",
       "        0.078852 , -0.36216  , -0.11829  , -0.83336  ,  0.11917  ,\n",
       "       -0.16605  ,  0.061555 , -0.012719 , -0.56623  ,  0.013616 ,\n",
       "        0.22851  , -0.14396  , -0.067549 , -0.38157  , -0.23698  ,\n",
       "       -1.7037   , -0.86692  , -0.26704  , -0.2589   ,  0.1767   ,\n",
       "        3.8676   , -0.1613   , -0.13273  , -0.68881  ,  0.18444  ,\n",
       "        0.0052464, -0.33874  , -0.078956 ,  0.24185  ,  0.36576  ,\n",
       "       -0.34727  ,  0.28483  ,  0.075693 , -0.062178 , -0.38988  ,\n",
       "        0.22902  , -0.21617  , -0.22562  , -0.093918 , -0.80375  ],\n",
       "      dtype=float32)"
      ]
     },
     "execution_count": 6,
     "metadata": {},
     "output_type": "execute_result"
    }
   ],
   "source": [
    "embeddings_index1['of']"
   ]
  },
  {
   "cell_type": "code",
   "execution_count": 7,
   "metadata": {},
   "outputs": [
    {
     "name": "stdout",
     "output_type": "stream",
     "text": [
      "Found 400000 word vectors.\n"
     ]
    }
   ],
   "source": [
    "GLOVE_DIR = '/home/datasets/lab/Batch85/Electives/NLP/Word_Embeddings'\n",
    "\n",
    "embeddings_index = {}\n",
    "f = open(os.path.join(GLOVE_DIR, 'glove.6B.100d.txt'),encoding=\"utf8\")\n",
    "for line in f:\n",
    "    values = line.split()\n",
    "    word = values[0]\n",
    "    coefs = np.asarray(values[1:], dtype='float32')\n",
    "    embeddings_index[word] = coefs\n",
    "f.close()\n",
    "\n",
    "print('Found %s word vectors.' % len(embeddings_index))"
   ]
  },
  {
   "cell_type": "code",
   "execution_count": 8,
   "metadata": {},
   "outputs": [
    {
     "data": {
      "text/plain": [
       "array([-1.3069   ,  0.34337  , -0.6561   ,  0.50535  , -0.31266  ,\n",
       "       -0.016182 , -0.86545  ,  0.018588 ,  0.65697  ,  0.48712  ,\n",
       "        0.60409  , -0.14442  , -0.13581  , -0.37783  ,  0.13353  ,\n",
       "       -0.29716  ,  0.45541  ,  1.3479   ,  0.02077  ,  0.047824 ,\n",
       "       -0.059017 , -0.52721  , -0.12911  ,  0.36634  , -0.3437   ,\n",
       "        0.44807  ,  0.26396  , -0.03747  ,  0.091416 , -0.52161  ,\n",
       "        0.36524  ,  0.27812  , -0.23949  , -0.14362  ,  0.2543   ,\n",
       "        0.13902  , -0.26839  ,  0.27864  ,  0.23045  , -0.61099  ,\n",
       "        0.66523  ,  0.59624  , -0.63049  , -0.059215 , -0.93496  ,\n",
       "        0.41595  ,  0.27816  , -0.28668  , -0.4027   ,  0.43794  ,\n",
       "        0.0081997, -0.13542  ,  0.69342  ,  0.55247  , -0.031567 ,\n",
       "       -0.060406 ,  0.53747  ,  0.64762  ,  0.47787  ,  0.0064127,\n",
       "       -0.49562  , -0.38452  , -0.6629   ,  0.35706  ,  0.71461  ,\n",
       "        0.43798  ,  0.26165  , -0.26898  ,  0.5635   , -0.25969  ,\n",
       "       -0.61574  ,  0.2409   ,  0.29615  , -0.56231  ,  0.29118  ,\n",
       "       -0.16626  , -0.1762   , -0.8583   , -0.29637  ,  0.17477  ,\n",
       "       -0.27668  ,  0.052056 , -1.3648   , -0.4695   , -0.23453  ,\n",
       "        0.38541  ,  0.91612  , -0.45371  , -0.070356 ,  0.45356  ,\n",
       "       -0.56951  ,  1.0177   , -0.27158  , -0.081268 ,  0.19165  ,\n",
       "       -0.78914  ,  0.40251  , -0.14526  , -0.30298  ,  0.078954 ],\n",
       "      dtype=float32)"
      ]
     },
     "execution_count": 8,
     "metadata": {},
     "output_type": "execute_result"
    }
   ],
   "source": [
    "embeddings_index['compute']"
   ]
  },
  {
   "cell_type": "markdown",
   "metadata": {},
   "source": [
    "## Let's find the top 5 words that are closest to 'compute'"
   ]
  },
  {
   "cell_type": "code",
   "execution_count": 9,
   "metadata": {},
   "outputs": [
    {
     "name": "stdout",
     "output_type": "stream",
     "text": [
      "400000\n"
     ]
    }
   ],
   "source": [
    "from numpy import dot\n",
    "from numpy.linalg import norm\n",
    "\n",
    "u = embeddings_index['compute']\n",
    "similarity = []\n",
    "\n",
    "# cos_sim = dot(a, b)/(norm(a)*norm(b))\n",
    "\n",
    "norm_u = norm(u)\n",
    "\n",
    "similarity = []\n",
    "\n",
    "for word in embeddings_index.keys():\n",
    "    v = embeddings_index[word]\n",
    "    cosine = dot(u, v)/(norm_u*norm(v))\n",
    "    similarity.append((word, cosine))\n",
    "\n",
    "print(len(similarity))"
   ]
  },
  {
   "cell_type": "code",
   "execution_count": 10,
   "metadata": {},
   "outputs": [
    {
     "data": {
      "text/plain": [
       "[('compute', 0.99999994),\n",
       " ('calculate', 0.72220623),\n",
       " ('algorithm', 0.64410573),\n",
       " ('computed', 0.6136234),\n",
       " ('algorithms', 0.6134383),\n",
       " ('equivalently', 0.59991413)]"
      ]
     },
     "execution_count": 10,
     "metadata": {},
     "output_type": "execute_result"
    }
   ],
   "source": [
    "sorted(similarity, key=lambda x: x[1], reverse=True)[:6]"
   ]
  }
 ],
 "metadata": {
  "kernelspec": {
   "display_name": "Python 3",
   "language": "python",
   "name": "python3"
  },
  "language_info": {
   "codemirror_mode": {
    "name": "ipython",
    "version": 3
   },
   "file_extension": ".py",
   "mimetype": "text/x-python",
   "name": "python",
   "nbconvert_exporter": "python",
   "pygments_lexer": "ipython3",
   "version": "3.7.6"
  },
  "varInspector": {
   "cols": {
    "lenName": 16,
    "lenType": 16,
    "lenVar": 40
   },
   "kernels_config": {
    "python": {
     "delete_cmd_postfix": "",
     "delete_cmd_prefix": "del ",
     "library": "var_list.py",
     "varRefreshCmd": "print(var_dic_list())"
    },
    "r": {
     "delete_cmd_postfix": ") ",
     "delete_cmd_prefix": "rm(",
     "library": "var_list.r",
     "varRefreshCmd": "cat(var_dic_list()) "
    }
   },
   "types_to_exclude": [
    "module",
    "function",
    "builtin_function_or_method",
    "instance",
    "_Feature"
   ],
   "window_display": false
  }
 },
 "nbformat": 4,
 "nbformat_minor": 2
}
