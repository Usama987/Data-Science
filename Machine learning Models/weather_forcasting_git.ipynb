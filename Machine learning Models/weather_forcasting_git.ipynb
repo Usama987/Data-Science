{
 "cells": [
  {
   "cell_type": "code",
   "execution_count": 2,
   "metadata": {
    "colab": {},
    "colab_type": "code",
    "id": "MxWey2foda5J"
   },
   "outputs": [],
   "source": [
    "import numpy as np\n",
    "import matplotlib.pyplot as plt\n",
    "import pandas as pd\n"
   ]
  },
  {
   "cell_type": "code",
   "execution_count": 3,
   "metadata": {
    "colab": {},
    "colab_type": "code",
    "id": "cyTJ3ZPQeguM"
   },
   "outputs": [],
   "source": [
    "weather_data = pd.read_csv('D:/datasets/Weather_data.csv')  "
   ]
  },
  {
   "cell_type": "code",
   "execution_count": 4,
   "metadata": {
    "colab": {
     "base_uri": "https://localhost:8080/",
     "height": 34
    },
    "colab_type": "code",
    "executionInfo": {
     "elapsed": 1244,
     "status": "ok",
     "timestamp": 1580892644948,
     "user": {
      "displayName": "Vikram Gurjar",
      "photoUrl": "https://lh3.googleusercontent.com/a-/AAuE7mDrO4fhxdJcubHkqTBYlW-orH5PGAF4bqglhaR47Q=s64",
      "userId": "01140798683055157388"
     },
     "user_tz": -330
    },
    "id": "e0L6fuj5eoeK",
    "outputId": "05a6efa2-b4de-4f01-f2f1-064b4b154d24"
   },
   "outputs": [
    {
     "data": {
      "text/plain": [
       "(50157, 20)"
      ]
     },
     "execution_count": 4,
     "metadata": {},
     "output_type": "execute_result"
    }
   ],
   "source": [
    "weather_data.shape"
   ]
  },
  {
   "cell_type": "code",
   "execution_count": 10,
   "metadata": {
    "colab": {
     "base_uri": "https://localhost:8080/",
     "height": 226
    },
    "colab_type": "code",
    "executionInfo": {
     "elapsed": 5212,
     "status": "ok",
     "timestamp": 1580829889475,
     "user": {
      "displayName": "Vikram Gurjar",
      "photoUrl": "https://lh3.googleusercontent.com/a-/AAuE7mDrO4fhxdJcubHkqTBYlW-orH5PGAF4bqglhaR47Q=s64",
      "userId": "01140798683055157388"
     },
     "user_tz": -330
    },
    "id": "UKxibGwdQqbC",
    "outputId": "22394738-d42f-4ce4-d670-9c3cbf369b41"
   },
   "outputs": [
    {
     "data": {
      "text/plain": [
       "50157"
      ]
     },
     "execution_count": 10,
     "metadata": {},
     "output_type": "execute_result"
    }
   ],
   "source": [
    "len(weather_data)"
   ]
  },
  {
   "cell_type": "code",
   "execution_count": 6,
   "metadata": {
    "colab": {
     "base_uri": "https://localhost:8080/",
     "height": 320
    },
    "colab_type": "code",
    "executionInfo": {
     "elapsed": 5204,
     "status": "ok",
     "timestamp": 1580829889477,
     "user": {
      "displayName": "Vikram Gurjar",
      "photoUrl": "https://lh3.googleusercontent.com/a-/AAuE7mDrO4fhxdJcubHkqTBYlW-orH5PGAF4bqglhaR47Q=s64",
      "userId": "01140798683055157388"
     },
     "user_tz": -330
    },
    "id": "0YBIV5bZQwWD",
    "outputId": "d8c0aa7c-766e-40a6-9a49-9a97b88289b9"
   },
   "outputs": [
    {
     "data": {
      "text/html": [
       "<div>\n",
       "<style scoped>\n",
       "    .dataframe tbody tr th:only-of-type {\n",
       "        vertical-align: middle;\n",
       "    }\n",
       "\n",
       "    .dataframe tbody tr th {\n",
       "        vertical-align: top;\n",
       "    }\n",
       "\n",
       "    .dataframe thead th {\n",
       "        text-align: right;\n",
       "    }\n",
       "</style>\n",
       "<table border=\"1\" class=\"dataframe\">\n",
       "  <thead>\n",
       "    <tr style=\"text-align: right;\">\n",
       "      <th></th>\n",
       "      <th>_dewptm</th>\n",
       "      <th>_fog</th>\n",
       "      <th>_hail</th>\n",
       "      <th>_heatindexm</th>\n",
       "      <th>_hum</th>\n",
       "      <th>_precipm</th>\n",
       "      <th>_pressurem</th>\n",
       "      <th>_rain</th>\n",
       "      <th>_snow</th>\n",
       "      <th>_tempm</th>\n",
       "      <th>_thunder</th>\n",
       "      <th>_tornado</th>\n",
       "      <th>_vism</th>\n",
       "      <th>_wdird</th>\n",
       "      <th>_wgustm</th>\n",
       "      <th>_windchillm</th>\n",
       "      <th>_wspdm</th>\n",
       "    </tr>\n",
       "  </thead>\n",
       "  <tbody>\n",
       "    <tr>\n",
       "      <th>count</th>\n",
       "      <td>49665.00000</td>\n",
       "      <td>50156.000000</td>\n",
       "      <td>50156.000000</td>\n",
       "      <td>23604.000000</td>\n",
       "      <td>49640.000000</td>\n",
       "      <td>0.0</td>\n",
       "      <td>5.015600e+04</td>\n",
       "      <td>50156.000000</td>\n",
       "      <td>50156.0</td>\n",
       "      <td>49680.000000</td>\n",
       "      <td>50156.000000</td>\n",
       "      <td>50156.000000</td>\n",
       "      <td>46586.000000</td>\n",
       "      <td>50156.000000</td>\n",
       "      <td>782.000000</td>\n",
       "      <td>427.000000</td>\n",
       "      <td>48091.000000</td>\n",
       "    </tr>\n",
       "    <tr>\n",
       "      <th>mean</th>\n",
       "      <td>15.57916</td>\n",
       "      <td>0.063861</td>\n",
       "      <td>0.000020</td>\n",
       "      <td>35.657617</td>\n",
       "      <td>58.236362</td>\n",
       "      <td>NaN</td>\n",
       "      <td>2.879480e+03</td>\n",
       "      <td>0.022749</td>\n",
       "      <td>0.0</td>\n",
       "      <td>25.926892</td>\n",
       "      <td>0.008115</td>\n",
       "      <td>0.000020</td>\n",
       "      <td>2.679996</td>\n",
       "      <td>147.211361</td>\n",
       "      <td>37.449361</td>\n",
       "      <td>5.645433</td>\n",
       "      <td>8.634722</td>\n",
       "    </tr>\n",
       "    <tr>\n",
       "      <th>std</th>\n",
       "      <td>7.42150</td>\n",
       "      <td>0.244507</td>\n",
       "      <td>0.004465</td>\n",
       "      <td>4.928907</td>\n",
       "      <td>23.079256</td>\n",
       "      <td>NaN</td>\n",
       "      <td>4.512551e+05</td>\n",
       "      <td>0.149104</td>\n",
       "      <td>0.0</td>\n",
       "      <td>8.367614</td>\n",
       "      <td>0.089716</td>\n",
       "      <td>0.004465</td>\n",
       "      <td>1.347115</td>\n",
       "      <td>122.022493</td>\n",
       "      <td>6.707841</td>\n",
       "      <td>1.236494</td>\n",
       "      <td>13.893843</td>\n",
       "    </tr>\n",
       "    <tr>\n",
       "      <th>min</th>\n",
       "      <td>-24.00000</td>\n",
       "      <td>0.000000</td>\n",
       "      <td>0.000000</td>\n",
       "      <td>26.800000</td>\n",
       "      <td>4.000000</td>\n",
       "      <td>NaN</td>\n",
       "      <td>-9.999000e+03</td>\n",
       "      <td>0.000000</td>\n",
       "      <td>0.0</td>\n",
       "      <td>3.000000</td>\n",
       "      <td>0.000000</td>\n",
       "      <td>0.000000</td>\n",
       "      <td>0.000000</td>\n",
       "      <td>0.000000</td>\n",
       "      <td>25.900000</td>\n",
       "      <td>2.100000</td>\n",
       "      <td>0.000000</td>\n",
       "    </tr>\n",
       "    <tr>\n",
       "      <th>25%</th>\n",
       "      <td>9.00000</td>\n",
       "      <td>0.000000</td>\n",
       "      <td>0.000000</td>\n",
       "      <td>31.800000</td>\n",
       "      <td>40.000000</td>\n",
       "      <td>NaN</td>\n",
       "      <td>1.001000e+03</td>\n",
       "      <td>0.000000</td>\n",
       "      <td>0.0</td>\n",
       "      <td>20.000000</td>\n",
       "      <td>0.000000</td>\n",
       "      <td>0.000000</td>\n",
       "      <td>1.700000</td>\n",
       "      <td>0.000000</td>\n",
       "      <td>33.300000</td>\n",
       "      <td>4.900000</td>\n",
       "      <td>3.700000</td>\n",
       "    </tr>\n",
       "    <tr>\n",
       "      <th>50%</th>\n",
       "      <td>15.00000</td>\n",
       "      <td>0.000000</td>\n",
       "      <td>0.000000</td>\n",
       "      <td>35.100000</td>\n",
       "      <td>59.000000</td>\n",
       "      <td>NaN</td>\n",
       "      <td>1.008000e+03</td>\n",
       "      <td>0.000000</td>\n",
       "      <td>0.0</td>\n",
       "      <td>28.000000</td>\n",
       "      <td>0.000000</td>\n",
       "      <td>0.000000</td>\n",
       "      <td>2.500000</td>\n",
       "      <td>120.000000</td>\n",
       "      <td>37.000000</td>\n",
       "      <td>5.800000</td>\n",
       "      <td>7.400000</td>\n",
       "    </tr>\n",
       "    <tr>\n",
       "      <th>75%</th>\n",
       "      <td>23.00000</td>\n",
       "      <td>0.000000</td>\n",
       "      <td>0.000000</td>\n",
       "      <td>39.200000</td>\n",
       "      <td>77.000000</td>\n",
       "      <td>NaN</td>\n",
       "      <td>1.014000e+03</td>\n",
       "      <td>0.000000</td>\n",
       "      <td>0.0</td>\n",
       "      <td>32.000000</td>\n",
       "      <td>0.000000</td>\n",
       "      <td>0.000000</td>\n",
       "      <td>3.500000</td>\n",
       "      <td>270.000000</td>\n",
       "      <td>40.700000</td>\n",
       "      <td>6.800000</td>\n",
       "      <td>13.000000</td>\n",
       "    </tr>\n",
       "    <tr>\n",
       "      <th>max</th>\n",
       "      <td>35.00000</td>\n",
       "      <td>1.000000</td>\n",
       "      <td>1.000000</td>\n",
       "      <td>73.600000</td>\n",
       "      <td>100.000000</td>\n",
       "      <td>NaN</td>\n",
       "      <td>1.010614e+08</td>\n",
       "      <td>1.000000</td>\n",
       "      <td>0.0</td>\n",
       "      <td>72.000000</td>\n",
       "      <td>1.000000</td>\n",
       "      <td>1.000000</td>\n",
       "      <td>10.000000</td>\n",
       "      <td>860.000000</td>\n",
       "      <td>74.100000</td>\n",
       "      <td>7.300000</td>\n",
       "      <td>1514.900000</td>\n",
       "    </tr>\n",
       "  </tbody>\n",
       "</table>\n",
       "</div>"
      ],
      "text/plain": [
       "           _dewptm          _fog         _hail   _heatindexm          _hum  \\\n",
       "count  49665.00000  50156.000000  50156.000000  23604.000000  49640.000000   \n",
       "mean      15.57916      0.063861      0.000020     35.657617     58.236362   \n",
       "std        7.42150      0.244507      0.004465      4.928907     23.079256   \n",
       "min      -24.00000      0.000000      0.000000     26.800000      4.000000   \n",
       "25%        9.00000      0.000000      0.000000     31.800000     40.000000   \n",
       "50%       15.00000      0.000000      0.000000     35.100000     59.000000   \n",
       "75%       23.00000      0.000000      0.000000     39.200000     77.000000   \n",
       "max       35.00000      1.000000      1.000000     73.600000    100.000000   \n",
       "\n",
       "        _precipm    _pressurem         _rain    _snow        _tempm  \\\n",
       "count        0.0  5.015600e+04  50156.000000  50156.0  49680.000000   \n",
       "mean         NaN  2.879480e+03      0.022749      0.0     25.926892   \n",
       "std          NaN  4.512551e+05      0.149104      0.0      8.367614   \n",
       "min          NaN -9.999000e+03      0.000000      0.0      3.000000   \n",
       "25%          NaN  1.001000e+03      0.000000      0.0     20.000000   \n",
       "50%          NaN  1.008000e+03      0.000000      0.0     28.000000   \n",
       "75%          NaN  1.014000e+03      0.000000      0.0     32.000000   \n",
       "max          NaN  1.010614e+08      1.000000      0.0     72.000000   \n",
       "\n",
       "           _thunder      _tornado         _vism        _wdird     _wgustm  \\\n",
       "count  50156.000000  50156.000000  46586.000000  50156.000000  782.000000   \n",
       "mean       0.008115      0.000020      2.679996    147.211361   37.449361   \n",
       "std        0.089716      0.004465      1.347115    122.022493    6.707841   \n",
       "min        0.000000      0.000000      0.000000      0.000000   25.900000   \n",
       "25%        0.000000      0.000000      1.700000      0.000000   33.300000   \n",
       "50%        0.000000      0.000000      2.500000    120.000000   37.000000   \n",
       "75%        0.000000      0.000000      3.500000    270.000000   40.700000   \n",
       "max        1.000000      1.000000     10.000000    860.000000   74.100000   \n",
       "\n",
       "        _windchillm        _wspdm  \n",
       "count    427.000000  48091.000000  \n",
       "mean       5.645433      8.634722  \n",
       "std        1.236494     13.893843  \n",
       "min        2.100000      0.000000  \n",
       "25%        4.900000      3.700000  \n",
       "50%        5.800000      7.400000  \n",
       "75%        6.800000     13.000000  \n",
       "max        7.300000   1514.900000  "
      ]
     },
     "execution_count": 6,
     "metadata": {},
     "output_type": "execute_result"
    }
   ],
   "source": [
    "weather_data.describe()"
   ]
  },
  {
   "cell_type": "code",
   "execution_count": 7,
   "metadata": {
    "colab": {},
    "colab_type": "code",
    "id": "7kknfPL-SvOF"
   },
   "outputs": [],
   "source": [
    "#features=weather_data.loc[:, weather_data.columns != ' _tempm']"
   ]
  },
  {
   "cell_type": "code",
   "execution_count": 11,
   "metadata": {
    "colab": {},
    "colab_type": "code",
    "id": "U6Uqn6whe6bv"
   },
   "outputs": [],
   "source": [
    "features=weather_data.loc[:,:]"
   ]
  },
  {
   "cell_type": "markdown",
   "metadata": {
    "colab_type": "text",
    "id": "V7oh9v8eYmhD"
   },
   "source": [
    "df.set_axis(df['Date'], inplace=True)\n",
    "df.drop(columns=['Open', 'High', 'Low', 'Volume'], inplace=True)"
   ]
  },
  {
   "cell_type": "code",
   "execution_count": 12,
   "metadata": {
    "colab": {
     "base_uri": "https://localhost:8080/",
     "height": 479
    },
    "colab_type": "code",
    "executionInfo": {
     "elapsed": 5180,
     "status": "ok",
     "timestamp": 1580829889485,
     "user": {
      "displayName": "Vikram Gurjar",
      "photoUrl": "https://lh3.googleusercontent.com/a-/AAuE7mDrO4fhxdJcubHkqTBYlW-orH5PGAF4bqglhaR47Q=s64",
      "userId": "01140798683055157388"
     },
     "user_tz": -330
    },
    "id": "xe3PirACU1Ol",
    "outputId": "121dc6d7-4bcc-4c3d-f76d-53ef6663d76a"
   },
   "outputs": [
    {
     "data": {
      "text/html": [
       "<div>\n",
       "<style scoped>\n",
       "    .dataframe tbody tr th:only-of-type {\n",
       "        vertical-align: middle;\n",
       "    }\n",
       "\n",
       "    .dataframe tbody tr th {\n",
       "        vertical-align: top;\n",
       "    }\n",
       "\n",
       "    .dataframe thead th {\n",
       "        text-align: right;\n",
       "    }\n",
       "</style>\n",
       "<table border=\"1\" class=\"dataframe\">\n",
       "  <thead>\n",
       "    <tr style=\"text-align: right;\">\n",
       "      <th></th>\n",
       "      <th>datetime_utc</th>\n",
       "      <th>_conds</th>\n",
       "      <th>_dewptm</th>\n",
       "      <th>_fog</th>\n",
       "      <th>_hail</th>\n",
       "      <th>_heatindexm</th>\n",
       "      <th>_hum</th>\n",
       "      <th>_precipm</th>\n",
       "      <th>_pressurem</th>\n",
       "      <th>_rain</th>\n",
       "      <th>_snow</th>\n",
       "      <th>_tempm</th>\n",
       "      <th>_thunder</th>\n",
       "      <th>_tornado</th>\n",
       "      <th>_vism</th>\n",
       "      <th>_wdird</th>\n",
       "      <th>_wdire</th>\n",
       "      <th>_wgustm</th>\n",
       "      <th>_windchillm</th>\n",
       "      <th>_wspdm</th>\n",
       "    </tr>\n",
       "  </thead>\n",
       "  <tbody>\n",
       "    <tr>\n",
       "      <th>0</th>\n",
       "      <td>19961101-11:00</td>\n",
       "      <td>Smoke</td>\n",
       "      <td>9.0</td>\n",
       "      <td>0.0</td>\n",
       "      <td>0.0</td>\n",
       "      <td>NaN</td>\n",
       "      <td>27.0</td>\n",
       "      <td>NaN</td>\n",
       "      <td>1010.0</td>\n",
       "      <td>0.0</td>\n",
       "      <td>0.0</td>\n",
       "      <td>30.0</td>\n",
       "      <td>0.0</td>\n",
       "      <td>0.0</td>\n",
       "      <td>5.0</td>\n",
       "      <td>280.0</td>\n",
       "      <td>West</td>\n",
       "      <td>NaN</td>\n",
       "      <td>NaN</td>\n",
       "      <td>7.4</td>\n",
       "    </tr>\n",
       "    <tr>\n",
       "      <th>1</th>\n",
       "      <td>19961101-12:00</td>\n",
       "      <td>Smoke</td>\n",
       "      <td>10.0</td>\n",
       "      <td>0.0</td>\n",
       "      <td>0.0</td>\n",
       "      <td>NaN</td>\n",
       "      <td>32.0</td>\n",
       "      <td>NaN</td>\n",
       "      <td>-9999.0</td>\n",
       "      <td>0.0</td>\n",
       "      <td>0.0</td>\n",
       "      <td>28.0</td>\n",
       "      <td>0.0</td>\n",
       "      <td>0.0</td>\n",
       "      <td>NaN</td>\n",
       "      <td>0.0</td>\n",
       "      <td>North</td>\n",
       "      <td>NaN</td>\n",
       "      <td>NaN</td>\n",
       "      <td>NaN</td>\n",
       "    </tr>\n",
       "    <tr>\n",
       "      <th>2</th>\n",
       "      <td>19961101-13:00</td>\n",
       "      <td>Smoke</td>\n",
       "      <td>11.0</td>\n",
       "      <td>0.0</td>\n",
       "      <td>0.0</td>\n",
       "      <td>NaN</td>\n",
       "      <td>44.0</td>\n",
       "      <td>NaN</td>\n",
       "      <td>-9999.0</td>\n",
       "      <td>0.0</td>\n",
       "      <td>0.0</td>\n",
       "      <td>24.0</td>\n",
       "      <td>0.0</td>\n",
       "      <td>0.0</td>\n",
       "      <td>NaN</td>\n",
       "      <td>0.0</td>\n",
       "      <td>North</td>\n",
       "      <td>NaN</td>\n",
       "      <td>NaN</td>\n",
       "      <td>NaN</td>\n",
       "    </tr>\n",
       "    <tr>\n",
       "      <th>3</th>\n",
       "      <td>19961101-14:00</td>\n",
       "      <td>Smoke</td>\n",
       "      <td>10.0</td>\n",
       "      <td>0.0</td>\n",
       "      <td>0.0</td>\n",
       "      <td>NaN</td>\n",
       "      <td>41.0</td>\n",
       "      <td>NaN</td>\n",
       "      <td>1010.0</td>\n",
       "      <td>0.0</td>\n",
       "      <td>0.0</td>\n",
       "      <td>24.0</td>\n",
       "      <td>0.0</td>\n",
       "      <td>0.0</td>\n",
       "      <td>2.0</td>\n",
       "      <td>0.0</td>\n",
       "      <td>North</td>\n",
       "      <td>NaN</td>\n",
       "      <td>NaN</td>\n",
       "      <td>NaN</td>\n",
       "    </tr>\n",
       "    <tr>\n",
       "      <th>4</th>\n",
       "      <td>19961101-16:00</td>\n",
       "      <td>Smoke</td>\n",
       "      <td>11.0</td>\n",
       "      <td>0.0</td>\n",
       "      <td>0.0</td>\n",
       "      <td>NaN</td>\n",
       "      <td>47.0</td>\n",
       "      <td>NaN</td>\n",
       "      <td>1011.0</td>\n",
       "      <td>0.0</td>\n",
       "      <td>0.0</td>\n",
       "      <td>23.0</td>\n",
       "      <td>0.0</td>\n",
       "      <td>0.0</td>\n",
       "      <td>1.2</td>\n",
       "      <td>0.0</td>\n",
       "      <td>North</td>\n",
       "      <td>NaN</td>\n",
       "      <td>NaN</td>\n",
       "      <td>0.0</td>\n",
       "    </tr>\n",
       "    <tr>\n",
       "      <th>...</th>\n",
       "      <td>...</td>\n",
       "      <td>...</td>\n",
       "      <td>...</td>\n",
       "      <td>...</td>\n",
       "      <td>...</td>\n",
       "      <td>...</td>\n",
       "      <td>...</td>\n",
       "      <td>...</td>\n",
       "      <td>...</td>\n",
       "      <td>...</td>\n",
       "      <td>...</td>\n",
       "      <td>...</td>\n",
       "      <td>...</td>\n",
       "      <td>...</td>\n",
       "      <td>...</td>\n",
       "      <td>...</td>\n",
       "      <td>...</td>\n",
       "      <td>...</td>\n",
       "      <td>...</td>\n",
       "      <td>...</td>\n",
       "    </tr>\n",
       "    <tr>\n",
       "      <th>50152</th>\n",
       "      <td>20031024-12:30</td>\n",
       "      <td>Smoke</td>\n",
       "      <td>13.0</td>\n",
       "      <td>0.0</td>\n",
       "      <td>0.0</td>\n",
       "      <td>27.0</td>\n",
       "      <td>42.0</td>\n",
       "      <td>NaN</td>\n",
       "      <td>1009.0</td>\n",
       "      <td>0.0</td>\n",
       "      <td>0.0</td>\n",
       "      <td>27.0</td>\n",
       "      <td>0.0</td>\n",
       "      <td>0.0</td>\n",
       "      <td>3.0</td>\n",
       "      <td>60.0</td>\n",
       "      <td>ENE</td>\n",
       "      <td>NaN</td>\n",
       "      <td>NaN</td>\n",
       "      <td>7.4</td>\n",
       "    </tr>\n",
       "    <tr>\n",
       "      <th>50153</th>\n",
       "      <td>20031024-13:00</td>\n",
       "      <td>Smoke</td>\n",
       "      <td>13.0</td>\n",
       "      <td>0.0</td>\n",
       "      <td>0.0</td>\n",
       "      <td>27.0</td>\n",
       "      <td>42.0</td>\n",
       "      <td>NaN</td>\n",
       "      <td>1009.0</td>\n",
       "      <td>0.0</td>\n",
       "      <td>0.0</td>\n",
       "      <td>27.0</td>\n",
       "      <td>0.0</td>\n",
       "      <td>0.0</td>\n",
       "      <td>3.0</td>\n",
       "      <td>60.0</td>\n",
       "      <td>ENE</td>\n",
       "      <td>NaN</td>\n",
       "      <td>NaN</td>\n",
       "      <td>7.4</td>\n",
       "    </tr>\n",
       "    <tr>\n",
       "      <th>50154</th>\n",
       "      <td>20031024-13:30</td>\n",
       "      <td>Smoke</td>\n",
       "      <td>13.0</td>\n",
       "      <td>0.0</td>\n",
       "      <td>0.0</td>\n",
       "      <td>NaN</td>\n",
       "      <td>44.0</td>\n",
       "      <td>NaN</td>\n",
       "      <td>1010.0</td>\n",
       "      <td>0.0</td>\n",
       "      <td>0.0</td>\n",
       "      <td>26.0</td>\n",
       "      <td>0.0</td>\n",
       "      <td>0.0</td>\n",
       "      <td>3.0</td>\n",
       "      <td>60.0</td>\n",
       "      <td>ENE</td>\n",
       "      <td>NaN</td>\n",
       "      <td>NaN</td>\n",
       "      <td>9.3</td>\n",
       "    </tr>\n",
       "    <tr>\n",
       "      <th>50155</th>\n",
       "      <td>20031024-14:00</td>\n",
       "      <td>Haze</td>\n",
       "      <td>13.0</td>\n",
       "      <td>0.0</td>\n",
       "      <td>0.0</td>\n",
       "      <td>NaN</td>\n",
       "      <td>47.0</td>\n",
       "      <td>NaN</td>\n",
       "      <td>1010.0</td>\n",
       "      <td>0.0</td>\n",
       "      <td>0.0</td>\n",
       "      <td>25.0</td>\n",
       "      <td>0.0</td>\n",
       "      <td>0.0</td>\n",
       "      <td>3.0</td>\n",
       "      <td>60.0</td>\n",
       "      <td>ENE</td>\n",
       "      <td>NaN</td>\n",
       "      <td>NaN</td>\n",
       "      <td>11.1</td>\n",
       "    </tr>\n",
       "    <tr>\n",
       "      <th>50156</th>\n",
       "      <td>20031024-14:30</td>\n",
       "      <td>Sm</td>\n",
       "      <td>NaN</td>\n",
       "      <td>NaN</td>\n",
       "      <td>NaN</td>\n",
       "      <td>NaN</td>\n",
       "      <td>NaN</td>\n",
       "      <td>NaN</td>\n",
       "      <td>NaN</td>\n",
       "      <td>NaN</td>\n",
       "      <td>NaN</td>\n",
       "      <td>NaN</td>\n",
       "      <td>NaN</td>\n",
       "      <td>NaN</td>\n",
       "      <td>NaN</td>\n",
       "      <td>NaN</td>\n",
       "      <td>NaN</td>\n",
       "      <td>NaN</td>\n",
       "      <td>NaN</td>\n",
       "      <td>NaN</td>\n",
       "    </tr>\n",
       "  </tbody>\n",
       "</table>\n",
       "<p>50157 rows × 20 columns</p>\n",
       "</div>"
      ],
      "text/plain": [
       "         datetime_utc  _conds   _dewptm   _fog   _hail   _heatindexm   _hum  \\\n",
       "0      19961101-11:00   Smoke       9.0    0.0     0.0           NaN   27.0   \n",
       "1      19961101-12:00   Smoke      10.0    0.0     0.0           NaN   32.0   \n",
       "2      19961101-13:00   Smoke      11.0    0.0     0.0           NaN   44.0   \n",
       "3      19961101-14:00   Smoke      10.0    0.0     0.0           NaN   41.0   \n",
       "4      19961101-16:00   Smoke      11.0    0.0     0.0           NaN   47.0   \n",
       "...               ...     ...       ...    ...     ...           ...    ...   \n",
       "50152  20031024-12:30   Smoke      13.0    0.0     0.0          27.0   42.0   \n",
       "50153  20031024-13:00   Smoke      13.0    0.0     0.0          27.0   42.0   \n",
       "50154  20031024-13:30   Smoke      13.0    0.0     0.0           NaN   44.0   \n",
       "50155  20031024-14:00    Haze      13.0    0.0     0.0           NaN   47.0   \n",
       "50156  20031024-14:30      Sm       NaN    NaN     NaN           NaN    NaN   \n",
       "\n",
       "        _precipm   _pressurem   _rain   _snow   _tempm   _thunder   _tornado  \\\n",
       "0            NaN       1010.0     0.0     0.0     30.0        0.0        0.0   \n",
       "1            NaN      -9999.0     0.0     0.0     28.0        0.0        0.0   \n",
       "2            NaN      -9999.0     0.0     0.0     24.0        0.0        0.0   \n",
       "3            NaN       1010.0     0.0     0.0     24.0        0.0        0.0   \n",
       "4            NaN       1011.0     0.0     0.0     23.0        0.0        0.0   \n",
       "...          ...          ...     ...     ...      ...        ...        ...   \n",
       "50152        NaN       1009.0     0.0     0.0     27.0        0.0        0.0   \n",
       "50153        NaN       1009.0     0.0     0.0     27.0        0.0        0.0   \n",
       "50154        NaN       1010.0     0.0     0.0     26.0        0.0        0.0   \n",
       "50155        NaN       1010.0     0.0     0.0     25.0        0.0        0.0   \n",
       "50156        NaN          NaN     NaN     NaN      NaN        NaN        NaN   \n",
       "\n",
       "        _vism   _wdird  _wdire   _wgustm   _windchillm   _wspdm  \n",
       "0         5.0    280.0    West       NaN           NaN      7.4  \n",
       "1         NaN      0.0   North       NaN           NaN      NaN  \n",
       "2         NaN      0.0   North       NaN           NaN      NaN  \n",
       "3         2.0      0.0   North       NaN           NaN      NaN  \n",
       "4         1.2      0.0   North       NaN           NaN      0.0  \n",
       "...       ...      ...     ...       ...           ...      ...  \n",
       "50152     3.0     60.0     ENE       NaN           NaN      7.4  \n",
       "50153     3.0     60.0     ENE       NaN           NaN      7.4  \n",
       "50154     3.0     60.0     ENE       NaN           NaN      9.3  \n",
       "50155     3.0     60.0     ENE       NaN           NaN     11.1  \n",
       "50156     NaN      NaN     NaN       NaN           NaN      NaN  \n",
       "\n",
       "[50157 rows x 20 columns]"
      ]
     },
     "execution_count": 12,
     "metadata": {},
     "output_type": "execute_result"
    }
   ],
   "source": [
    "features"
   ]
  },
  {
   "cell_type": "markdown",
   "metadata": {
    "colab_type": "text",
    "id": "3nyKefIFT4zq"
   },
   "source": [
    "weather_data.info()"
   ]
  },
  {
   "cell_type": "code",
   "execution_count": 13,
   "metadata": {
    "colab": {},
    "colab_type": "code",
    "id": "CgpOfC9BUL-r"
   },
   "outputs": [],
   "source": [
    "features=features.dropna(axis=1,how='all')"
   ]
  },
  {
   "cell_type": "code",
   "execution_count": 14,
   "metadata": {
    "colab": {
     "base_uri": "https://localhost:8080/",
     "height": 434
    },
    "colab_type": "code",
    "executionInfo": {
     "elapsed": 5167,
     "status": "ok",
     "timestamp": 1580829889491,
     "user": {
      "displayName": "Vikram Gurjar",
      "photoUrl": "https://lh3.googleusercontent.com/a-/AAuE7mDrO4fhxdJcubHkqTBYlW-orH5PGAF4bqglhaR47Q=s64",
      "userId": "01140798683055157388"
     },
     "user_tz": -330
    },
    "id": "Q7ZdLyI9UdU3",
    "outputId": "4d4b7916-ca80-47e0-f1e0-6e9d78edb3aa"
   },
   "outputs": [
    {
     "name": "stdout",
     "output_type": "stream",
     "text": [
      "<class 'pandas.core.frame.DataFrame'>\n",
      "RangeIndex: 50157 entries, 0 to 50156\n",
      "Data columns (total 19 columns):\n",
      " #   Column        Non-Null Count  Dtype  \n",
      "---  ------        --------------  -----  \n",
      " 0   datetime_utc  50157 non-null  object \n",
      " 1    _conds       50157 non-null  object \n",
      " 2    _dewptm      49665 non-null  float64\n",
      " 3    _fog         50156 non-null  float64\n",
      " 4    _hail        50156 non-null  float64\n",
      " 5    _heatindexm  23604 non-null  float64\n",
      " 6    _hum         49640 non-null  float64\n",
      " 7    _pressurem   50156 non-null  float64\n",
      " 8    _rain        50156 non-null  float64\n",
      " 9    _snow        50156 non-null  float64\n",
      " 10   _tempm       49680 non-null  float64\n",
      " 11   _thunder     50156 non-null  float64\n",
      " 12   _tornado     50156 non-null  float64\n",
      " 13   _vism        46586 non-null  float64\n",
      " 14   _wdird       50156 non-null  float64\n",
      " 15   _wdire       50156 non-null  object \n",
      " 16   _wgustm      782 non-null    float64\n",
      " 17   _windchillm  427 non-null    float64\n",
      " 18   _wspdm       48091 non-null  float64\n",
      "dtypes: float64(16), object(3)\n",
      "memory usage: 7.3+ MB\n"
     ]
    }
   ],
   "source": [
    "features.info()"
   ]
  },
  {
   "cell_type": "code",
   "execution_count": 15,
   "metadata": {
    "colab": {},
    "colab_type": "code",
    "id": "bo3nWY8aVVHx"
   },
   "outputs": [],
   "source": [
    "features=features.dropna(thresh=50000,axis=1)"
   ]
  },
  {
   "cell_type": "code",
   "execution_count": 16,
   "metadata": {
    "colab": {
     "base_uri": "https://localhost:8080/",
     "height": 382
    },
    "colab_type": "code",
    "executionInfo": {
     "elapsed": 5154,
     "status": "ok",
     "timestamp": 1580829889495,
     "user": {
      "displayName": "Vikram Gurjar",
      "photoUrl": "https://lh3.googleusercontent.com/a-/AAuE7mDrO4fhxdJcubHkqTBYlW-orH5PGAF4bqglhaR47Q=s64",
      "userId": "01140798683055157388"
     },
     "user_tz": -330
    },
    "id": "4Yzt-q9KVrm3",
    "outputId": "d197fbc1-7676-4ef6-8dca-9219c7471c09"
   },
   "outputs": [
    {
     "name": "stdout",
     "output_type": "stream",
     "text": [
      "<class 'pandas.core.frame.DataFrame'>\n",
      "RangeIndex: 50157 entries, 0 to 50156\n",
      "Data columns (total 11 columns):\n",
      " #   Column        Non-Null Count  Dtype  \n",
      "---  ------        --------------  -----  \n",
      " 0   datetime_utc  50157 non-null  object \n",
      " 1    _conds       50157 non-null  object \n",
      " 2    _fog         50156 non-null  float64\n",
      " 3    _hail        50156 non-null  float64\n",
      " 4    _pressurem   50156 non-null  float64\n",
      " 5    _rain        50156 non-null  float64\n",
      " 6    _snow        50156 non-null  float64\n",
      " 7    _thunder     50156 non-null  float64\n",
      " 8    _tornado     50156 non-null  float64\n",
      " 9    _wdird       50156 non-null  float64\n",
      " 10   _wdire       50156 non-null  object \n",
      "dtypes: float64(8), object(3)\n",
      "memory usage: 4.2+ MB\n"
     ]
    }
   ],
   "source": [
    "features.info()"
   ]
  },
  {
   "cell_type": "code",
   "execution_count": 17,
   "metadata": {
    "colab": {},
    "colab_type": "code",
    "id": "SuV9LjQyV7uM"
   },
   "outputs": [],
   "source": [
    " feature=features.fillna(features.mean())"
   ]
  },
  {
   "cell_type": "code",
   "execution_count": 20,
   "metadata": {
    "colab": {
     "base_uri": "https://localhost:8080/",
     "height": 382
    },
    "colab_type": "code",
    "executionInfo": {
     "elapsed": 59504,
     "status": "ok",
     "timestamp": 1580829943861,
     "user": {
      "displayName": "Vikram Gurjar",
      "photoUrl": "https://lh3.googleusercontent.com/a-/AAuE7mDrO4fhxdJcubHkqTBYlW-orH5PGAF4bqglhaR47Q=s64",
      "userId": "01140798683055157388"
     },
     "user_tz": -330
    },
    "id": "G8ClcRG0WQdE",
    "outputId": "040e6f53-3284-4b16-eb95-c7e75b5d57d7"
   },
   "outputs": [
    {
     "name": "stdout",
     "output_type": "stream",
     "text": [
      "<class 'pandas.core.frame.DataFrame'>\n",
      "RangeIndex: 50157 entries, 0 to 50156\n",
      "Data columns (total 11 columns):\n",
      " #   Column        Non-Null Count  Dtype  \n",
      "---  ------        --------------  -----  \n",
      " 0   datetime_utc  50157 non-null  object \n",
      " 1    _conds       50157 non-null  object \n",
      " 2    _fog         50157 non-null  float64\n",
      " 3    _hail        50157 non-null  float64\n",
      " 4    _pressurem   50157 non-null  float64\n",
      " 5    _rain        50157 non-null  float64\n",
      " 6    _snow        50157 non-null  float64\n",
      " 7    _thunder     50157 non-null  float64\n",
      " 8    _tornado     50157 non-null  float64\n",
      " 9    _wdird       50157 non-null  float64\n",
      " 10   _wdire       50156 non-null  object \n",
      "dtypes: float64(8), object(3)\n",
      "memory usage: 4.2+ MB\n"
     ]
    }
   ],
   "source": [
    "feature.info()"
   ]
  },
  {
   "cell_type": "markdown",
   "metadata": {
    "colab_type": "text",
    "id": "3wa3kRkSYifi"
   },
   "source": []
  },
  {
   "cell_type": "code",
   "execution_count": 22,
   "metadata": {
    "colab": {
     "base_uri": "https://localhost:8080/",
     "height": 424
    },
    "colab_type": "code",
    "executionInfo": {
     "elapsed": 54350,
     "status": "ok",
     "timestamp": 1580892928561,
     "user": {
      "displayName": "Vikram Gurjar",
      "photoUrl": "https://lh3.googleusercontent.com/a-/AAuE7mDrO4fhxdJcubHkqTBYlW-orH5PGAF4bqglhaR47Q=s64",
      "userId": "01140798683055157388"
     },
     "user_tz": -330
    },
    "id": "n58DxW3HY2uJ",
    "outputId": "014666e1-15af-4e78-a311-e976361fbaf8"
   },
   "outputs": [
    {
     "data": {
      "text/html": [
       "<div>\n",
       "<style scoped>\n",
       "    .dataframe tbody tr th:only-of-type {\n",
       "        vertical-align: middle;\n",
       "    }\n",
       "\n",
       "    .dataframe tbody tr th {\n",
       "        vertical-align: top;\n",
       "    }\n",
       "\n",
       "    .dataframe thead th {\n",
       "        text-align: right;\n",
       "    }\n",
       "</style>\n",
       "<table border=\"1\" class=\"dataframe\">\n",
       "  <thead>\n",
       "    <tr style=\"text-align: right;\">\n",
       "      <th></th>\n",
       "      <th>datetime_utc</th>\n",
       "      <th>_fog</th>\n",
       "      <th>_hail</th>\n",
       "      <th>_pressurem</th>\n",
       "      <th>_rain</th>\n",
       "      <th>_snow</th>\n",
       "      <th>_thunder</th>\n",
       "      <th>_tornado</th>\n",
       "      <th>_wdird</th>\n",
       "      <th>_wdire</th>\n",
       "    </tr>\n",
       "  </thead>\n",
       "  <tbody>\n",
       "    <tr>\n",
       "      <th>0</th>\n",
       "      <td>19961101-11:00</td>\n",
       "      <td>0.000000</td>\n",
       "      <td>0.00000</td>\n",
       "      <td>1010.00</td>\n",
       "      <td>0.000000</td>\n",
       "      <td>0.0</td>\n",
       "      <td>0.000000</td>\n",
       "      <td>0.00000</td>\n",
       "      <td>280.000000</td>\n",
       "      <td>West</td>\n",
       "    </tr>\n",
       "    <tr>\n",
       "      <th>1</th>\n",
       "      <td>19961101-12:00</td>\n",
       "      <td>0.000000</td>\n",
       "      <td>0.00000</td>\n",
       "      <td>-9999.00</td>\n",
       "      <td>0.000000</td>\n",
       "      <td>0.0</td>\n",
       "      <td>0.000000</td>\n",
       "      <td>0.00000</td>\n",
       "      <td>0.000000</td>\n",
       "      <td>North</td>\n",
       "    </tr>\n",
       "    <tr>\n",
       "      <th>2</th>\n",
       "      <td>19961101-13:00</td>\n",
       "      <td>0.000000</td>\n",
       "      <td>0.00000</td>\n",
       "      <td>-9999.00</td>\n",
       "      <td>0.000000</td>\n",
       "      <td>0.0</td>\n",
       "      <td>0.000000</td>\n",
       "      <td>0.00000</td>\n",
       "      <td>0.000000</td>\n",
       "      <td>North</td>\n",
       "    </tr>\n",
       "    <tr>\n",
       "      <th>3</th>\n",
       "      <td>19961101-14:00</td>\n",
       "      <td>0.000000</td>\n",
       "      <td>0.00000</td>\n",
       "      <td>1010.00</td>\n",
       "      <td>0.000000</td>\n",
       "      <td>0.0</td>\n",
       "      <td>0.000000</td>\n",
       "      <td>0.00000</td>\n",
       "      <td>0.000000</td>\n",
       "      <td>North</td>\n",
       "    </tr>\n",
       "    <tr>\n",
       "      <th>4</th>\n",
       "      <td>19961101-16:00</td>\n",
       "      <td>0.000000</td>\n",
       "      <td>0.00000</td>\n",
       "      <td>1011.00</td>\n",
       "      <td>0.000000</td>\n",
       "      <td>0.0</td>\n",
       "      <td>0.000000</td>\n",
       "      <td>0.00000</td>\n",
       "      <td>0.000000</td>\n",
       "      <td>North</td>\n",
       "    </tr>\n",
       "    <tr>\n",
       "      <th>...</th>\n",
       "      <td>...</td>\n",
       "      <td>...</td>\n",
       "      <td>...</td>\n",
       "      <td>...</td>\n",
       "      <td>...</td>\n",
       "      <td>...</td>\n",
       "      <td>...</td>\n",
       "      <td>...</td>\n",
       "      <td>...</td>\n",
       "      <td>...</td>\n",
       "    </tr>\n",
       "    <tr>\n",
       "      <th>50152</th>\n",
       "      <td>20031024-12:30</td>\n",
       "      <td>0.000000</td>\n",
       "      <td>0.00000</td>\n",
       "      <td>1009.00</td>\n",
       "      <td>0.000000</td>\n",
       "      <td>0.0</td>\n",
       "      <td>0.000000</td>\n",
       "      <td>0.00000</td>\n",
       "      <td>60.000000</td>\n",
       "      <td>ENE</td>\n",
       "    </tr>\n",
       "    <tr>\n",
       "      <th>50153</th>\n",
       "      <td>20031024-13:00</td>\n",
       "      <td>0.000000</td>\n",
       "      <td>0.00000</td>\n",
       "      <td>1009.00</td>\n",
       "      <td>0.000000</td>\n",
       "      <td>0.0</td>\n",
       "      <td>0.000000</td>\n",
       "      <td>0.00000</td>\n",
       "      <td>60.000000</td>\n",
       "      <td>ENE</td>\n",
       "    </tr>\n",
       "    <tr>\n",
       "      <th>50154</th>\n",
       "      <td>20031024-13:30</td>\n",
       "      <td>0.000000</td>\n",
       "      <td>0.00000</td>\n",
       "      <td>1010.00</td>\n",
       "      <td>0.000000</td>\n",
       "      <td>0.0</td>\n",
       "      <td>0.000000</td>\n",
       "      <td>0.00000</td>\n",
       "      <td>60.000000</td>\n",
       "      <td>ENE</td>\n",
       "    </tr>\n",
       "    <tr>\n",
       "      <th>50155</th>\n",
       "      <td>20031024-14:00</td>\n",
       "      <td>0.000000</td>\n",
       "      <td>0.00000</td>\n",
       "      <td>1010.00</td>\n",
       "      <td>0.000000</td>\n",
       "      <td>0.0</td>\n",
       "      <td>0.000000</td>\n",
       "      <td>0.00000</td>\n",
       "      <td>60.000000</td>\n",
       "      <td>ENE</td>\n",
       "    </tr>\n",
       "    <tr>\n",
       "      <th>50156</th>\n",
       "      <td>20031024-14:30</td>\n",
       "      <td>0.063861</td>\n",
       "      <td>0.00002</td>\n",
       "      <td>2879.48</td>\n",
       "      <td>0.022749</td>\n",
       "      <td>0.0</td>\n",
       "      <td>0.008115</td>\n",
       "      <td>0.00002</td>\n",
       "      <td>147.211361</td>\n",
       "      <td>NaN</td>\n",
       "    </tr>\n",
       "  </tbody>\n",
       "</table>\n",
       "<p>50157 rows × 10 columns</p>\n",
       "</div>"
      ],
      "text/plain": [
       "         datetime_utc      _fog    _hail   _pressurem     _rain   _snow  \\\n",
       "0      19961101-11:00  0.000000  0.00000      1010.00  0.000000     0.0   \n",
       "1      19961101-12:00  0.000000  0.00000     -9999.00  0.000000     0.0   \n",
       "2      19961101-13:00  0.000000  0.00000     -9999.00  0.000000     0.0   \n",
       "3      19961101-14:00  0.000000  0.00000      1010.00  0.000000     0.0   \n",
       "4      19961101-16:00  0.000000  0.00000      1011.00  0.000000     0.0   \n",
       "...               ...       ...      ...          ...       ...     ...   \n",
       "50152  20031024-12:30  0.000000  0.00000      1009.00  0.000000     0.0   \n",
       "50153  20031024-13:00  0.000000  0.00000      1009.00  0.000000     0.0   \n",
       "50154  20031024-13:30  0.000000  0.00000      1010.00  0.000000     0.0   \n",
       "50155  20031024-14:00  0.000000  0.00000      1010.00  0.000000     0.0   \n",
       "50156  20031024-14:30  0.063861  0.00002      2879.48  0.022749     0.0   \n",
       "\n",
       "        _thunder   _tornado      _wdird  _wdire  \n",
       "0       0.000000    0.00000  280.000000    West  \n",
       "1       0.000000    0.00000    0.000000   North  \n",
       "2       0.000000    0.00000    0.000000   North  \n",
       "3       0.000000    0.00000    0.000000   North  \n",
       "4       0.000000    0.00000    0.000000   North  \n",
       "...          ...        ...         ...     ...  \n",
       "50152   0.000000    0.00000   60.000000     ENE  \n",
       "50153   0.000000    0.00000   60.000000     ENE  \n",
       "50154   0.000000    0.00000   60.000000     ENE  \n",
       "50155   0.000000    0.00000   60.000000     ENE  \n",
       "50156   0.008115    0.00002  147.211361     NaN  \n",
       "\n",
       "[50157 rows x 10 columns]"
      ]
     },
     "execution_count": 22,
     "metadata": {},
     "output_type": "execute_result"
    }
   ],
   "source": [
    "feature.drop(columns=[' _conds'])"
   ]
  },
  {
   "cell_type": "code",
   "execution_count": 23,
   "metadata": {
    "colab": {},
    "colab_type": "code",
    "id": "5n6qazbq3pkr"
   },
   "outputs": [],
   "source": [
    "labels=weather_data[' _tempm']"
   ]
  },
  {
   "cell_type": "code",
   "execution_count": 24,
   "metadata": {
    "colab": {},
    "colab_type": "code",
    "id": "Ehf7oar26doI"
   },
   "outputs": [],
   "source": [
    "labels=labels.values"
   ]
  },
  {
   "cell_type": "code",
   "execution_count": 25,
   "metadata": {
    "colab": {},
    "colab_type": "code",
    "id": "9COXXfOD7PDm"
   },
   "outputs": [],
   "source": [
    "labels=labels.reshape(-1,1)"
   ]
  },
  {
   "cell_type": "code",
   "execution_count": 26,
   "metadata": {
    "colab": {
     "base_uri": "https://localhost:8080/",
     "height": 34
    },
    "colab_type": "code",
    "executionInfo": {
     "elapsed": 1805,
     "status": "ok",
     "timestamp": 1580894243420,
     "user": {
      "displayName": "Vikram Gurjar",
      "photoUrl": "https://lh3.googleusercontent.com/a-/AAuE7mDrO4fhxdJcubHkqTBYlW-orH5PGAF4bqglhaR47Q=s64",
      "userId": "01140798683055157388"
     },
     "user_tz": -330
    },
    "id": "tAjntq2E8L86",
    "outputId": "c9dea955-649c-494c-9a59-1f41802642fb"
   },
   "outputs": [
    {
     "data": {
      "text/plain": [
       "(50157, 1)"
      ]
     },
     "execution_count": 26,
     "metadata": {},
     "output_type": "execute_result"
    }
   ],
   "source": [
    "labels.shape"
   ]
  },
  {
   "cell_type": "code",
   "execution_count": 27,
   "metadata": {
    "colab": {},
    "colab_type": "code",
    "id": "qj5IlLI0ZOBK"
   },
   "outputs": [],
   "source": [
    "from sklearn.preprocessing import MinMaxScaler  \n",
    "scaler = MinMaxScaler(feature_range = (0, 1))\n",
    "\n",
    "weather_training_scaled = scaler.fit_transform(labels)   "
   ]
  },
  {
   "cell_type": "code",
   "execution_count": 29,
   "metadata": {
    "colab": {},
    "colab_type": "code",
    "id": "gt2CBP4A8CmG"
   },
   "outputs": [],
   "source": [
    "features_set = []  \n",
    "label_set = []  \n",
    "for i in range(50, 50150):  \n",
    "    features_set.append(weather_training_scaled[i-50:i,0])\n",
    "    label_set.append(weather_training_scaled[i, 0])"
   ]
  },
  {
   "cell_type": "code",
   "execution_count": 30,
   "metadata": {
    "colab": {
     "base_uri": "https://localhost:8080/",
     "height": 34
    },
    "colab_type": "code",
    "executionInfo": {
     "elapsed": 1861,
     "status": "ok",
     "timestamp": 1580892734238,
     "user": {
      "displayName": "Vikram Gurjar",
      "photoUrl": "https://lh3.googleusercontent.com/a-/AAuE7mDrO4fhxdJcubHkqTBYlW-orH5PGAF4bqglhaR47Q=s64",
      "userId": "01140798683055157388"
     },
     "user_tz": -330
    },
    "id": "5rwdELl29TT0",
    "outputId": "61a39c64-b809-4944-f236-d60397b7f96d"
   },
   "outputs": [
    {
     "data": {
      "text/plain": [
       "50100"
      ]
     },
     "execution_count": 30,
     "metadata": {},
     "output_type": "execute_result"
    }
   ],
   "source": [
    "len(features_set)"
   ]
  },
  {
   "cell_type": "code",
   "execution_count": 31,
   "metadata": {
    "colab": {
     "base_uri": "https://localhost:8080/",
     "height": 34
    },
    "colab_type": "code",
    "executionInfo": {
     "elapsed": 1267,
     "status": "ok",
     "timestamp": 1580892735193,
     "user": {
      "displayName": "Vikram Gurjar",
      "photoUrl": "https://lh3.googleusercontent.com/a-/AAuE7mDrO4fhxdJcubHkqTBYlW-orH5PGAF4bqglhaR47Q=s64",
      "userId": "01140798683055157388"
     },
     "user_tz": -330
    },
    "id": "lehSVQNp9WfI",
    "outputId": "133463a2-d5c1-4416-dd4e-9384fc018a0c"
   },
   "outputs": [
    {
     "data": {
      "text/plain": [
       "50100"
      ]
     },
     "execution_count": 31,
     "metadata": {},
     "output_type": "execute_result"
    }
   ],
   "source": [
    "len(label_set)"
   ]
  },
  {
   "cell_type": "code",
   "execution_count": 32,
   "metadata": {
    "colab": {},
    "colab_type": "code",
    "id": "te6Qs935-kPx"
   },
   "outputs": [],
   "source": [
    "features_set, label_set = np.array(features_set), np.array(label_set)  \n"
   ]
  },
  {
   "cell_type": "code",
   "execution_count": 33,
   "metadata": {
    "colab": {
     "base_uri": "https://localhost:8080/",
     "height": 104
    },
    "colab_type": "code",
    "executionInfo": {
     "elapsed": 909,
     "status": "ok",
     "timestamp": 1580892738249,
     "user": {
      "displayName": "Vikram Gurjar",
      "photoUrl": "https://lh3.googleusercontent.com/a-/AAuE7mDrO4fhxdJcubHkqTBYlW-orH5PGAF4bqglhaR47Q=s64",
      "userId": "01140798683055157388"
     },
     "user_tz": -330
    },
    "id": "jFbiCr9Y_KEN",
    "outputId": "0ff8e48e-9790-4639-ac6d-93b90cb24b35"
   },
   "outputs": [
    {
     "data": {
      "text/plain": [
       "array([[0.39130435, 0.36231884],\n",
       "       [0.36231884, 0.30434783],\n",
       "       [0.30434783, 0.30434783],\n",
       "       [0.30434783, 0.28985507],\n",
       "       [0.28985507, 0.26086957]])"
      ]
     },
     "execution_count": 33,
     "metadata": {},
     "output_type": "execute_result"
    }
   ],
   "source": [
    "features_set[:5,:2]"
   ]
  },
  {
   "cell_type": "code",
   "execution_count": 34,
   "metadata": {
    "colab": {},
    "colab_type": "code",
    "id": "8HJ_I3aq_WN0"
   },
   "outputs": [],
   "source": [
    "features_set = np.reshape(features_set, (features_set.shape[0], features_set.shape[1], 1))  "
   ]
  },
  {
   "cell_type": "code",
   "execution_count": 35,
   "metadata": {
    "colab": {
     "base_uri": "https://localhost:8080/",
     "height": 34
    },
    "colab_type": "code",
    "executionInfo": {
     "elapsed": 905,
     "status": "ok",
     "timestamp": 1580894270200,
     "user": {
      "displayName": "Vikram Gurjar",
      "photoUrl": "https://lh3.googleusercontent.com/a-/AAuE7mDrO4fhxdJcubHkqTBYlW-orH5PGAF4bqglhaR47Q=s64",
      "userId": "01140798683055157388"
     },
     "user_tz": -330
    },
    "id": "kFIRKdxR_afB",
    "outputId": "81aa82eb-bbb3-4f6c-ac9f-8bea7622443d"
   },
   "outputs": [
    {
     "data": {
      "text/plain": [
       "(50100, 50, 1)"
      ]
     },
     "execution_count": 35,
     "metadata": {},
     "output_type": "execute_result"
    }
   ],
   "source": [
    "features_set.shape"
   ]
  },
  {
   "cell_type": "code",
   "execution_count": 36,
   "metadata": {
    "colab": {
     "base_uri": "https://localhost:8080/",
     "height": 34
    },
    "colab_type": "code",
    "executionInfo": {
     "elapsed": 1847,
     "status": "ok",
     "timestamp": 1580892744818,
     "user": {
      "displayName": "Vikram Gurjar",
      "photoUrl": "https://lh3.googleusercontent.com/a-/AAuE7mDrO4fhxdJcubHkqTBYlW-orH5PGAF4bqglhaR47Q=s64",
      "userId": "01140798683055157388"
     },
     "user_tz": -330
    },
    "id": "5ACWoiIe8ILh",
    "outputId": "68f34b09-c263-455d-9769-00568b4c3da6"
   },
   "outputs": [
    {
     "data": {
      "text/plain": [
       "(50100,)"
      ]
     },
     "execution_count": 36,
     "metadata": {},
     "output_type": "execute_result"
    }
   ],
   "source": [
    "label_set.shape"
   ]
  },
  {
   "cell_type": "code",
   "execution_count": 37,
   "metadata": {
    "colab": {
     "base_uri": "https://localhost:8080/",
     "height": 81
    },
    "colab_type": "code",
    "executionInfo": {
     "elapsed": 3440,
     "status": "ok",
     "timestamp": 1580892747117,
     "user": {
      "displayName": "Vikram Gurjar",
      "photoUrl": "https://lh3.googleusercontent.com/a-/AAuE7mDrO4fhxdJcubHkqTBYlW-orH5PGAF4bqglhaR47Q=s64",
      "userId": "01140798683055157388"
     },
     "user_tz": -330
    },
    "id": "8nu_S_6xhQST",
    "outputId": "4cf8640a-b8c3-41e8-9c6e-e20ddc02c90c"
   },
   "outputs": [
    {
     "name": "stderr",
     "output_type": "stream",
     "text": [
      "Using TensorFlow backend.\n"
     ]
    }
   ],
   "source": [
    "from keras.models import Sequential  \n",
    "from keras.layers import Dense  \n",
    "from keras.layers import LSTM  \n",
    "from keras.layers import Dropout"
   ]
  },
  {
   "cell_type": "code",
   "execution_count": 38,
   "metadata": {
    "colab": {
     "base_uri": "https://localhost:8080/",
     "height": 72
    },
    "colab_type": "code",
    "executionInfo": {
     "elapsed": 5268,
     "status": "ok",
     "timestamp": 1580892764206,
     "user": {
      "displayName": "Vikram Gurjar",
      "photoUrl": "https://lh3.googleusercontent.com/a-/AAuE7mDrO4fhxdJcubHkqTBYlW-orH5PGAF4bqglhaR47Q=s64",
      "userId": "01140798683055157388"
     },
     "user_tz": -330
    },
    "id": "s4BRpjTmhYy5",
    "outputId": "2b9f37d2-0572-4274-df7e-c9d125a5f26f"
   },
   "outputs": [],
   "source": [
    "model = Sequential()"
   ]
  },
  {
   "cell_type": "code",
   "execution_count": 39,
   "metadata": {
    "colab": {
     "base_uri": "https://localhost:8080/",
     "height": 106
    },
    "colab_type": "code",
    "executionInfo": {
     "elapsed": 4257,
     "status": "ok",
     "timestamp": 1580892765354,
     "user": {
      "displayName": "Vikram Gurjar",
      "photoUrl": "https://lh3.googleusercontent.com/a-/AAuE7mDrO4fhxdJcubHkqTBYlW-orH5PGAF4bqglhaR47Q=s64",
      "userId": "01140798683055157388"
     },
     "user_tz": -330
    },
    "id": "0nD2Xa-vhfHd",
    "outputId": "fa06b0e9-fd1b-4836-83e5-114c967a6bc2"
   },
   "outputs": [],
   "source": [
    "model.add(LSTM(units=50, return_sequences=True, input_shape=(features_set.shape[1], 1)))  \n"
   ]
  },
  {
   "cell_type": "code",
   "execution_count": 40,
   "metadata": {
    "colab": {
     "base_uri": "https://localhost:8080/",
     "height": 124
    },
    "colab_type": "code",
    "executionInfo": {
     "elapsed": 1167,
     "status": "ok",
     "timestamp": 1580892766260,
     "user": {
      "displayName": "Vikram Gurjar",
      "photoUrl": "https://lh3.googleusercontent.com/a-/AAuE7mDrO4fhxdJcubHkqTBYlW-orH5PGAF4bqglhaR47Q=s64",
      "userId": "01140798683055157388"
     },
     "user_tz": -330
    },
    "id": "iy1crnN3hj9B",
    "outputId": "dc3fe613-d970-49ef-eb9f-5cec3349d046"
   },
   "outputs": [],
   "source": [
    "model.add(Dropout(0.2))  \n"
   ]
  },
  {
   "cell_type": "code",
   "execution_count": 41,
   "metadata": {
    "colab": {
     "base_uri": "https://localhost:8080/",
     "height": 225
    },
    "colab_type": "code",
    "executionInfo": {
     "elapsed": 1185,
     "status": "ok",
     "timestamp": 1580892770042,
     "user": {
      "displayName": "Vikram Gurjar",
      "photoUrl": "https://lh3.googleusercontent.com/a-/AAuE7mDrO4fhxdJcubHkqTBYlW-orH5PGAF4bqglhaR47Q=s64",
      "userId": "01140798683055157388"
     },
     "user_tz": -330
    },
    "id": "NYAv0eD_kMVB",
    "outputId": "037aff43-430a-4a05-ec3e-7bcb6a1a2c07"
   },
   "outputs": [
    {
     "name": "stdout",
     "output_type": "stream",
     "text": [
      "Model: \"sequential_1\"\n",
      "_________________________________________________________________\n",
      "Layer (type)                 Output Shape              Param #   \n",
      "=================================================================\n",
      "lstm_1 (LSTM)                (None, 50, 50)            10400     \n",
      "_________________________________________________________________\n",
      "dropout_1 (Dropout)          (None, 50, 50)            0         \n",
      "=================================================================\n",
      "Total params: 10,400\n",
      "Trainable params: 10,400\n",
      "Non-trainable params: 0\n",
      "_________________________________________________________________\n"
     ]
    }
   ],
   "source": [
    "model.summary()"
   ]
  },
  {
   "cell_type": "code",
   "execution_count": 42,
   "metadata": {
    "colab": {},
    "colab_type": "code",
    "id": "tNJIQw3ghoP6"
   },
   "outputs": [],
   "source": [
    "model.add(LSTM(units=50, return_sequences=True))  \n",
    "model.add(Dropout(0.2))\n",
    "\n",
    "model.add(LSTM(units=50, return_sequences=True))  \n",
    "model.add(Dropout(0.2))\n",
    "\n",
    "model.add(LSTM(units=50))  \n",
    "model.add(Dropout(0.2))  "
   ]
  },
  {
   "cell_type": "code",
   "execution_count": 43,
   "metadata": {
    "colab": {
     "base_uri": "https://localhost:8080/",
     "height": 434
    },
    "colab_type": "code",
    "executionInfo": {
     "elapsed": 1549,
     "status": "ok",
     "timestamp": 1580892777127,
     "user": {
      "displayName": "Vikram Gurjar",
      "photoUrl": "https://lh3.googleusercontent.com/a-/AAuE7mDrO4fhxdJcubHkqTBYlW-orH5PGAF4bqglhaR47Q=s64",
      "userId": "01140798683055157388"
     },
     "user_tz": -330
    },
    "id": "iWKoSnIYjYvU",
    "outputId": "b7f80ea0-823f-4cd7-e211-8a252c961bcc"
   },
   "outputs": [
    {
     "name": "stdout",
     "output_type": "stream",
     "text": [
      "Model: \"sequential_1\"\n",
      "_________________________________________________________________\n",
      "Layer (type)                 Output Shape              Param #   \n",
      "=================================================================\n",
      "lstm_1 (LSTM)                (None, 50, 50)            10400     \n",
      "_________________________________________________________________\n",
      "dropout_1 (Dropout)          (None, 50, 50)            0         \n",
      "_________________________________________________________________\n",
      "lstm_2 (LSTM)                (None, 50, 50)            20200     \n",
      "_________________________________________________________________\n",
      "dropout_2 (Dropout)          (None, 50, 50)            0         \n",
      "_________________________________________________________________\n",
      "lstm_3 (LSTM)                (None, 50, 50)            20200     \n",
      "_________________________________________________________________\n",
      "dropout_3 (Dropout)          (None, 50, 50)            0         \n",
      "_________________________________________________________________\n",
      "lstm_4 (LSTM)                (None, 50)                20200     \n",
      "_________________________________________________________________\n",
      "dropout_4 (Dropout)          (None, 50)                0         \n",
      "=================================================================\n",
      "Total params: 71,000\n",
      "Trainable params: 71,000\n",
      "Non-trainable params: 0\n",
      "_________________________________________________________________\n"
     ]
    }
   ],
   "source": [
    "model.summary()"
   ]
  },
  {
   "cell_type": "code",
   "execution_count": 44,
   "metadata": {
    "colab": {},
    "colab_type": "code",
    "id": "qIh04paNhrSo"
   },
   "outputs": [],
   "source": [
    "model.add(Dense(units = 1))  \n"
   ]
  },
  {
   "cell_type": "markdown",
   "metadata": {
    "colab_type": "text",
    "id": "hrkN8NIUwdue"
   },
   "source": [
    "units =1 regression only value output no function\n",
    "\n",
    "> Indented block\n",
    "\n"
   ]
  },
  {
   "cell_type": "code",
   "execution_count": 45,
   "metadata": {
    "colab": {},
    "colab_type": "code",
    "id": "Z_9vFnLMhuIc"
   },
   "outputs": [],
   "source": [
    "model.compile(optimizer = 'adam', loss = 'mean_squared_error')  \n"
   ]
  },
  {
   "cell_type": "code",
   "execution_count": 46,
   "metadata": {
    "colab": {
     "base_uri": "https://localhost:8080/",
     "height": 610
    },
    "colab_type": "code",
    "executionInfo": {
     "elapsed": 325879,
     "status": "ok",
     "timestamp": 1580798021048,
     "user": {
      "displayName": "Vikram Gurjar",
      "photoUrl": "https://lh3.googleusercontent.com/a-/AAuE7mDrO4fhxdJcubHkqTBYlW-orH5PGAF4bqglhaR47Q=s64",
      "userId": "01140798683055157388"
     },
     "user_tz": -330
    },
    "id": "n3YgT4Uqhylh",
    "outputId": "dbf94a6f-c9dd-4f54-bc41-059da77726c1"
   },
   "outputs": [
    {
     "name": "stdout",
     "output_type": "stream",
     "text": [
      "Epoch 1/10\n",
      "50100/50100 [==============================] - 139s 3ms/step - loss: nan\n",
      "Epoch 2/10\n",
      "50100/50100 [==============================] - 135s 3ms/step - loss: nan\n",
      "Epoch 3/10\n",
      "50100/50100 [==============================] - 134s 3ms/step - loss: nan\n",
      "Epoch 4/10\n",
      "50100/50100 [==============================] - 134s 3ms/step - loss: nan\n",
      "Epoch 5/10\n",
      "50100/50100 [==============================] - 134s 3ms/step - loss: nan\n",
      "Epoch 6/10\n",
      "50100/50100 [==============================] - 131s 3ms/step - loss: nan\n",
      "Epoch 7/10\n",
      "50100/50100 [==============================] - 131s 3ms/step - loss: nan\n",
      "Epoch 8/10\n",
      "50100/50100 [==============================] - 131s 3ms/step - loss: nan\n",
      "Epoch 9/10\n",
      "50100/50100 [==============================] - 132s 3ms/step - loss: nan\n",
      "Epoch 10/10\n",
      "50100/50100 [==============================] - 131s 3ms/step - loss: nan\n"
     ]
    },
    {
     "data": {
      "text/plain": [
       "<keras.callbacks.callbacks.History at 0x23bd3142358>"
      ]
     },
     "execution_count": 46,
     "metadata": {},
     "output_type": "execute_result"
    }
   ],
   "source": [
    "model.fit(features_set, label_set, epochs = 10, batch_size = 32)  \n"
   ]
  },
  {
   "cell_type": "code",
   "execution_count": 34,
   "metadata": {
    "colab": {
     "base_uri": "https://localhost:8080/",
     "height": 261
    },
    "colab_type": "code",
    "executionInfo": {
     "elapsed": 1707,
     "status": "ok",
     "timestamp": 1580892800477,
     "user": {
      "displayName": "Vikram Gurjar",
      "photoUrl": "https://lh3.googleusercontent.com/a-/AAuE7mDrO4fhxdJcubHkqTBYlW-orH5PGAF4bqglhaR47Q=s64",
      "userId": "01140798683055157388"
     },
     "user_tz": -330
    },
    "id": "3Jd9-cmycOSQ",
    "outputId": "105ce0ed-02aa-4ec1-fa4c-7ae589ae28f6"
   },
   "outputs": [
    {
     "data": {
      "text/html": [
       "<div>\n",
       "<style scoped>\n",
       "    .dataframe tbody tr th:only-of-type {\n",
       "        vertical-align: middle;\n",
       "    }\n",
       "\n",
       "    .dataframe tbody tr th {\n",
       "        vertical-align: top;\n",
       "    }\n",
       "\n",
       "    .dataframe thead th {\n",
       "        text-align: right;\n",
       "    }\n",
       "</style>\n",
       "<table border=\"1\" class=\"dataframe\">\n",
       "  <thead>\n",
       "    <tr style=\"text-align: right;\">\n",
       "      <th></th>\n",
       "      <th>datetime_utc</th>\n",
       "      <th>_conds</th>\n",
       "      <th>_dewptm</th>\n",
       "      <th>_fog</th>\n",
       "      <th>_hail</th>\n",
       "      <th>_heatindexm</th>\n",
       "      <th>_hum</th>\n",
       "      <th>_precipm</th>\n",
       "      <th>_pressurem</th>\n",
       "      <th>_rain</th>\n",
       "      <th>_snow</th>\n",
       "      <th>_tempm</th>\n",
       "      <th>_thunder</th>\n",
       "      <th>_tornado</th>\n",
       "      <th>_vism</th>\n",
       "      <th>_wdird</th>\n",
       "      <th>_wdire</th>\n",
       "      <th>_wgustm</th>\n",
       "      <th>_windchillm</th>\n",
       "      <th>_wspdm</th>\n",
       "    </tr>\n",
       "  </thead>\n",
       "  <tbody>\n",
       "    <tr>\n",
       "      <th>98908</th>\n",
       "      <td>20161130-12:30</td>\n",
       "      <td>Mist</td>\n",
       "      <td>17.0</td>\n",
       "      <td>0</td>\n",
       "      <td>0</td>\n",
       "      <td>NaN</td>\n",
       "      <td>78.0</td>\n",
       "      <td>NaN</td>\n",
       "      <td>1015.0</td>\n",
       "      <td>0</td>\n",
       "      <td>0</td>\n",
       "      <td>21.0</td>\n",
       "      <td>0</td>\n",
       "      <td>0</td>\n",
       "      <td>1.5</td>\n",
       "      <td>0.0</td>\n",
       "      <td>North</td>\n",
       "      <td>NaN</td>\n",
       "      <td>NaN</td>\n",
       "      <td>0.0</td>\n",
       "    </tr>\n",
       "    <tr>\n",
       "      <th>98909</th>\n",
       "      <td>20161130-13:00</td>\n",
       "      <td>Mist</td>\n",
       "      <td>16.0</td>\n",
       "      <td>0</td>\n",
       "      <td>0</td>\n",
       "      <td>NaN</td>\n",
       "      <td>83.0</td>\n",
       "      <td>NaN</td>\n",
       "      <td>1015.0</td>\n",
       "      <td>0</td>\n",
       "      <td>0</td>\n",
       "      <td>19.0</td>\n",
       "      <td>0</td>\n",
       "      <td>0</td>\n",
       "      <td>1.2</td>\n",
       "      <td>0.0</td>\n",
       "      <td>North</td>\n",
       "      <td>NaN</td>\n",
       "      <td>NaN</td>\n",
       "      <td>0.0</td>\n",
       "    </tr>\n",
       "    <tr>\n",
       "      <th>98910</th>\n",
       "      <td>20161130-15:00</td>\n",
       "      <td>Patches of Fog</td>\n",
       "      <td>16.0</td>\n",
       "      <td>1</td>\n",
       "      <td>0</td>\n",
       "      <td>NaN</td>\n",
       "      <td>90.0</td>\n",
       "      <td>NaN</td>\n",
       "      <td>1016.0</td>\n",
       "      <td>0</td>\n",
       "      <td>0</td>\n",
       "      <td>17.0</td>\n",
       "      <td>0</td>\n",
       "      <td>0</td>\n",
       "      <td>1.0</td>\n",
       "      <td>NaN</td>\n",
       "      <td>NaN</td>\n",
       "      <td>NaN</td>\n",
       "      <td>NaN</td>\n",
       "      <td>0.0</td>\n",
       "    </tr>\n",
       "    <tr>\n",
       "      <th>98911</th>\n",
       "      <td>20161130-18:00</td>\n",
       "      <td>Patches of Fog</td>\n",
       "      <td>14.0</td>\n",
       "      <td>1</td>\n",
       "      <td>0</td>\n",
       "      <td>NaN</td>\n",
       "      <td>96.0</td>\n",
       "      <td>NaN</td>\n",
       "      <td>1017.0</td>\n",
       "      <td>0</td>\n",
       "      <td>0</td>\n",
       "      <td>15.0</td>\n",
       "      <td>0</td>\n",
       "      <td>0</td>\n",
       "      <td>1.0</td>\n",
       "      <td>NaN</td>\n",
       "      <td>NaN</td>\n",
       "      <td>NaN</td>\n",
       "      <td>NaN</td>\n",
       "      <td>0.0</td>\n",
       "    </tr>\n",
       "    <tr>\n",
       "      <th>98912</th>\n",
       "      <td>20161130-21:00</td>\n",
       "      <td>Mist</td>\n",
       "      <td>13.0</td>\n",
       "      <td>0</td>\n",
       "      <td>0</td>\n",
       "      <td>NaN</td>\n",
       "      <td>95.0</td>\n",
       "      <td>NaN</td>\n",
       "      <td>1016.0</td>\n",
       "      <td>0</td>\n",
       "      <td>0</td>\n",
       "      <td>14.0</td>\n",
       "      <td>0</td>\n",
       "      <td>0</td>\n",
       "      <td>1.0</td>\n",
       "      <td>NaN</td>\n",
       "      <td>NaN</td>\n",
       "      <td>NaN</td>\n",
       "      <td>NaN</td>\n",
       "      <td>0.0</td>\n",
       "    </tr>\n",
       "  </tbody>\n",
       "</table>\n",
       "</div>"
      ],
      "text/plain": [
       "         datetime_utc          _conds  ...   _windchillm   _wspdm\n",
       "98908  20161130-12:30            Mist  ...           NaN      0.0\n",
       "98909  20161130-13:00            Mist  ...           NaN      0.0\n",
       "98910  20161130-15:00  Patches of Fog  ...           NaN      0.0\n",
       "98911  20161130-18:00  Patches of Fog  ...           NaN      0.0\n",
       "98912  20161130-21:00            Mist  ...           NaN      0.0\n",
       "\n",
       "[5 rows x 20 columns]"
      ]
     },
     "execution_count": 34,
     "metadata": {
      "tags": []
     },
     "output_type": "execute_result"
    }
   ],
   "source": [
    "weather_data.tail(5)"
   ]
  },
  {
   "cell_type": "markdown",
   "metadata": {
    "colab_type": "text",
    "id": "0WBMyS1xYw_r"
   },
   "source": [
    "Testing of the model->>>"
   ]
  },
  {
   "cell_type": "markdown",
   "metadata": {
    "colab_type": "text",
    "id": "WzwHDywut_Ty"
   },
   "source": [
    "input date lets last row +1(last date se ek jyada)  \n",
    "predict temperture value of date last row se 1 din baad"
   ]
  },
  {
   "cell_type": "code",
   "execution_count": 0,
   "metadata": {
    "colab": {},
    "colab_type": "code",
    "id": "J8tHBLEEvzyR"
   },
   "outputs": [],
   "source": [
    "#test_inputs = apple_total[len(apple_total) - len(apple_testing_complete) - 50:].values "
   ]
  },
  {
   "cell_type": "markdown",
   "metadata": {
    "colab_type": "text",
    "id": "8r9kwcN1wHiR"
   },
   "source": [
    "use it,if given a test csv file(more than one rows and take only last 50 days before data for predicition)"
   ]
  },
  {
   "cell_type": "markdown",
   "metadata": {
    "colab_type": "text",
    "id": "ODb5Ho7h5rHx"
   },
   "source": [
    "Testing the **LSTM*"
   ]
  },
  {
   "cell_type": "code",
   "execution_count": 44,
   "metadata": {
    "colab": {
     "base_uri": "https://localhost:8080/",
     "height": 424
    },
    "colab_type": "code",
    "executionInfo": {
     "elapsed": 1608,
     "status": "ok",
     "timestamp": 1580892930208,
     "user": {
      "displayName": "Vikram Gurjar",
      "photoUrl": "https://lh3.googleusercontent.com/a-/AAuE7mDrO4fhxdJcubHkqTBYlW-orH5PGAF4bqglhaR47Q=s64",
      "userId": "01140798683055157388"
     },
     "user_tz": -330
    },
    "id": "-rzx-bsMci9A",
    "outputId": "55cfba51-6737-402d-b55c-e34698562e35"
   },
   "outputs": [
    {
     "data": {
      "text/html": [
       "<div>\n",
       "<style scoped>\n",
       "    .dataframe tbody tr th:only-of-type {\n",
       "        vertical-align: middle;\n",
       "    }\n",
       "\n",
       "    .dataframe tbody tr th {\n",
       "        vertical-align: top;\n",
       "    }\n",
       "\n",
       "    .dataframe thead th {\n",
       "        text-align: right;\n",
       "    }\n",
       "</style>\n",
       "<table border=\"1\" class=\"dataframe\">\n",
       "  <thead>\n",
       "    <tr style=\"text-align: right;\">\n",
       "      <th></th>\n",
       "      <th>datetime_utc</th>\n",
       "      <th>_conds</th>\n",
       "      <th>_dewptm</th>\n",
       "      <th>_fog</th>\n",
       "      <th>_hail</th>\n",
       "      <th>_hum</th>\n",
       "      <th>_pressurem</th>\n",
       "      <th>_rain</th>\n",
       "      <th>_snow</th>\n",
       "      <th>_tempm</th>\n",
       "      <th>_thunder</th>\n",
       "      <th>_tornado</th>\n",
       "      <th>_vism</th>\n",
       "      <th>_wdird</th>\n",
       "      <th>_wdire</th>\n",
       "      <th>_wspdm</th>\n",
       "    </tr>\n",
       "  </thead>\n",
       "  <tbody>\n",
       "    <tr>\n",
       "      <th>0</th>\n",
       "      <td>19961101-11:00</td>\n",
       "      <td>Smoke</td>\n",
       "      <td>9.0</td>\n",
       "      <td>0</td>\n",
       "      <td>0</td>\n",
       "      <td>27.0</td>\n",
       "      <td>1010.0</td>\n",
       "      <td>0</td>\n",
       "      <td>0</td>\n",
       "      <td>30.0</td>\n",
       "      <td>0</td>\n",
       "      <td>0</td>\n",
       "      <td>5.0</td>\n",
       "      <td>280.0</td>\n",
       "      <td>West</td>\n",
       "      <td>7.4</td>\n",
       "    </tr>\n",
       "    <tr>\n",
       "      <th>1</th>\n",
       "      <td>19961101-12:00</td>\n",
       "      <td>Smoke</td>\n",
       "      <td>10.0</td>\n",
       "      <td>0</td>\n",
       "      <td>0</td>\n",
       "      <td>32.0</td>\n",
       "      <td>-9999.0</td>\n",
       "      <td>0</td>\n",
       "      <td>0</td>\n",
       "      <td>28.0</td>\n",
       "      <td>0</td>\n",
       "      <td>0</td>\n",
       "      <td>NaN</td>\n",
       "      <td>0.0</td>\n",
       "      <td>North</td>\n",
       "      <td>NaN</td>\n",
       "    </tr>\n",
       "    <tr>\n",
       "      <th>2</th>\n",
       "      <td>19961101-13:00</td>\n",
       "      <td>Smoke</td>\n",
       "      <td>11.0</td>\n",
       "      <td>0</td>\n",
       "      <td>0</td>\n",
       "      <td>44.0</td>\n",
       "      <td>-9999.0</td>\n",
       "      <td>0</td>\n",
       "      <td>0</td>\n",
       "      <td>24.0</td>\n",
       "      <td>0</td>\n",
       "      <td>0</td>\n",
       "      <td>NaN</td>\n",
       "      <td>0.0</td>\n",
       "      <td>North</td>\n",
       "      <td>NaN</td>\n",
       "    </tr>\n",
       "    <tr>\n",
       "      <th>3</th>\n",
       "      <td>19961101-14:00</td>\n",
       "      <td>Smoke</td>\n",
       "      <td>10.0</td>\n",
       "      <td>0</td>\n",
       "      <td>0</td>\n",
       "      <td>41.0</td>\n",
       "      <td>1010.0</td>\n",
       "      <td>0</td>\n",
       "      <td>0</td>\n",
       "      <td>24.0</td>\n",
       "      <td>0</td>\n",
       "      <td>0</td>\n",
       "      <td>2.0</td>\n",
       "      <td>0.0</td>\n",
       "      <td>North</td>\n",
       "      <td>NaN</td>\n",
       "    </tr>\n",
       "    <tr>\n",
       "      <th>4</th>\n",
       "      <td>19961101-16:00</td>\n",
       "      <td>Smoke</td>\n",
       "      <td>11.0</td>\n",
       "      <td>0</td>\n",
       "      <td>0</td>\n",
       "      <td>47.0</td>\n",
       "      <td>1011.0</td>\n",
       "      <td>0</td>\n",
       "      <td>0</td>\n",
       "      <td>23.0</td>\n",
       "      <td>0</td>\n",
       "      <td>0</td>\n",
       "      <td>1.2</td>\n",
       "      <td>0.0</td>\n",
       "      <td>North</td>\n",
       "      <td>0.0</td>\n",
       "    </tr>\n",
       "    <tr>\n",
       "      <th>...</th>\n",
       "      <td>...</td>\n",
       "      <td>...</td>\n",
       "      <td>...</td>\n",
       "      <td>...</td>\n",
       "      <td>...</td>\n",
       "      <td>...</td>\n",
       "      <td>...</td>\n",
       "      <td>...</td>\n",
       "      <td>...</td>\n",
       "      <td>...</td>\n",
       "      <td>...</td>\n",
       "      <td>...</td>\n",
       "      <td>...</td>\n",
       "      <td>...</td>\n",
       "      <td>...</td>\n",
       "      <td>...</td>\n",
       "    </tr>\n",
       "    <tr>\n",
       "      <th>98908</th>\n",
       "      <td>20161130-12:30</td>\n",
       "      <td>Mist</td>\n",
       "      <td>17.0</td>\n",
       "      <td>0</td>\n",
       "      <td>0</td>\n",
       "      <td>78.0</td>\n",
       "      <td>1015.0</td>\n",
       "      <td>0</td>\n",
       "      <td>0</td>\n",
       "      <td>21.0</td>\n",
       "      <td>0</td>\n",
       "      <td>0</td>\n",
       "      <td>1.5</td>\n",
       "      <td>0.0</td>\n",
       "      <td>North</td>\n",
       "      <td>0.0</td>\n",
       "    </tr>\n",
       "    <tr>\n",
       "      <th>98909</th>\n",
       "      <td>20161130-13:00</td>\n",
       "      <td>Mist</td>\n",
       "      <td>16.0</td>\n",
       "      <td>0</td>\n",
       "      <td>0</td>\n",
       "      <td>83.0</td>\n",
       "      <td>1015.0</td>\n",
       "      <td>0</td>\n",
       "      <td>0</td>\n",
       "      <td>19.0</td>\n",
       "      <td>0</td>\n",
       "      <td>0</td>\n",
       "      <td>1.2</td>\n",
       "      <td>0.0</td>\n",
       "      <td>North</td>\n",
       "      <td>0.0</td>\n",
       "    </tr>\n",
       "    <tr>\n",
       "      <th>98910</th>\n",
       "      <td>20161130-15:00</td>\n",
       "      <td>Patches of Fog</td>\n",
       "      <td>16.0</td>\n",
       "      <td>1</td>\n",
       "      <td>0</td>\n",
       "      <td>90.0</td>\n",
       "      <td>1016.0</td>\n",
       "      <td>0</td>\n",
       "      <td>0</td>\n",
       "      <td>17.0</td>\n",
       "      <td>0</td>\n",
       "      <td>0</td>\n",
       "      <td>1.0</td>\n",
       "      <td>NaN</td>\n",
       "      <td>NaN</td>\n",
       "      <td>0.0</td>\n",
       "    </tr>\n",
       "    <tr>\n",
       "      <th>98911</th>\n",
       "      <td>20161130-18:00</td>\n",
       "      <td>Patches of Fog</td>\n",
       "      <td>14.0</td>\n",
       "      <td>1</td>\n",
       "      <td>0</td>\n",
       "      <td>96.0</td>\n",
       "      <td>1017.0</td>\n",
       "      <td>0</td>\n",
       "      <td>0</td>\n",
       "      <td>15.0</td>\n",
       "      <td>0</td>\n",
       "      <td>0</td>\n",
       "      <td>1.0</td>\n",
       "      <td>NaN</td>\n",
       "      <td>NaN</td>\n",
       "      <td>0.0</td>\n",
       "    </tr>\n",
       "    <tr>\n",
       "      <th>98912</th>\n",
       "      <td>20161130-21:00</td>\n",
       "      <td>Mist</td>\n",
       "      <td>13.0</td>\n",
       "      <td>0</td>\n",
       "      <td>0</td>\n",
       "      <td>95.0</td>\n",
       "      <td>1016.0</td>\n",
       "      <td>0</td>\n",
       "      <td>0</td>\n",
       "      <td>14.0</td>\n",
       "      <td>0</td>\n",
       "      <td>0</td>\n",
       "      <td>1.0</td>\n",
       "      <td>NaN</td>\n",
       "      <td>NaN</td>\n",
       "      <td>0.0</td>\n",
       "    </tr>\n",
       "  </tbody>\n",
       "</table>\n",
       "<p>98913 rows × 16 columns</p>\n",
       "</div>"
      ],
      "text/plain": [
       "         datetime_utc          _conds   _dewptm  ...   _wdird   _wdire   _wspdm\n",
       "0      19961101-11:00           Smoke       9.0  ...    280.0     West      7.4\n",
       "1      19961101-12:00           Smoke      10.0  ...      0.0    North      NaN\n",
       "2      19961101-13:00           Smoke      11.0  ...      0.0    North      NaN\n",
       "3      19961101-14:00           Smoke      10.0  ...      0.0    North      NaN\n",
       "4      19961101-16:00           Smoke      11.0  ...      0.0    North      0.0\n",
       "...               ...             ...       ...  ...      ...      ...      ...\n",
       "98908  20161130-12:30            Mist      17.0  ...      0.0    North      0.0\n",
       "98909  20161130-13:00            Mist      16.0  ...      0.0    North      0.0\n",
       "98910  20161130-15:00  Patches of Fog      16.0  ...      NaN      NaN      0.0\n",
       "98911  20161130-18:00  Patches of Fog      14.0  ...      NaN      NaN      0.0\n",
       "98912  20161130-21:00            Mist      13.0  ...      NaN      NaN      0.0\n",
       "\n",
       "[98913 rows x 16 columns]"
      ]
     },
     "execution_count": 44,
     "metadata": {
      "tags": []
     },
     "output_type": "execute_result"
    }
   ],
   "source": [
    "features"
   ]
  },
  {
   "cell_type": "code",
   "execution_count": 0,
   "metadata": {
    "colab": {},
    "colab_type": "code",
    "id": "Rw3VHegQ622r"
   },
   "outputs": [],
   "source": [
    "features.Date = pd.to_datetime(features.datetime_utc)"
   ]
  },
  {
   "cell_type": "code",
   "execution_count": 121,
   "metadata": {
    "colab": {
     "base_uri": "https://localhost:8080/",
     "height": 34
    },
    "colab_type": "code",
    "executionInfo": {
     "elapsed": 27875,
     "status": "ok",
     "timestamp": 1580894311618,
     "user": {
      "displayName": "Vikram Gurjar",
      "photoUrl": "https://lh3.googleusercontent.com/a-/AAuE7mDrO4fhxdJcubHkqTBYlW-orH5PGAF4bqglhaR47Q=s64",
      "userId": "01140798683055157388"
     },
     "user_tz": -330
    },
    "id": "jiemAaE77ymQ",
    "outputId": "71fb5744-5c14-4817-a4fc-d69b8542203e"
   },
   "outputs": [
    {
     "name": "stdout",
     "output_type": "stream",
     "text": [
      "Input date in mm-dd-yyyy format11-02-2016\n"
     ]
    }
   ],
   "source": [
    "date = pd.to_datetime(input('Input date in mm-dd-yyyy format'))\n"
   ]
  },
  {
   "cell_type": "code",
   "execution_count": 0,
   "metadata": {
    "colab": {},
    "colab_type": "code",
    "id": "9p0QNqLX7fXd"
   },
   "outputs": [],
   "source": [
    "a=features.loc[(features.Date == date)]"
   ]
  },
  {
   "cell_type": "code",
   "execution_count": 123,
   "metadata": {
    "colab": {
     "base_uri": "https://localhost:8080/",
     "height": 52
    },
    "colab_type": "code",
    "executionInfo": {
     "elapsed": 1270,
     "status": "ok",
     "timestamp": 1580894318795,
     "user": {
      "displayName": "Vikram Gurjar",
      "photoUrl": "https://lh3.googleusercontent.com/a-/AAuE7mDrO4fhxdJcubHkqTBYlW-orH5PGAF4bqglhaR47Q=s64",
      "userId": "01140798683055157388"
     },
     "user_tz": -330
    },
    "id": "v6A4kijElAzW",
    "outputId": "14c3c0ee-d97e-4caa-e391-ef2c2f6c2911"
   },
   "outputs": [
    {
     "name": "stdout",
     "output_type": "stream",
     "text": [
      "98245    17.0\n",
      "Name:  _tempm, dtype: float64\n"
     ]
    }
   ],
   "source": [
    "print(a[' _tempm'])"
   ]
  },
  {
   "cell_type": "code",
   "execution_count": 0,
   "metadata": {
    "colab": {},
    "colab_type": "code",
    "id": "DpdZI0s67rAJ"
   },
   "outputs": [],
   "source": [
    "test_inputs=features.loc[(a.index[0]-50):a.index[0]-1,[' _tempm']].values\n",
    "#end=a.index[0]"
   ]
  },
  {
   "cell_type": "code",
   "execution_count": 125,
   "metadata": {
    "colab": {
     "base_uri": "https://localhost:8080/",
     "height": 34
    },
    "colab_type": "code",
    "executionInfo": {
     "elapsed": 1673,
     "status": "ok",
     "timestamp": 1580894333372,
     "user": {
      "displayName": "Vikram Gurjar",
      "photoUrl": "https://lh3.googleusercontent.com/a-/AAuE7mDrO4fhxdJcubHkqTBYlW-orH5PGAF4bqglhaR47Q=s64",
      "userId": "01140798683055157388"
     },
     "user_tz": -330
    },
    "id": "Mx3Rvpha1pbh",
    "outputId": "aaaaac63-ce5f-4fd5-81c7-48f1496518d5"
   },
   "outputs": [
    {
     "data": {
      "text/plain": [
       "(50, 1)"
      ]
     },
     "execution_count": 125,
     "metadata": {
      "tags": []
     },
     "output_type": "execute_result"
    }
   ],
   "source": [
    "test_inputs.shape"
   ]
  },
  {
   "cell_type": "code",
   "execution_count": 0,
   "metadata": {
    "colab": {},
    "colab_type": "code",
    "id": "MwzcEYTJ4I3I"
   },
   "outputs": [],
   "source": [
    "test_inputs"
   ]
  },
  {
   "cell_type": "code",
   "execution_count": 0,
   "metadata": {
    "colab": {},
    "colab_type": "code",
    "id": "zq3E3PmdaHIz"
   },
   "outputs": [],
   "source": [
    "test_inputs = scaler.transform(test_inputs)  "
   ]
  },
  {
   "cell_type": "code",
   "execution_count": 0,
   "metadata": {
    "colab": {},
    "colab_type": "code",
    "id": "8O48KHEEis7v"
   },
   "outputs": [],
   "source": [
    "test_features = np.array(test_inputs) "
   ]
  },
  {
   "cell_type": "code",
   "execution_count": 0,
   "metadata": {
    "colab": {},
    "colab_type": "code",
    "id": "292yMfoQiu4O"
   },
   "outputs": [],
   "source": [
    "test_features =test_features.reshape(1,-1)"
   ]
  },
  {
   "cell_type": "code",
   "execution_count": 0,
   "metadata": {
    "colab": {},
    "colab_type": "code",
    "id": "ZuIGNfR-oYE1"
   },
   "outputs": [],
   "source": [
    "test_features = np.reshape(test_features, (test_features.shape[0], test_features.shape[1], 1))  "
   ]
  },
  {
   "cell_type": "code",
   "execution_count": 131,
   "metadata": {
    "colab": {
     "base_uri": "https://localhost:8080/",
     "height": 34
    },
    "colab_type": "code",
    "executionInfo": {
     "elapsed": 968,
     "status": "ok",
     "timestamp": 1580894363793,
     "user": {
      "displayName": "Vikram Gurjar",
      "photoUrl": "https://lh3.googleusercontent.com/a-/AAuE7mDrO4fhxdJcubHkqTBYlW-orH5PGAF4bqglhaR47Q=s64",
      "userId": "01140798683055157388"
     },
     "user_tz": -330
    },
    "id": "qzQZIIwBoiWf",
    "outputId": "27f83b4b-e0c4-4e0a-965c-2895317f4368"
   },
   "outputs": [
    {
     "data": {
      "text/plain": [
       "(1, 50, 1)"
      ]
     },
     "execution_count": 131,
     "metadata": {
      "tags": []
     },
     "output_type": "execute_result"
    }
   ],
   "source": [
    "test_features.shape"
   ]
  },
  {
   "cell_type": "code",
   "execution_count": 0,
   "metadata": {
    "colab": {},
    "colab_type": "code",
    "id": "zwYMteyYodZn"
   },
   "outputs": [],
   "source": [
    "predictions = model.predict(test_features)  "
   ]
  },
  {
   "cell_type": "code",
   "execution_count": 133,
   "metadata": {
    "colab": {
     "base_uri": "https://localhost:8080/",
     "height": 34
    },
    "colab_type": "code",
    "executionInfo": {
     "elapsed": 931,
     "status": "ok",
     "timestamp": 1580894368582,
     "user": {
      "displayName": "Vikram Gurjar",
      "photoUrl": "https://lh3.googleusercontent.com/a-/AAuE7mDrO4fhxdJcubHkqTBYlW-orH5PGAF4bqglhaR47Q=s64",
      "userId": "01140798683055157388"
     },
     "user_tz": -330
    },
    "id": "Ak1R4qagrNt0",
    "outputId": "c2f30ff7-cb7e-404f-d54e-a7f34f2a0198"
   },
   "outputs": [
    {
     "name": "stdout",
     "output_type": "stream",
     "text": [
      "-0.008919632\n"
     ]
    }
   ],
   "source": [
    "print(predictions[0][0])"
   ]
  },
  {
   "cell_type": "markdown",
   "metadata": {
    "colab_type": "text",
    "id": "2gUm_s4upnOm"
   },
   "source": [
    "Since we scaled our data, the predictions made by the LSTM are also scaled. We need to reverse the scaled prediction back to their actual values. To do so, we can use the ìnverse_transform method of the scaler object we created during training."
   ]
  },
  {
   "cell_type": "code",
   "execution_count": 0,
   "metadata": {
    "colab": {},
    "colab_type": "code",
    "id": "1PkwKLPtpqWY"
   },
   "outputs": [],
   "source": [
    "predictions = scaler.inverse_transform(predictions)"
   ]
  },
  {
   "cell_type": "code",
   "execution_count": 135,
   "metadata": {
    "colab": {
     "base_uri": "https://localhost:8080/",
     "height": 34
    },
    "colab_type": "code",
    "executionInfo": {
     "elapsed": 1184,
     "status": "ok",
     "timestamp": 1580894376710,
     "user": {
      "displayName": "Vikram Gurjar",
      "photoUrl": "https://lh3.googleusercontent.com/a-/AAuE7mDrO4fhxdJcubHkqTBYlW-orH5PGAF4bqglhaR47Q=s64",
      "userId": "01140798683055157388"
     },
     "user_tz": -330
    },
    "id": "1fhAGm5pq_6H",
    "outputId": "65ff8b1e-2ff0-4931-9095-521fa4b01294"
   },
   "outputs": [
    {
     "data": {
      "text/plain": [
       "0.20615275"
      ]
     },
     "execution_count": 135,
     "metadata": {
      "tags": []
     },
     "output_type": "execute_result"
    }
   ],
   "source": [
    "predictions[0][0]"
   ]
  },
  {
   "cell_type": "markdown",
   "metadata": {
    "colab_type": "text",
    "id": "HR8YUr-53eLl"
   },
   "source": [
    "**Testing the model by using test csv file**"
   ]
  },
  {
   "cell_type": "code",
   "execution_count": 0,
   "metadata": {
    "colab": {},
    "colab_type": "code",
    "id": "UWwhTRWyqvTt"
   },
   "outputs": [],
   "source": [
    "weather_data_test = pd.read_csv('weather_data_test.csv')  \n",
    "weather_processed = weather_data_test.iloc[:,1:2].values  \n"
   ]
  },
  {
   "cell_type": "code",
   "execution_count": 297,
   "metadata": {
    "colab": {
     "base_uri": "https://localhost:8080/",
     "height": 364
    },
    "colab_type": "code",
    "executionInfo": {
     "elapsed": 941,
     "status": "ok",
     "timestamp": 1580898855945,
     "user": {
      "displayName": "Vikram Gurjar",
      "photoUrl": "https://lh3.googleusercontent.com/a-/AAuE7mDrO4fhxdJcubHkqTBYlW-orH5PGAF4bqglhaR47Q=s64",
      "userId": "01140798683055157388"
     },
     "user_tz": -330
    },
    "id": "hsyQzxeU5QfP",
    "outputId": "578b4e7a-3bdb-4b1f-814d-1dc873710447"
   },
   "outputs": [
    {
     "data": {
      "text/plain": [
       "array([[16.],\n",
       "       [16.],\n",
       "       [16.],\n",
       "       [17.],\n",
       "       [19.],\n",
       "       [21.],\n",
       "       [23.],\n",
       "       [26.],\n",
       "       [26.],\n",
       "       [26.],\n",
       "       [25.],\n",
       "       [25.],\n",
       "       [25.],\n",
       "       [24.],\n",
       "       [23.],\n",
       "       [21.],\n",
       "       [19.],\n",
       "       [17.],\n",
       "       [15.],\n",
       "       [14.]])"
      ]
     },
     "execution_count": 297,
     "metadata": {
      "tags": []
     },
     "output_type": "execute_result"
    }
   ],
   "source": [
    "weather_processed"
   ]
  },
  {
   "cell_type": "code",
   "execution_count": 298,
   "metadata": {
    "colab": {
     "base_uri": "https://localhost:8080/",
     "height": 34
    },
    "colab_type": "code",
    "executionInfo": {
     "elapsed": 1162,
     "status": "ok",
     "timestamp": 1580898859932,
     "user": {
      "displayName": "Vikram Gurjar",
      "photoUrl": "https://lh3.googleusercontent.com/a-/AAuE7mDrO4fhxdJcubHkqTBYlW-orH5PGAF4bqglhaR47Q=s64",
      "userId": "01140798683055157388"
     },
     "user_tz": -330
    },
    "id": "UntJbbwBz7ku",
    "outputId": "fa390a92-ecf4-4932-b41a-10f12c7c1a3b"
   },
   "outputs": [
    {
     "data": {
      "text/plain": [
       "(20, 2)"
      ]
     },
     "execution_count": 298,
     "metadata": {
      "tags": []
     },
     "output_type": "execute_result"
    }
   ],
   "source": [
    "weather_data_test.shape"
   ]
  },
  {
   "cell_type": "code",
   "execution_count": 0,
   "metadata": {
    "colab": {},
    "colab_type": "code",
    "id": "D45Az7yu0eqp"
   },
   "outputs": [],
   "source": [
    "apple_total = pd.concat((weather_data[' _tempm'], weather_data_test[' _tempm']), axis=0)\n"
   ]
  },
  {
   "cell_type": "code",
   "execution_count": 300,
   "metadata": {
    "colab": {
     "base_uri": "https://localhost:8080/",
     "height": 34
    },
    "colab_type": "code",
    "executionInfo": {
     "elapsed": 1335,
     "status": "ok",
     "timestamp": 1580898865560,
     "user": {
      "displayName": "Vikram Gurjar",
      "photoUrl": "https://lh3.googleusercontent.com/a-/AAuE7mDrO4fhxdJcubHkqTBYlW-orH5PGAF4bqglhaR47Q=s64",
      "userId": "01140798683055157388"
     },
     "user_tz": -330
    },
    "id": "VfNdA8wL1bHL",
    "outputId": "dfe520a2-59be-4f91-f04b-066a3a401ee7"
   },
   "outputs": [
    {
     "data": {
      "text/plain": [
       "(98933,)"
      ]
     },
     "execution_count": 300,
     "metadata": {
      "tags": []
     },
     "output_type": "execute_result"
    }
   ],
   "source": [
    "apple_total.shape"
   ]
  },
  {
   "cell_type": "code",
   "execution_count": 0,
   "metadata": {
    "colab": {},
    "colab_type": "code",
    "id": "c6Z3y8KI1lGq"
   },
   "outputs": [],
   "source": [
    "test_inputs = apple_total[len(apple_total) - len(weather_data_test) - 50:].values "
   ]
  },
  {
   "cell_type": "code",
   "execution_count": 302,
   "metadata": {
    "colab": {
     "base_uri": "https://localhost:8080/",
     "height": 34
    },
    "colab_type": "code",
    "executionInfo": {
     "elapsed": 939,
     "status": "ok",
     "timestamp": 1580898867365,
     "user": {
      "displayName": "Vikram Gurjar",
      "photoUrl": "https://lh3.googleusercontent.com/a-/AAuE7mDrO4fhxdJcubHkqTBYlW-orH5PGAF4bqglhaR47Q=s64",
      "userId": "01140798683055157388"
     },
     "user_tz": -330
    },
    "id": "zjqGpoog1yfs",
    "outputId": "ad9255cf-cb27-4488-c832-e2a931192b64"
   },
   "outputs": [
    {
     "data": {
      "text/plain": [
       "(70,)"
      ]
     },
     "execution_count": 302,
     "metadata": {
      "tags": []
     },
     "output_type": "execute_result"
    }
   ],
   "source": [
    "test_inputs.shape"
   ]
  },
  {
   "cell_type": "code",
   "execution_count": 0,
   "metadata": {
    "colab": {},
    "colab_type": "code",
    "id": "3Hzo6Jyc2kd5"
   },
   "outputs": [],
   "source": [
    "test_inputs = test_inputs.reshape(-1,1) "
   ]
  },
  {
   "cell_type": "code",
   "execution_count": 0,
   "metadata": {
    "colab": {},
    "colab_type": "code",
    "id": "1ooGhpSP2aDC"
   },
   "outputs": [],
   "source": [
    "test_inputs = scaler.transform(test_inputs)  "
   ]
  },
  {
   "cell_type": "code",
   "execution_count": 305,
   "metadata": {
    "colab": {
     "base_uri": "https://localhost:8080/",
     "height": 34
    },
    "colab_type": "code",
    "executionInfo": {
     "elapsed": 981,
     "status": "ok",
     "timestamp": 1580898875123,
     "user": {
      "displayName": "Vikram Gurjar",
      "photoUrl": "https://lh3.googleusercontent.com/a-/AAuE7mDrO4fhxdJcubHkqTBYlW-orH5PGAF4bqglhaR47Q=s64",
      "userId": "01140798683055157388"
     },
     "user_tz": -330
    },
    "id": "-t9So88q0nqm",
    "outputId": "a9436f26-19af-416a-860a-cb1d1e98c46b"
   },
   "outputs": [
    {
     "data": {
      "text/plain": [
       "array([0.31460674])"
      ]
     },
     "execution_count": 305,
     "metadata": {
      "tags": []
     },
     "output_type": "execute_result"
    }
   ],
   "source": [
    "test_inputs[0]"
   ]
  },
  {
   "cell_type": "code",
   "execution_count": 0,
   "metadata": {
    "colab": {},
    "colab_type": "code",
    "id": "604uBn0jYD79"
   },
   "outputs": [],
   "source": [
    "test_features = []  \n",
    "for i in range(50, 70):  \n",
    "    test_features.append(test_inputs[i-50:i, 0])\n"
   ]
  },
  {
   "cell_type": "code",
   "execution_count": 0,
   "metadata": {
    "colab": {},
    "colab_type": "code",
    "id": "zJM9YEyB1pWt"
   },
   "outputs": [],
   "source": [
    "test_features = np.array(test_features) "
   ]
  },
  {
   "cell_type": "code",
   "execution_count": 308,
   "metadata": {
    "colab": {
     "base_uri": "https://localhost:8080/",
     "height": 34
    },
    "colab_type": "code",
    "executionInfo": {
     "elapsed": 1172,
     "status": "ok",
     "timestamp": 1580898882061,
     "user": {
      "displayName": "Vikram Gurjar",
      "photoUrl": "https://lh3.googleusercontent.com/a-/AAuE7mDrO4fhxdJcubHkqTBYlW-orH5PGAF4bqglhaR47Q=s64",
      "userId": "01140798683055157388"
     },
     "user_tz": -330
    },
    "id": "6Xr_NB0_1rIA",
    "outputId": "744ad6db-628e-42f1-a2bc-b49b516ba644"
   },
   "outputs": [
    {
     "data": {
      "text/plain": [
       "(20, 50)"
      ]
     },
     "execution_count": 308,
     "metadata": {
      "tags": []
     },
     "output_type": "execute_result"
    }
   ],
   "source": [
    "test_features.shape"
   ]
  },
  {
   "cell_type": "code",
   "execution_count": 0,
   "metadata": {
    "colab": {},
    "colab_type": "code",
    "id": "B7hbFs7MYhG1"
   },
   "outputs": [],
   "source": [
    " \n",
    "test_features = np.reshape(test_features, (test_features.shape[0], test_features.shape[1], 1))  "
   ]
  },
  {
   "cell_type": "code",
   "execution_count": 310,
   "metadata": {
    "colab": {
     "base_uri": "https://localhost:8080/",
     "height": 34
    },
    "colab_type": "code",
    "executionInfo": {
     "elapsed": 952,
     "status": "ok",
     "timestamp": 1580898886002,
     "user": {
      "displayName": "Vikram Gurjar",
      "photoUrl": "https://lh3.googleusercontent.com/a-/AAuE7mDrO4fhxdJcubHkqTBYlW-orH5PGAF4bqglhaR47Q=s64",
      "userId": "01140798683055157388"
     },
     "user_tz": -330
    },
    "id": "hTjiSLXD1xid",
    "outputId": "6cead627-ec52-461d-f478-c70c56514a92"
   },
   "outputs": [
    {
     "data": {
      "text/plain": [
       "(20, 50, 1)"
      ]
     },
     "execution_count": 310,
     "metadata": {
      "tags": []
     },
     "output_type": "execute_result"
    }
   ],
   "source": [
    "test_features.shape"
   ]
  },
  {
   "cell_type": "code",
   "execution_count": 0,
   "metadata": {
    "colab": {},
    "colab_type": "code",
    "id": "od9zWWppYoXu"
   },
   "outputs": [],
   "source": [
    "predictions = model.predict(test_features)  "
   ]
  },
  {
   "cell_type": "code",
   "execution_count": 0,
   "metadata": {
    "colab": {},
    "colab_type": "code",
    "id": "GF75083hYpZ0"
   },
   "outputs": [],
   "source": [
    "predictions = scaler.inverse_transform(predictions)"
   ]
  },
  {
   "cell_type": "code",
   "execution_count": 313,
   "metadata": {
    "colab": {
     "base_uri": "https://localhost:8080/",
     "height": 364
    },
    "colab_type": "code",
    "executionInfo": {
     "elapsed": 811,
     "status": "ok",
     "timestamp": 1580898893269,
     "user": {
      "displayName": "Vikram Gurjar",
      "photoUrl": "https://lh3.googleusercontent.com/a-/AAuE7mDrO4fhxdJcubHkqTBYlW-orH5PGAF4bqglhaR47Q=s64",
      "userId": "01140798683055157388"
     },
     "user_tz": -330
    },
    "id": "c2BUUe_r21rd",
    "outputId": "0c8ee7b3-5e10-4444-f595-788d35c1ed78"
   },
   "outputs": [
    {
     "data": {
      "text/plain": [
       "array([[0.3635331 ],\n",
       "       [0.36100456],\n",
       "       [0.3609501 ],\n",
       "       [0.36326048],\n",
       "       [0.36763096],\n",
       "       [0.3735638 ],\n",
       "       [0.38044944],\n",
       "       [0.38750124],\n",
       "       [0.39391643],\n",
       "       [0.39893657],\n",
       "       [0.40196988],\n",
       "       [0.40274632],\n",
       "       [0.40124017],\n",
       "       [0.39767504],\n",
       "       [0.39233837],\n",
       "       [0.38565707],\n",
       "       [0.37817317],\n",
       "       [0.37054735],\n",
       "       [0.36347944],\n",
       "       [0.3576777 ]], dtype=float32)"
      ]
     },
     "execution_count": 313,
     "metadata": {
      "tags": []
     },
     "output_type": "execute_result"
    }
   ],
   "source": [
    "predictions"
   ]
  },
  {
   "cell_type": "code",
   "execution_count": 314,
   "metadata": {
    "colab": {
     "base_uri": "https://localhost:8080/",
     "height": 404
    },
    "colab_type": "code",
    "executionInfo": {
     "elapsed": 1478,
     "status": "ok",
     "timestamp": 1580898905230,
     "user": {
      "displayName": "Vikram Gurjar",
      "photoUrl": "https://lh3.googleusercontent.com/a-/AAuE7mDrO4fhxdJcubHkqTBYlW-orH5PGAF4bqglhaR47Q=s64",
      "userId": "01140798683055157388"
     },
     "user_tz": -330
    },
    "id": "ZgRrB14a3A4G",
    "outputId": "459f86bc-487c-4906-9919-2edd04e3e786"
   },
   "outputs": [
    {
     "data": {
      "image/png": "[encoded data removed]",
      "text/plain": [
       "<Figure size 720x432 with 1 Axes>"
      ]
     },
     "metadata": {
      "tags": []
     },
     "output_type": "display_data"
    }
   ],
   "source": [
    "plt.figure(figsize=(10,6))  \n",
    "plt.plot(weather_processed, color='green', label='Actual weather data')  \n",
    "plt.plot(predictions , color='red', label='Predicted weather data')  \n",
    "plt.title('weather Prediction')  \n",
    "plt.xlabel('Date')  \n",
    "plt.ylabel('weather temp')  \n",
    "plt.legend()  \n",
    "plt.show()  "
   ]
  },
  {
   "cell_type": "markdown",
   "metadata": {
    "colab_type": "text",
    "id": "ovZtpxKuZAhy"
   },
   "source": [
    "Conclusion\n",
    "A long short-term memory network (LSTM) is one of the most commonly used neural networks for time series analysis. The ability of LSTM to remember previous information makes it ideal for such tasks. In this article, we saw how we can use LSTM for the Apple stock price prediction."
   ]
  },
  {
   "cell_type": "markdown",
   "metadata": {
    "colab_type": "text",
    "id": "HDnGdYq1_qHg"
   },
   "source": [
    "pickle file creation for model"
   ]
  },
  {
   "cell_type": "code",
   "execution_count": 0,
   "metadata": {
    "colab": {},
    "colab_type": "code",
    "id": "3z5E1m2Q_pMf"
   },
   "outputs": [],
   "source": [
    "import os\n",
    "import pickle\n",
    "path=os.getcwd()"
   ]
  },
  {
   "cell_type": "code",
   "execution_count": 162,
   "metadata": {
    "colab": {
     "base_uri": "https://localhost:8080/",
     "height": 34
    },
    "colab_type": "code",
    "executionInfo": {
     "elapsed": 906,
     "status": "ok",
     "timestamp": 1580895771255,
     "user": {
      "displayName": "Vikram Gurjar",
      "photoUrl": "https://lh3.googleusercontent.com/a-/AAuE7mDrO4fhxdJcubHkqTBYlW-orH5PGAF4bqglhaR47Q=s64",
      "userId": "01140798683055157388"
     },
     "user_tz": -330
    },
    "id": "UVrH6di0_yej",
    "outputId": "a375b873-25a3-43bb-bbca-d8ce3b810c47"
   },
   "outputs": [
    {
     "data": {
      "text/plain": [
       "'/content/drive/My Drive/FSDP2019_DEEP_LEARNING/forskfssdpcodechallengesday31/weather'"
      ]
     },
     "execution_count": 162,
     "metadata": {
      "tags": []
     },
     "output_type": "execute_result"
    }
   ],
   "source": [
    "path"
   ]
  },
  {
   "cell_type": "code",
   "execution_count": 0,
   "metadata": {
    "colab": {},
    "colab_type": "code",
    "id": "PeAqNEfM_zwS"
   },
   "outputs": [],
   "source": [
    "# Dump the trained model with Pickle file\n",
    "lstm_pkl_filename ='lstm_google.pkl'"
   ]
  },
  {
   "cell_type": "code",
   "execution_count": 0,
   "metadata": {
    "colab": {},
    "colab_type": "code",
    "id": "kew8RrMMAaRr"
   },
   "outputs": [],
   "source": [
    "# Open the file to save as pkl file\n",
    "lstm_model_pkl = open(lstm_pkl_filename, 'wb')"
   ]
  },
  {
   "cell_type": "code",
   "execution_count": 0,
   "metadata": {
    "colab": {},
    "colab_type": "code",
    "id": "s-0viOqaAlai"
   },
   "outputs": [],
   "source": [
    "pickle.dump(model,lstm_model_pkl)\n",
    "# Close the pickle instances\n",
    "lstm_model_pkl.close()\n"
   ]
  },
  {
   "cell_type": "code",
   "execution_count": 0,
   "metadata": {
    "colab": {},
    "colab_type": "code",
    "id": "1UNsPbhqBa1J"
   },
   "outputs": [],
   "source": [
    "\n",
    "# Loading the saved  model pickle\n",
    "lstm_model_pkl = open('lstm_google.pkl', 'rb')\n",
    "lstm_model = pickle.load(lstm_model_pkl)"
   ]
  },
  {
   "cell_type": "code",
   "execution_count": 167,
   "metadata": {
    "colab": {
     "base_uri": "https://localhost:8080/",
     "height": 34
    },
    "colab_type": "code",
    "executionInfo": {
     "elapsed": 1696,
     "status": "ok",
     "timestamp": 1580895792814,
     "user": {
      "displayName": "Vikram Gurjar",
      "photoUrl": "https://lh3.googleusercontent.com/a-/AAuE7mDrO4fhxdJcubHkqTBYlW-orH5PGAF4bqglhaR47Q=s64",
      "userId": "01140798683055157388"
     },
     "user_tz": -330
    },
    "id": "cDM01R2jByJt",
    "outputId": "270b1cbc-dad7-4971-d352-a7e83ad973a9"
   },
   "outputs": [
    {
     "name": "stdout",
     "output_type": "stream",
     "text": [
      "Loaded lstm model ::  <keras.engine.sequential.Sequential object at 0x7f6ee8c80860>\n"
     ]
    }
   ],
   "source": [
    "print (\"Loaded lstm model :: \", lstm_model)"
   ]
  },
  {
   "cell_type": "code",
   "execution_count": 0,
   "metadata": {
    "colab": {},
    "colab_type": "code",
    "id": "A5nR9jfLCtFE"
   },
   "outputs": [],
   "source": [
    "predictions2 = lstm_model.predict(test_features)  "
   ]
  },
  {
   "cell_type": "code",
   "execution_count": 169,
   "metadata": {
    "colab": {
     "base_uri": "https://localhost:8080/",
     "height": 34
    },
    "colab_type": "code",
    "executionInfo": {
     "elapsed": 2181,
     "status": "ok",
     "timestamp": 1580895801022,
     "user": {
      "displayName": "Vikram Gurjar",
      "photoUrl": "https://lh3.googleusercontent.com/a-/AAuE7mDrO4fhxdJcubHkqTBYlW-orH5PGAF4bqglhaR47Q=s64",
      "userId": "01140798683055157388"
     },
     "user_tz": -330
    },
    "id": "6yqZcTXvCxxU",
    "outputId": "3e19353b-f02a-4a83-8575-040d7359f1f5"
   },
   "outputs": [
    {
     "data": {
      "text/plain": [
       "array([[-0.00891963]], dtype=float32)"
      ]
     },
     "execution_count": 169,
     "metadata": {
      "tags": []
     },
     "output_type": "execute_result"
    }
   ],
   "source": [
    "predictions2"
   ]
  },
  {
   "cell_type": "code",
   "execution_count": 51,
   "metadata": {},
   "outputs": [
    {
     "data": {
      "text/plain": [
       "''"
      ]
     },
     "execution_count": 51,
     "metadata": {},
     "output_type": "execute_result"
    }
   ],
   "source": [
    "tf.test.gpu_device_name()"
   ]
  },
  {
   "cell_type": "code",
   "execution_count": 48,
   "metadata": {},
   "outputs": [],
   "source": [
    "import tensorflow as tf"
   ]
  },
  {
   "cell_type": "code",
   "execution_count": 52,
   "metadata": {},
   "outputs": [],
   "source": [
    "import tensorflow_core\n"
   ]
  },
  {
   "cell_type": "code",
   "execution_count": 53,
   "metadata": {},
   "outputs": [
    {
     "data": {
      "text/plain": [
       "''"
      ]
     },
     "execution_count": 53,
     "metadata": {},
     "output_type": "execute_result"
    }
   ],
   "source": [
    "tensorflow_core.test.gpu_device_name()"
   ]
  },
  {
   "cell_type": "code",
   "execution_count": 54,
   "metadata": {},
   "outputs": [],
   "source": [
    "import torch"
   ]
  },
  {
   "cell_type": "code",
   "execution_count": 56,
   "metadata": {},
   "outputs": [
    {
     "data": {
      "text/plain": [
       "tensor([], device='cuda:0', dtype=torch.int8)"
      ]
     },
     "execution_count": 56,
     "metadata": {},
     "output_type": "execute_result"
    }
   ],
   "source": [
    "torch.cuda.CharTensor"
   ]
  },
  {
   "cell_type": "code",
   "execution_count": 58,
   "metadata": {},
   "outputs": [
    {
     "data": {
      "text/plain": [
       "True"
      ]
     },
     "execution_count": 58,
     "metadata": {},
     "output_type": "execute_result"
    }
   ],
   "source": [
    "torch.cuda.is_available()"
   ]
  },
  {
   "cell_type": "code",
   "execution_count": 73,
   "metadata": {},
   "outputs": [
    {
     "name": "stdout",
     "output_type": "stream",
     "text": [
      "Num GPUs Available:  1\n"
     ]
    }
   ],
   "source": [
    "import tensorflow as tf\n",
    "print(\"Num GPUs Available: \", len(tf.config.experimental.list_physical_devices('CPU')))"
   ]
  },
  {
   "cell_type": "code",
   "execution_count": 74,
   "metadata": {},
   "outputs": [
    {
     "ename": "AttributeError",
     "evalue": "module 'torch' has no attribute 'device_count'",
     "output_type": "error",
     "traceback": [
      "\u001b[1;31m---------------------------------------------------------------------------\u001b[0m",
      "\u001b[1;31mAttributeError\u001b[0m                            Traceback (most recent call last)",
      "\u001b[1;32m<ipython-input-74-1831a385d610>\u001b[0m in \u001b[0;36m<module>\u001b[1;34m\u001b[0m\n\u001b[1;32m----> 1\u001b[1;33m \u001b[0mtorch\u001b[0m\u001b[1;33m.\u001b[0m\u001b[0mdevice_count\u001b[0m\u001b[1;33m(\u001b[0m\u001b[1;33m)\u001b[0m\u001b[1;33m\u001b[0m\u001b[0m\n\u001b[0m",
      "\u001b[1;31mAttributeError\u001b[0m: module 'torch' has no attribute 'device_count'"
     ]
    }
   ],
   "source": [
    "torch."
   ]
  },
  {
   "cell_type": "code",
   "execution_count": 69,
   "metadata": {},
   "outputs": [],
   "source": [
    "t = torch.ones(1,1,28,28)"
   ]
  },
  {
   "cell_type": "code",
   "execution_count": 70,
   "metadata": {},
   "outputs": [
    {
     "data": {
      "text/plain": [
       "tensor([[[[1., 1., 1., 1., 1., 1., 1., 1., 1., 1., 1., 1., 1., 1., 1., 1., 1.,\n",
       "           1., 1., 1., 1., 1., 1., 1., 1., 1., 1., 1.],\n",
       "          [1., 1., 1., 1., 1., 1., 1., 1., 1., 1., 1., 1., 1., 1., 1., 1., 1.,\n",
       "           1., 1., 1., 1., 1., 1., 1., 1., 1., 1., 1.],\n",
       "          [1., 1., 1., 1., 1., 1., 1., 1., 1., 1., 1., 1., 1., 1., 1., 1., 1.,\n",
       "           1., 1., 1., 1., 1., 1., 1., 1., 1., 1., 1.],\n",
       "          [1., 1., 1., 1., 1., 1., 1., 1., 1., 1., 1., 1., 1., 1., 1., 1., 1.,\n",
       "           1., 1., 1., 1., 1., 1., 1., 1., 1., 1., 1.],\n",
       "          [1., 1., 1., 1., 1., 1., 1., 1., 1., 1., 1., 1., 1., 1., 1., 1., 1.,\n",
       "           1., 1., 1., 1., 1., 1., 1., 1., 1., 1., 1.],\n",
       "          [1., 1., 1., 1., 1., 1., 1., 1., 1., 1., 1., 1., 1., 1., 1., 1., 1.,\n",
       "           1., 1., 1., 1., 1., 1., 1., 1., 1., 1., 1.],\n",
       "          [1., 1., 1., 1., 1., 1., 1., 1., 1., 1., 1., 1., 1., 1., 1., 1., 1.,\n",
       "           1., 1., 1., 1., 1., 1., 1., 1., 1., 1., 1.],\n",
       "          [1., 1., 1., 1., 1., 1., 1., 1., 1., 1., 1., 1., 1., 1., 1., 1., 1.,\n",
       "           1., 1., 1., 1., 1., 1., 1., 1., 1., 1., 1.],\n",
       "          [1., 1., 1., 1., 1., 1., 1., 1., 1., 1., 1., 1., 1., 1., 1., 1., 1.,\n",
       "           1., 1., 1., 1., 1., 1., 1., 1., 1., 1., 1.],\n",
       "          [1., 1., 1., 1., 1., 1., 1., 1., 1., 1., 1., 1., 1., 1., 1., 1., 1.,\n",
       "           1., 1., 1., 1., 1., 1., 1., 1., 1., 1., 1.],\n",
       "          [1., 1., 1., 1., 1., 1., 1., 1., 1., 1., 1., 1., 1., 1., 1., 1., 1.,\n",
       "           1., 1., 1., 1., 1., 1., 1., 1., 1., 1., 1.],\n",
       "          [1., 1., 1., 1., 1., 1., 1., 1., 1., 1., 1., 1., 1., 1., 1., 1., 1.,\n",
       "           1., 1., 1., 1., 1., 1., 1., 1., 1., 1., 1.],\n",
       "          [1., 1., 1., 1., 1., 1., 1., 1., 1., 1., 1., 1., 1., 1., 1., 1., 1.,\n",
       "           1., 1., 1., 1., 1., 1., 1., 1., 1., 1., 1.],\n",
       "          [1., 1., 1., 1., 1., 1., 1., 1., 1., 1., 1., 1., 1., 1., 1., 1., 1.,\n",
       "           1., 1., 1., 1., 1., 1., 1., 1., 1., 1., 1.],\n",
       "          [1., 1., 1., 1., 1., 1., 1., 1., 1., 1., 1., 1., 1., 1., 1., 1., 1.,\n",
       "           1., 1., 1., 1., 1., 1., 1., 1., 1., 1., 1.],\n",
       "          [1., 1., 1., 1., 1., 1., 1., 1., 1., 1., 1., 1., 1., 1., 1., 1., 1.,\n",
       "           1., 1., 1., 1., 1., 1., 1., 1., 1., 1., 1.],\n",
       "          [1., 1., 1., 1., 1., 1., 1., 1., 1., 1., 1., 1., 1., 1., 1., 1., 1.,\n",
       "           1., 1., 1., 1., 1., 1., 1., 1., 1., 1., 1.],\n",
       "          [1., 1., 1., 1., 1., 1., 1., 1., 1., 1., 1., 1., 1., 1., 1., 1., 1.,\n",
       "           1., 1., 1., 1., 1., 1., 1., 1., 1., 1., 1.],\n",
       "          [1., 1., 1., 1., 1., 1., 1., 1., 1., 1., 1., 1., 1., 1., 1., 1., 1.,\n",
       "           1., 1., 1., 1., 1., 1., 1., 1., 1., 1., 1.],\n",
       "          [1., 1., 1., 1., 1., 1., 1., 1., 1., 1., 1., 1., 1., 1., 1., 1., 1.,\n",
       "           1., 1., 1., 1., 1., 1., 1., 1., 1., 1., 1.],\n",
       "          [1., 1., 1., 1., 1., 1., 1., 1., 1., 1., 1., 1., 1., 1., 1., 1., 1.,\n",
       "           1., 1., 1., 1., 1., 1., 1., 1., 1., 1., 1.],\n",
       "          [1., 1., 1., 1., 1., 1., 1., 1., 1., 1., 1., 1., 1., 1., 1., 1., 1.,\n",
       "           1., 1., 1., 1., 1., 1., 1., 1., 1., 1., 1.],\n",
       "          [1., 1., 1., 1., 1., 1., 1., 1., 1., 1., 1., 1., 1., 1., 1., 1., 1.,\n",
       "           1., 1., 1., 1., 1., 1., 1., 1., 1., 1., 1.],\n",
       "          [1., 1., 1., 1., 1., 1., 1., 1., 1., 1., 1., 1., 1., 1., 1., 1., 1.,\n",
       "           1., 1., 1., 1., 1., 1., 1., 1., 1., 1., 1.],\n",
       "          [1., 1., 1., 1., 1., 1., 1., 1., 1., 1., 1., 1., 1., 1., 1., 1., 1.,\n",
       "           1., 1., 1., 1., 1., 1., 1., 1., 1., 1., 1.],\n",
       "          [1., 1., 1., 1., 1., 1., 1., 1., 1., 1., 1., 1., 1., 1., 1., 1., 1.,\n",
       "           1., 1., 1., 1., 1., 1., 1., 1., 1., 1., 1.],\n",
       "          [1., 1., 1., 1., 1., 1., 1., 1., 1., 1., 1., 1., 1., 1., 1., 1., 1.,\n",
       "           1., 1., 1., 1., 1., 1., 1., 1., 1., 1., 1.],\n",
       "          [1., 1., 1., 1., 1., 1., 1., 1., 1., 1., 1., 1., 1., 1., 1., 1., 1.,\n",
       "           1., 1., 1., 1., 1., 1., 1., 1., 1., 1., 1.]]]], device='cuda:0')"
      ]
     },
     "execution_count": 70,
     "metadata": {},
     "output_type": "execute_result"
    }
   ],
   "source": [
    "t.cuda()"
   ]
  },
  {
   "cell_type": "code",
   "execution_count": null,
   "metadata": {},
   "outputs": [],
   "source": []
  }
 ],
 "metadata": {
  "colab": {
   "authorship_tag": "ABX9TyOzLDMX2TdD0QMgzEgUvfZk",
   "collapsed_sections": [],
   "name": "weather.ipynb",
   "provenance": []
  },
  "kernelspec": {
   "display_name": "Python 3",
   "language": "python",
   "name": "python3"
  },
  "language_info": {
   "codemirror_mode": {
    "name": "ipython",
    "version": 3
   },
   "file_extension": ".py",
   "mimetype": "text/x-python",
   "name": "python",
   "nbconvert_exporter": "python",
   "pygments_lexer": "ipython3",
   "version": "3.6.5"
  }
 },
 "nbformat": 4,
 "nbformat_minor": 1
}
