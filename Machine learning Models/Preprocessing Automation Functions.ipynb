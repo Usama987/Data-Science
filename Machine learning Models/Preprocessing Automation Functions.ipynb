{
 "cells": [
  {
   "cell_type": "code",
   "execution_count": null,
   "metadata": {},
   "outputs": [],
   "source": [
    "import pandas as pd\n",
    "import numpy as np\n",
    "from scipy import stats\n",
    "from dateutil.parser import parse"
   ]
  },
  {
   "cell_type": "code",
   "execution_count": 1,
   "metadata": {},
   "outputs": [],
   "source": [
    "import pandas as pd\n",
    "import numpy as np\n",
    "from scipy import stats\n",
    "#(1.) Function for finding and filling outliers\n",
    "def outlier_cleaning(df):\n",
    "  for i in df.columns:   #trying to convert the columns to numbric ;if any can be converted\n",
    "        try:  \n",
    "            df[i] = df[i].astype(float)\n",
    "        except:\n",
    "            pass  \n",
    "\n",
    "    #taking only the coloumns which have numerical values\n",
    "  cols = df._get_numeric_data().columns  \n",
    "  ab = []\n",
    "  for i in cols:\n",
    "    if len(df[i].unique())>(0.20*len(df)):  #Checking if unique values are atleast more than 20% of the values\n",
    "      ab.append(i)\n",
    "  df = df.dropna() \n",
    "  z_score = np.abs(stats.zscore(df[ab]))   #finding the zscore values; outliers \n",
    "  df = df[(z_score < 3).all(axis=1)]       #taking 3 as threshold and removing the outliers and filling some close to mapped values\n",
    "  return df"
   ]
  },
  {
   "cell_type": "code",
   "execution_count": null,
   "metadata": {},
   "outputs": [],
   "source": [
    "import pandas as pd\n",
    "from dateutil.parser import parse\n",
    "#(2.) Date subtraction Function\n",
    "def format_date(df):\n",
    "  cols = df.columns\n",
    "      #initializing a dataframe\n",
    "  df1 = pd.DataFrame()\n",
    "      #for loop to iterate the columns \n",
    "  for i in cols:\n",
    "    try:\n",
    "            #checking if the 1st value of series contains date format\n",
    "      parse(df[i][0],False)+\n",
    "           #storing the date format series to df1 dataframe\n",
    "      df1[i]=df[i]\n",
    "            #changing the dtype of the series in df1 dataframe to datetime\n",
    "      df1[i]= pd.to_datetime(df1[i])\n",
    "            #except blocks to pass the iteration \n",
    "    except ValueError:\n",
    "      pass\n",
    "    except TypeError:\n",
    "      pass\n",
    "          #selecting columns by dtype excluding object type\n",
    "  df1 = df1.select_dtypes(exclude=['object'])\n",
    "          #storing the column names of df1\n",
    "  cols = df1.columns    \n",
    "  n = len(cols)\n",
    "  list_1 = []\n",
    "          #for loop to iterate the number of columns of df1 dataframe\n",
    "  for i in range(n):\n",
    "          # append the numbers to list_1\n",
    "    list_1.append(i)\n",
    "          # list comprehension for taking two column(numbers) at a time (forming pairs)\n",
    "  list_2 = [((i), (i + 1) % len(list_1))  for i in range(len(list_1))] \n",
    "          #for loop to perform subtraction on 2 columns once\n",
    "  for i in range(len(list_2)):\n",
    "          #taking the first values two columns and storing in x,y\n",
    "    x,y = df1.iloc[0,i],df1.iloc[0,list_2[i][1]]\n",
    "          # checking which variable value is larger and the performing subtraction\n",
    "    if x.value>=y.value:\n",
    "      df1[cols[i]+' - '+cols[list_2[i][1]]] = df1[cols[i]]-df1[cols[list_2[i][1]]]\n",
    "    else:\n",
    "      df1[cols[list_2[i][1]]+' - '+cols[i]] = df1[cols[list_2[i][1]]]-df1[cols[i]]\n",
    "  return df1"
   ]
  },
  {
   "cell_type": "code",
   "execution_count": null,
   "metadata": {},
   "outputs": [],
   "source": [
    "import pandas as pd\n",
    "# (3.) Function to drop minimum columns having pearson's correlation \n",
    "def pearson_test(df):\n",
    "\n",
    "  ''' Finding Pearson's Correlation for the given dataset and dropping min variables'''\n",
    "  pearson = df.corr() #initializing pearson corr for df\n",
    "  cols = pearson.columns \n",
    "  for i in range(len(cols)): \n",
    "    for j in range(i):\n",
    "      if pearson.iloc[i,j]>0.85: #if correlation is >85\n",
    "                                                                #the below condition is for selecting which column to be dropped\n",
    "        if sum(pearson.nlargest(3,cols[i])[cols[i]])>sum(pearson.nlargest(3,cols[j])[cols[j]]): # comparing the sum of three highest corr values of each column    \n",
    "          if cols[i] in df.columns:  \n",
    "            df.drop(columns=cols[i],inplace=True)                       # droping the column which has high corr values compared to corresponding, j column\n",
    "        elif sum(pearson.nlargest(3,cols[i])[cols[i]])<sum(pearson.nlargest(3,cols[j])[cols[j]]): \n",
    "          if cols[j] in df.columns:\n",
    "            df.drop(columns=cols[j],inplace=True)                       \n",
    "\n",
    "    return df"
   ]
  }
 ],
 "metadata": {
  "kernelspec": {
   "display_name": "Python 3",
   "language": "python",
   "name": "python3"
  },
  "language_info": {
   "codemirror_mode": {
    "name": "ipython",
    "version": 3
   },
   "file_extension": ".py",
   "mimetype": "text/x-python",
   "name": "python",
   "nbconvert_exporter": "python",
   "pygments_lexer": "ipython3",
   "version": "3.6.5"
  }
 },
 "nbformat": 4,
 "nbformat_minor": 4
}
