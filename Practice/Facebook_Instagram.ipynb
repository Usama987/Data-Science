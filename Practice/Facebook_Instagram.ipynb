{
 "cells": [
  {
   "cell_type": "code",
   "execution_count": null,
   "metadata": {},
   "outputs": [],
   "source": [
    "import pandas as pd\n",
    "import os"
   ]
  },
  {
   "cell_type": "code",
   "execution_count": null,
   "metadata": {},
   "outputs": [],
   "source": [
    "# Changing the data types of all strings in the module at once\n",
    "from __future__ import unicode_literals\n",
    "# Used to save the file as excel workbook\n",
    "# Need to install this library\n",
    "from xlwt import Workbook\n",
    "# Used to open to corrupt excel file\n",
    "import io\n",
    "\n",
    "filename = r'C:/Users/mohdu/Downloads/Trends.xls'\n",
    "# Opening the file using 'utf-16' encoding\n",
    "file1 = io.open(filename, \"r\", encoding=\"utf-16\")\n",
    "data = file1.readlines()\n",
    "\n",
    "# Creating a workbook object\n",
    "xldoc = Workbook()\n",
    "# Adding a sheet to the workbook object\n",
    "sheet = xldoc.add_sheet(\"Sheet1\", cell_overwrite_ok=True)\n",
    "# Iterating and saving the data to sheet\n",
    "for i, row in enumerate(data):\n",
    "    # Two things are done here\n",
    "    # Removeing the '\\n' which comes while reading the file using io.open\n",
    "    # Getting the values after splitting using '\\t'\n",
    "    for j, val in enumerate(row.replace('\\n', '').split('\\t')):\n",
    "        sheet.write(i, j, val)\n",
    "    \n",
    "# Saving the file as an excel file\n",
    "xldoc.save('C:/Users/mohdu/Downloads/Trends.xlsx')\n",
    "trends = pd.read_excel('C:/Users/mohdu/Downloads/Trends.xlsx')\n",
    "file1.close()"
   ]
  },
  {
   "cell_type": "code",
   "execution_count": null,
   "metadata": {},
   "outputs": [],
   "source": [
    "facebook_page = trends.iloc[2:29]"
   ]
  },
  {
   "cell_type": "code",
   "execution_count": null,
   "metadata": {},
   "outputs": [],
   "source": [
    "insta_page = trends.iloc[32:59]"
   ]
  },
  {
   "cell_type": "code",
   "execution_count": null,
   "metadata": {},
   "outputs": [],
   "source": [
    "f_time = [i.split(',')[0][1:-1] for i in facebook_page[facebook_page.columns[0]]]\n",
    "f_reach = [i.split(',')[1][1:-1] for i in facebook_page[facebook_page.columns[0]]]"
   ]
  },
  {
   "cell_type": "code",
   "execution_count": null,
   "metadata": {},
   "outputs": [],
   "source": [
    "# Changing the data types of all strings in the module at once\n",
    "from __future__ import unicode_literals\n",
    "# Used to save the file as excel workbook\n",
    "# Need to install this library\n",
    "from xlwt import Workbook\n",
    "# Used to open to corrupt excel file\n",
    "import io\n",
    "\n",
    "filename = r'C:/Users/mohdu/Downloads/Content.xls'\n",
    "# Opening the file using 'utf-16' encoding\n",
    "file1 = io.open(filename, \"r\", encoding=\"utf-16\")\n",
    "data = file1.readlines()\n",
    "\n",
    "# Creating a workbook object\n",
    "xldoc = Workbook()\n",
    "# Adding a sheet to the workbook object\n",
    "sheet = xldoc.add_sheet(\"Sheet1\", cell_overwrite_ok=True)\n",
    "# Iterating and saving the data to sheet\n",
    "for i, row in enumerate(data):\n",
    "    # Two things are done here\n",
    "    # Removeing the '\\n' which comes while reading the file using io.open\n",
    "    # Getting the values after splitting using '\\t'\n",
    "    for j, val in enumerate(row.replace('\\n', '').split('\\t')):\n",
    "        sheet.write(i, j, val)\n",
    "    \n",
    "# Saving the file as an excel file\n",
    "xldoc.save('C:/Users/mohdu/Downloads/Content.xlsx')\n",
    "Content = pd.read_excel('C:/Users/mohdu/Downloads/ Content.xlsx')\n",
    "file1.close()"
   ]
  },
  {
   "cell_type": "code",
   "execution_count": null,
   "metadata": {},
   "outputs": [],
   "source": [
    "abc = pd.read_excel('C:/Users/mohdu/Downloads/Content.xlsx')"
   ]
  },
  {
   "cell_type": "code",
   "execution_count": null,
   "metadata": {},
   "outputs": [],
   "source": [
    "\n",
    "Post=[]\n",
    "p_time = []\n",
    "Post_reach = []\n",
    "Likes_reaction = []\n",
    "Comments = [] \n",
    "Shares = []\n",
    "Results = []\n",
    "Cost_per_result = []\n",
    "Link_clicks = []\n",
    "for i in range(2,len(abc)):\n",
    "    Post.append(abc['sep=,'][i].split(',')[0][1:-1])\n",
    "    p_time.append(abc['sep=,'][i].split(',')[1][1:-1])\n",
    "    Post_reach.append(abc['sep=,'][i].split(',')[2][1:-1])\n",
    "    Likes_reaction.append(abc['sep=,'][i].split(',')[3][1:-1])\n",
    "    Comments.append(abc['sep=,'][i].split(',')[4][1:-1])\n",
    "    Shares.append(abc['sep=,'][i].split(',')[5][1:-1])\n",
    "    Results.append(abc['sep=,'][i].split(',')[6][1:-1])\n",
    "    Cost_per_result.append(abc['sep=,'][i].split(',')[7][1:-1])\n",
    "    Link_clicks.append(abc['sep=,'][i].split(',')[8][1:-1])"
   ]
  },
  {
   "cell_type": "code",
   "execution_count": null,
   "metadata": {},
   "outputs": [],
   "source": [
    "# Changing the data types of all strings in the module at once\n",
    "from __future__ import unicode_literals\n",
    "# Used to save the file as excel workbook\n",
    "# Need to install this library\n",
    "from xlwt import Workbook\n",
    "# Used to open to corrupt excel file\n",
    "import io\n",
    "\n",
    "filename = r'C:/Users/mohdu/Downloads/Audience.xls'\n",
    "# Opening the file using 'utf-16' encoding\n",
    "file1 = io.open(filename, \"r\", encoding=\"utf-16\")\n",
    "data = file1.readlines()\n",
    "\n",
    "# Creating a workbook object\n",
    "xldoc = Workbook()\n",
    "# Adding a sheet to the workbook object\n",
    "sheet = xldoc.add_sheet(\"Sheet1\", cell_overwrite_ok=True)\n",
    "# Iterating and saving the data to sheet\n",
    "for i, row in enumerate(data):\n",
    "    # Two things are done here\n",
    "    # Removeing the '\\n' which comes while reading the file using io.open\n",
    "    # Getting the values after splitting using '\\t'\n",
    "    for j, val in enumerate(row.replace('\\n', '').split('\\t')):\n",
    "        sheet.write(i, j, val)\n",
    "    \n",
    "# Saving the file as an excel file\n",
    "xldoc.save('C:/Users/mohdu/Downloads/Audience.xlsx')\n",
    "Audience = pd.read_excel('C:/Users/mohdu/Downloads/Audience.xlsx')\n",
    "file1.close()"
   ]
  },
  {
   "cell_type": "code",
   "execution_count": null,
   "metadata": {},
   "outputs": [],
   "source": [
    "Facebook_page_likes = Audience.loc[2]"
   ]
  },
  {
   "cell_type": "code",
   "execution_count": null,
   "metadata": {},
   "outputs": [],
   "source": [
    "Insta_Followers = Audience.loc[5]"
   ]
  },
  {
   "cell_type": "code",
   "execution_count": null,
   "metadata": {},
   "outputs": [],
   "source": [
    "fb_gender = Audience.loc[6:14]"
   ]
  },
  {
   "cell_type": "code",
   "execution_count": null,
   "metadata": {},
   "outputs": [],
   "source": [
    "Age = [i.split(',')[0][1:-1] for i in fb_gender.loc[8:]['sep=,']]\n",
    "Women = [i.split(',')[1][1:-1] for i in fb_gender.loc[8:]['sep=,']]\n",
    "Men = [i.split(',')[2][1:-1] for i in fb_gender.loc[8:]['sep=,']]\n"
   ]
  },
  {
   "cell_type": "code",
   "execution_count": null,
   "metadata": {},
   "outputs": [],
   "source": [
    "Insta_gender = Audience.loc[15]"
   ]
  },
  {
   "cell_type": "code",
   "execution_count": null,
   "metadata": {},
   "outputs": [],
   "source": []
  },
  {
   "cell_type": "code",
   "execution_count": null,
   "metadata": {},
   "outputs": [],
   "source": []
  }
 ],
 "metadata": {
  "kernelspec": {
   "display_name": "Python 3",
   "language": "python",
   "name": "python3"
  },
  "language_info": {
   "codemirror_mode": {
    "name": "ipython",
    "version": 3
   },
   "file_extension": ".py",
   "mimetype": "text/x-python",
   "name": "python",
   "nbconvert_exporter": "python",
   "pygments_lexer": "ipython3",
   "version": "3.6.5"
  }
 },
 "nbformat": 4,
 "nbformat_minor": 4
}
