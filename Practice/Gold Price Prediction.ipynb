#!/usr/bin/env python
# coding: utf-8

# In[1]:


import numpy as np
import pandas as pd
import matplotlib.pyplot as plt


# In[2]:


dataset_train = pd.read_csv('D:/DATA/datasets/Gold_Price_Train.csv')


# In[3]:


dataset_train.head()


# In[4]:


train_set = dataset_train.iloc[:,1:2].values


# In[5]:


train_set


# In[6]:


from sklearn.preprocessing import MinMaxScaler


# In[7]:


sc = MinMaxScaler(feature_range=(0,1))


# In[8]:


train_set_scaled = sc.fit_transform(train_set)


# In[9]:


train_set_scaled


# In[10]:


len(train_set_scaled)


# In[11]:


x_train = []
y_train = []

for i in range(60,3007):
    x_train.append(train_set_scaled[i-60:i,0])
    y_train.append(train_set_scaled[i,0])


# In[12]:


x_train


# In[13]:


x_train,y_train = np.array(x_train),np.array(y_train)


# In[14]:


type(x_train)


# In[15]:


x_train = np.reshape(x_train,(x_train.shape[0],x_train.shape[1],1))


# In[16]:


x_train.shape


# In[17]:


from keras.models import Sequential
from keras.layers import Dense,LSTM,Dropout


# In[18]:


gold_price = Sequential()


# In[19]:


gold_price.add(LSTM(units=50,return_sequences=True,input_shape=(x_train.shape[1],1)))
gold_price.add(Dropout(0.2))


# In[20]:


gold_price.add(LSTM(units=50,return_sequences=True))
gold_price.add(Dropout(0.2))


# In[21]:


gold_price.add(LSTM(units=50,return_sequences=True))
gold_price.add(Dropout(0.2))


# In[22]:


gold_price.add(LSTM(units=50))
gold_price.add(Dropout(0.2))


# In[23]:


gold_price.add(Dense(units=1))


# In[24]:


gold_price.compile(optimizer='adam',loss='mean_squared_error')


# In[25]:


gold_price.fit(x_train,y_train,epochs=80,batch_size=32)


# In[26]:


dataset_test = pd.read_csv('D:/DATA/datasets/Gold_Price_Test.csv')


# In[27]:


dataset_test.head()


# In[28]:


real_gold_price = dataset_test.iloc[:,1:2].values


# In[29]:


total_data = pd.concat((dataset_train['Open'],dataset_test['Open']),axis=0)


# In[30]:


inputs = total_data[len(total_data)-len(dataset_test)-60:].values


# In[31]:


inputs = inputs.reshape(-1,1)


# In[32]:


inputs = sc.transform(inputs)


# In[33]:


x_test = []

for i in range(60,180):
    x_test.append(inputs[i-60:i,0])


# In[34]:


x_test = np.array(x_test)


# In[35]:


x_test = np.reshape(x_test,(x_test.shape[0],x_test.shape[1],1))


# In[36]:


x_test.shape


# In[37]:


gold_prediction = gold_price.predict(x_test)


# In[38]:


gold_prediction = sc.inverse_transform(gold_prediction)


# In[39]:


gold_prediction


# In[40]:


plt.plot (real_gold_price,color='red',label='Real_Gold_Price')
plt.plot (gold_prediction,color='blue',label='prediction_price')

plt.title('Real Time Gold Price Prediction')
plt.ylabel('Gold Price')
plt.xlabel('Time')
plt.legend()
plt.show()


# In[ ]:




