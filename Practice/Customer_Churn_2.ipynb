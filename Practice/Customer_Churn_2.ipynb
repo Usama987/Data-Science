{
 "cells": [
  {
   "cell_type": "code",
   "execution_count": null,
   "metadata": {},
   "outputs": [],
   "source": [
    "# 3 parts;   1: data preprocessing  2: Building NN  3: Prediction & Evaluation"
   ]
  },
  {
   "cell_type": "code",
   "execution_count": 1,
   "metadata": {},
   "outputs": [],
   "source": [
    "import numpy as np\n",
    "import pandas as pd\n",
    "import matplotlib.pyplot as plt"
   ]
  },
  {
   "cell_type": "code",
   "execution_count": 2,
   "metadata": {},
   "outputs": [],
   "source": [
    "cust_df = pd.read_csv('d:/datasets/analytics/Churn_Modelling.csv')"
   ]
  },
  {
   "cell_type": "code",
   "execution_count": 3,
   "metadata": {
    "collapsed": true
   },
   "outputs": [
    {
     "data": {
      "text/html": [
       "<div>\n",
       "<style scoped>\n",
       "    .dataframe tbody tr th:only-of-type {\n",
       "        vertical-align: middle;\n",
       "    }\n",
       "\n",
       "    .dataframe tbody tr th {\n",
       "        vertical-align: top;\n",
       "    }\n",
       "\n",
       "    .dataframe thead th {\n",
       "        text-align: right;\n",
       "    }\n",
       "</style>\n",
       "<table border=\"1\" class=\"dataframe\">\n",
       "  <thead>\n",
       "    <tr style=\"text-align: right;\">\n",
       "      <th></th>\n",
       "      <th>RowNumber</th>\n",
       "      <th>CustomerId</th>\n",
       "      <th>Surname</th>\n",
       "      <th>CreditScore</th>\n",
       "      <th>Geography</th>\n",
       "      <th>Gender</th>\n",
       "      <th>Age</th>\n",
       "      <th>Tenure</th>\n",
       "      <th>Balance</th>\n",
       "      <th>NumOfProducts</th>\n",
       "      <th>HasCrCard</th>\n",
       "      <th>IsActiveMember</th>\n",
       "      <th>EstimatedSalary</th>\n",
       "      <th>Exited</th>\n",
       "    </tr>\n",
       "  </thead>\n",
       "  <tbody>\n",
       "    <tr>\n",
       "      <th>0</th>\n",
       "      <td>1</td>\n",
       "      <td>15634602</td>\n",
       "      <td>Hargrave</td>\n",
       "      <td>619</td>\n",
       "      <td>France</td>\n",
       "      <td>Female</td>\n",
       "      <td>42</td>\n",
       "      <td>2</td>\n",
       "      <td>0.00</td>\n",
       "      <td>1</td>\n",
       "      <td>1</td>\n",
       "      <td>1</td>\n",
       "      <td>101348.88</td>\n",
       "      <td>1</td>\n",
       "    </tr>\n",
       "    <tr>\n",
       "      <th>1</th>\n",
       "      <td>2</td>\n",
       "      <td>15647311</td>\n",
       "      <td>Hill</td>\n",
       "      <td>608</td>\n",
       "      <td>Spain</td>\n",
       "      <td>Female</td>\n",
       "      <td>41</td>\n",
       "      <td>1</td>\n",
       "      <td>83807.86</td>\n",
       "      <td>1</td>\n",
       "      <td>0</td>\n",
       "      <td>1</td>\n",
       "      <td>112542.58</td>\n",
       "      <td>0</td>\n",
       "    </tr>\n",
       "    <tr>\n",
       "      <th>2</th>\n",
       "      <td>3</td>\n",
       "      <td>15619304</td>\n",
       "      <td>Onio</td>\n",
       "      <td>502</td>\n",
       "      <td>France</td>\n",
       "      <td>Female</td>\n",
       "      <td>42</td>\n",
       "      <td>8</td>\n",
       "      <td>159660.80</td>\n",
       "      <td>3</td>\n",
       "      <td>1</td>\n",
       "      <td>0</td>\n",
       "      <td>113931.57</td>\n",
       "      <td>1</td>\n",
       "    </tr>\n",
       "    <tr>\n",
       "      <th>3</th>\n",
       "      <td>4</td>\n",
       "      <td>15701354</td>\n",
       "      <td>Boni</td>\n",
       "      <td>699</td>\n",
       "      <td>France</td>\n",
       "      <td>Female</td>\n",
       "      <td>39</td>\n",
       "      <td>1</td>\n",
       "      <td>0.00</td>\n",
       "      <td>2</td>\n",
       "      <td>0</td>\n",
       "      <td>0</td>\n",
       "      <td>93826.63</td>\n",
       "      <td>0</td>\n",
       "    </tr>\n",
       "    <tr>\n",
       "      <th>4</th>\n",
       "      <td>5</td>\n",
       "      <td>15737888</td>\n",
       "      <td>Mitchell</td>\n",
       "      <td>850</td>\n",
       "      <td>Spain</td>\n",
       "      <td>Female</td>\n",
       "      <td>43</td>\n",
       "      <td>2</td>\n",
       "      <td>125510.82</td>\n",
       "      <td>1</td>\n",
       "      <td>1</td>\n",
       "      <td>1</td>\n",
       "      <td>79084.10</td>\n",
       "      <td>0</td>\n",
       "    </tr>\n",
       "  </tbody>\n",
       "</table>\n",
       "</div>"
      ],
      "text/plain": [
       "   RowNumber  CustomerId   Surname  CreditScore Geography  Gender  Age  \\\n",
       "0          1    15634602  Hargrave          619    France  Female   42   \n",
       "1          2    15647311      Hill          608     Spain  Female   41   \n",
       "2          3    15619304      Onio          502    France  Female   42   \n",
       "3          4    15701354      Boni          699    France  Female   39   \n",
       "4          5    15737888  Mitchell          850     Spain  Female   43   \n",
       "\n",
       "   Tenure    Balance  NumOfProducts  HasCrCard  IsActiveMember  \\\n",
       "0       2       0.00              1          1               1   \n",
       "1       1   83807.86              1          0               1   \n",
       "2       8  159660.80              3          1               0   \n",
       "3       1       0.00              2          0               0   \n",
       "4       2  125510.82              1          1               1   \n",
       "\n",
       "   EstimatedSalary  Exited  \n",
       "0        101348.88       1  \n",
       "1        112542.58       0  \n",
       "2        113931.57       1  \n",
       "3         93826.63       0  \n",
       "4         79084.10       0  "
      ]
     },
     "execution_count": 3,
     "metadata": {},
     "output_type": "execute_result"
    }
   ],
   "source": [
    "cust_df.head()"
   ]
  },
  {
   "cell_type": "code",
   "execution_count": 4,
   "metadata": {},
   "outputs": [],
   "source": [
    "# DATA PREPROCESSING STEP"
   ]
  },
  {
   "cell_type": "code",
   "execution_count": 5,
   "metadata": {},
   "outputs": [],
   "source": [
    "X = cust_df.iloc[:,3:13].values"
   ]
  },
  {
   "cell_type": "code",
   "execution_count": 6,
   "metadata": {},
   "outputs": [],
   "source": [
    "y = cust_df.iloc[:,13].values"
   ]
  },
  {
   "cell_type": "code",
   "execution_count": 7,
   "metadata": {},
   "outputs": [
    {
     "data": {
      "text/plain": [
       "array([[619, 'France', 'Female', ..., 1, 1, 101348.88],\n",
       "       [608, 'Spain', 'Female', ..., 0, 1, 112542.58],\n",
       "       [502, 'France', 'Female', ..., 1, 0, 113931.57],\n",
       "       ...,\n",
       "       [709, 'France', 'Female', ..., 0, 1, 42085.58],\n",
       "       [772, 'Germany', 'Male', ..., 1, 0, 92888.52],\n",
       "       [792, 'France', 'Female', ..., 1, 0, 38190.78]], dtype=object)"
      ]
     },
     "execution_count": 7,
     "metadata": {},
     "output_type": "execute_result"
    }
   ],
   "source": [
    "X"
   ]
  },
  {
   "cell_type": "code",
   "execution_count": 8,
   "metadata": {},
   "outputs": [],
   "source": [
    "from sklearn.preprocessing import LabelEncoder,OneHotEncoder"
   ]
  },
  {
   "cell_type": "code",
   "execution_count": 9,
   "metadata": {},
   "outputs": [],
   "source": [
    "labelencoder_X_1 = LabelEncoder()"
   ]
  },
  {
   "cell_type": "code",
   "execution_count": 10,
   "metadata": {},
   "outputs": [],
   "source": [
    "X[:,1] = labelencoder_X_1.fit_transform(X[:,1])"
   ]
  },
  {
   "cell_type": "code",
   "execution_count": 11,
   "metadata": {
    "collapsed": true
   },
   "outputs": [
    {
     "data": {
      "text/plain": [
       "array([[619, 0, 'Female', ..., 1, 1, 101348.88],\n",
       "       [608, 2, 'Female', ..., 0, 1, 112542.58],\n",
       "       [502, 0, 'Female', ..., 1, 0, 113931.57],\n",
       "       ...,\n",
       "       [709, 0, 'Female', ..., 0, 1, 42085.58],\n",
       "       [772, 1, 'Male', ..., 1, 0, 92888.52],\n",
       "       [792, 0, 'Female', ..., 1, 0, 38190.78]], dtype=object)"
      ]
     },
     "execution_count": 11,
     "metadata": {},
     "output_type": "execute_result"
    }
   ],
   "source": [
    "X"
   ]
  },
  {
   "cell_type": "code",
   "execution_count": 12,
   "metadata": {},
   "outputs": [],
   "source": [
    "labelencoder_x_2 = LabelEncoder()"
   ]
  },
  {
   "cell_type": "code",
   "execution_count": 13,
   "metadata": {},
   "outputs": [],
   "source": [
    "X[:,2] = labelencoder_x_2.fit_transform(X[:,2])"
   ]
  },
  {
   "cell_type": "code",
   "execution_count": 14,
   "metadata": {
    "collapsed": true
   },
   "outputs": [
    {
     "data": {
      "text/plain": [
       "array([[619, 0, 0, ..., 1, 1, 101348.88],\n",
       "       [608, 2, 0, ..., 0, 1, 112542.58],\n",
       "       [502, 0, 0, ..., 1, 0, 113931.57],\n",
       "       ...,\n",
       "       [709, 0, 0, ..., 0, 1, 42085.58],\n",
       "       [772, 1, 1, ..., 1, 0, 92888.52],\n",
       "       [792, 0, 0, ..., 1, 0, 38190.78]], dtype=object)"
      ]
     },
     "execution_count": 14,
     "metadata": {},
     "output_type": "execute_result"
    }
   ],
   "source": [
    "X"
   ]
  },
  {
   "cell_type": "code",
   "execution_count": 15,
   "metadata": {},
   "outputs": [],
   "source": [
    "# for geography\n",
    "onehotencoder = OneHotEncoder(categorical_features=[1])"
   ]
  },
  {
   "cell_type": "code",
   "execution_count": 16,
   "metadata": {
    "collapsed": true
   },
   "outputs": [
    {
     "name": "stderr",
     "output_type": "stream",
     "text": [
      "C:\\Users\\admin\\Anaconda3\\lib\\site-packages\\sklearn\\preprocessing\\_encoders.py:415: FutureWarning: The handling of integer data will change in version 0.22. Currently, the categories are determined based on the range [0, max(values)], while in the future they will be determined based on the unique values.\n",
      "If you want the future behaviour and silence this warning, you can specify \"categories='auto'\".\n",
      "In case you used a LabelEncoder before this OneHotEncoder to convert the categories to integers, then you can now use the OneHotEncoder directly.\n",
      "  warnings.warn(msg, FutureWarning)\n",
      "C:\\Users\\admin\\Anaconda3\\lib\\site-packages\\sklearn\\preprocessing\\_encoders.py:451: DeprecationWarning: The 'categorical_features' keyword is deprecated in version 0.20 and will be removed in 0.22. You can use the ColumnTransformer instead.\n",
      "  \"use the ColumnTransformer instead.\", DeprecationWarning)\n"
     ]
    }
   ],
   "source": [
    "X  = onehotencoder.fit_transform(X).toarray()"
   ]
  },
  {
   "cell_type": "code",
   "execution_count": 17,
   "metadata": {},
   "outputs": [
    {
     "data": {
      "text/plain": [
       "(10000, 12)"
      ]
     },
     "execution_count": 17,
     "metadata": {},
     "output_type": "execute_result"
    }
   ],
   "source": [
    "X.shape"
   ]
  },
  {
   "cell_type": "code",
   "execution_count": null,
   "metadata": {},
   "outputs": [],
   "source": []
  },
  {
   "cell_type": "code",
   "execution_count": null,
   "metadata": {},
   "outputs": [],
   "source": []
  },
  {
   "cell_type": "code",
   "execution_count": 18,
   "metadata": {
    "collapsed": true
   },
   "outputs": [
    {
     "data": {
      "text/plain": [
       "array([[1.0000000e+00, 0.0000000e+00, 0.0000000e+00, ..., 1.0000000e+00,\n",
       "        1.0000000e+00, 1.0134888e+05],\n",
       "       [0.0000000e+00, 0.0000000e+00, 1.0000000e+00, ..., 0.0000000e+00,\n",
       "        1.0000000e+00, 1.1254258e+05],\n",
       "       [1.0000000e+00, 0.0000000e+00, 0.0000000e+00, ..., 1.0000000e+00,\n",
       "        0.0000000e+00, 1.1393157e+05],\n",
       "       ...,\n",
       "       [1.0000000e+00, 0.0000000e+00, 0.0000000e+00, ..., 0.0000000e+00,\n",
       "        1.0000000e+00, 4.2085580e+04],\n",
       "       [0.0000000e+00, 1.0000000e+00, 0.0000000e+00, ..., 1.0000000e+00,\n",
       "        0.0000000e+00, 9.2888520e+04],\n",
       "       [1.0000000e+00, 0.0000000e+00, 0.0000000e+00, ..., 1.0000000e+00,\n",
       "        0.0000000e+00, 3.8190780e+04]])"
      ]
     },
     "execution_count": 18,
     "metadata": {},
     "output_type": "execute_result"
    }
   ],
   "source": [
    "X"
   ]
  },
  {
   "cell_type": "code",
   "execution_count": 19,
   "metadata": {},
   "outputs": [],
   "source": [
    "X = X[:,1:]"
   ]
  },
  {
   "cell_type": "code",
   "execution_count": 20,
   "metadata": {},
   "outputs": [
    {
     "data": {
      "text/plain": [
       "(10000, 11)"
      ]
     },
     "execution_count": 20,
     "metadata": {},
     "output_type": "execute_result"
    }
   ],
   "source": [
    "X.shape"
   ]
  },
  {
   "cell_type": "code",
   "execution_count": 21,
   "metadata": {},
   "outputs": [],
   "source": [
    "from sklearn.model_selection import train_test_split"
   ]
  },
  {
   "cell_type": "code",
   "execution_count": 22,
   "metadata": {},
   "outputs": [],
   "source": [
    "X_train,X_test, y_train,y_test  = train_test_split(X,y, test_size=0.25)"
   ]
  },
  {
   "cell_type": "code",
   "execution_count": 23,
   "metadata": {},
   "outputs": [],
   "source": [
    "# Features Scaling -- required for deep learning\n",
    "\n",
    "from sklearn.preprocessing import StandardScaler\n",
    "sc = StandardScaler()\n",
    "X_train = sc.fit_transform(X_train)\n",
    "X_test = sc.fit_transform(X_test)\n"
   ]
  },
  {
   "cell_type": "code",
   "execution_count": 38,
   "metadata": {},
   "outputs": [],
   "source": [
    "# BUILD ANN\n",
    "\n",
    "import keras"
   ]
  },
  {
   "cell_type": "code",
   "execution_count": 39,
   "metadata": {},
   "outputs": [],
   "source": [
    "from keras.models import Sequential\n",
    "from keras.layers import Dense\n"
   ]
  },
  {
   "cell_type": "code",
   "execution_count": 40,
   "metadata": {},
   "outputs": [],
   "source": [
    "# initialize the NN\n",
    "\n",
    "customer_classifier = Sequential()"
   ]
  },
  {
   "cell_type": "code",
   "execution_count": 41,
   "metadata": {},
   "outputs": [
    {
     "name": "stderr",
     "output_type": "stream",
     "text": [
      "C:\\Users\\admin\\Anaconda3\\lib\\site-packages\\ipykernel_launcher.py:2: UserWarning: Update your `Dense` call to the Keras 2 API: `Dense(activation=\"relu\", input_dim=11, units=6, kernel_initializer=\"uniform\")`\n",
      "  \n"
     ]
    }
   ],
   "source": [
    "# Adding the first input later and hidden layer\n",
    "customer_classifier.add(Dense(output_dim = 6, init = 'uniform',activation='relu',input_dim=11))"
   ]
  },
  {
   "cell_type": "code",
   "execution_count": 42,
   "metadata": {},
   "outputs": [
    {
     "name": "stderr",
     "output_type": "stream",
     "text": [
      "C:\\Users\\admin\\Anaconda3\\lib\\site-packages\\ipykernel_launcher.py:2: UserWarning: Update your `Dense` call to the Keras 2 API: `Dense(activation=\"relu\", units=6, kernel_initializer=\"uniform\")`\n",
      "  \n"
     ]
    }
   ],
   "source": [
    "# Second Hidden Layer\n",
    "customer_classifier.add(Dense(output_dim = 6, init = 'uniform',activation='relu'))"
   ]
  },
  {
   "cell_type": "code",
   "execution_count": 43,
   "metadata": {},
   "outputs": [
    {
     "name": "stderr",
     "output_type": "stream",
     "text": [
      "C:\\Users\\admin\\Anaconda3\\lib\\site-packages\\ipykernel_launcher.py:2: UserWarning: Update your `Dense` call to the Keras 2 API: `Dense(activation=\"relu\", units=6, kernel_initializer=\"uniform\")`\n",
      "  \n"
     ]
    }
   ],
   "source": [
    "# Third Hidden Layer\n",
    "customer_classifier.add(Dense(output_dim = 6, init = 'uniform',activation='relu'))"
   ]
  },
  {
   "cell_type": "code",
   "execution_count": 44,
   "metadata": {},
   "outputs": [
    {
     "name": "stderr",
     "output_type": "stream",
     "text": [
      "C:\\Users\\admin\\Anaconda3\\lib\\site-packages\\ipykernel_launcher.py:1: UserWarning: Update your `Dense` call to the Keras 2 API: `Dense(activation=\"sigmoid\", units=1, kernel_initializer=\"uniform\")`\n",
      "  \"\"\"Entry point for launching an IPython kernel.\n"
     ]
    }
   ],
   "source": [
    "customer_classifier.add(Dense(output_dim = 1, init = 'uniform',activation='sigmoid'))"
   ]
  },
  {
   "cell_type": "code",
   "execution_count": 45,
   "metadata": {},
   "outputs": [],
   "source": [
    "# Compile the\n",
    "customer_classifier.compile(optimizer='adam',loss='binary_crossentropy',metrics=['accuracy'])"
   ]
  },
  {
   "cell_type": "code",
   "execution_count": 46,
   "metadata": {
    "collapsed": true
   },
   "outputs": [
    {
     "name": "stderr",
     "output_type": "stream",
     "text": [
      "C:\\Users\\admin\\Anaconda3\\lib\\site-packages\\ipykernel_launcher.py:1: UserWarning: The `nb_epoch` argument in `fit` has been renamed `epochs`.\n",
      "  \"\"\"Entry point for launching an IPython kernel.\n"
     ]
    },
    {
     "name": "stdout",
     "output_type": "stream",
     "text": [
      "Epoch 1/300\n",
      "7500/7500 [==============================] - 3s 346us/step - loss: 0.4832 - accuracy: 0.7968\n",
      "Epoch 2/300\n",
      "7500/7500 [==============================] - 1s 145us/step - loss: 0.4192 - accuracy: 0.7968\n",
      "Epoch 3/300\n",
      "7500/7500 [==============================] - 1s 157us/step - loss: 0.4079 - accuracy: 0.8172\n",
      "Epoch 4/300\n",
      "7500/7500 [==============================] - 1s 139us/step - loss: 0.3968 - accuracy: 0.8301\n",
      "Epoch 5/300\n",
      "7500/7500 [==============================] - 1s 138us/step - loss: 0.3878 - accuracy: 0.8307\n",
      "Epoch 6/300\n",
      "7500/7500 [==============================] - 1s 142us/step - loss: 0.3796 - accuracy: 0.8432\n",
      "Epoch 7/300\n",
      "7500/7500 [==============================] - 1s 165us/step - loss: 0.3749 - accuracy: 0.8475\n",
      "Epoch 8/300\n",
      "7500/7500 [==============================] - 1s 140us/step - loss: 0.3707 - accuracy: 0.8496\n",
      "Epoch 9/300\n",
      "7500/7500 [==============================] - 1s 165us/step - loss: 0.3680 - accuracy: 0.8491\n",
      "Epoch 10/300\n",
      "7500/7500 [==============================] - 1s 148us/step - loss: 0.3645 - accuracy: 0.8505\n",
      "Epoch 11/300\n",
      "7500/7500 [==============================] - 1s 140us/step - loss: 0.3644 - accuracy: 0.8501\n",
      "Epoch 12/300\n",
      "7500/7500 [==============================] - 1s 149us/step - loss: 0.3626 - accuracy: 0.8565\n",
      "Epoch 13/300\n",
      "7500/7500 [==============================] - 1s 145us/step - loss: 0.3603 - accuracy: 0.8531\n",
      "Epoch 14/300\n",
      "7500/7500 [==============================] - 1s 138us/step - loss: 0.3579 - accuracy: 0.8569\n",
      "Epoch 15/300\n",
      "7500/7500 [==============================] - 1s 145us/step - loss: 0.3591 - accuracy: 0.8525\n",
      "Epoch 16/300\n",
      "7500/7500 [==============================] - 1s 148us/step - loss: 0.3563 - accuracy: 0.8552\n",
      "Epoch 17/300\n",
      "7500/7500 [==============================] - 1s 157us/step - loss: 0.3577 - accuracy: 0.8549\n",
      "Epoch 18/300\n",
      "7500/7500 [==============================] - 1s 167us/step - loss: 0.3560 - accuracy: 0.8576\n",
      "Epoch 19/300\n",
      "7500/7500 [==============================] - 1s 153us/step - loss: 0.3553 - accuracy: 0.8569\n",
      "Epoch 20/300\n",
      "7500/7500 [==============================] - 1s 159us/step - loss: 0.3546 - accuracy: 0.8580\n",
      "Epoch 21/300\n",
      "7500/7500 [==============================] - 1s 143us/step - loss: 0.3544 - accuracy: 0.8553\n",
      "Epoch 22/300\n",
      "7500/7500 [==============================] - 1s 181us/step - loss: 0.3523 - accuracy: 0.8561\n",
      "Epoch 23/300\n",
      "7500/7500 [==============================] - 1s 175us/step - loss: 0.3530 - accuracy: 0.8569\n",
      "Epoch 24/300\n",
      "7500/7500 [==============================] - 1s 190us/step - loss: 0.3510 - accuracy: 0.8579\n",
      "Epoch 25/300\n",
      "7500/7500 [==============================] - 1s 154us/step - loss: 0.3517 - accuracy: 0.8572\n",
      "Epoch 26/300\n",
      "7500/7500 [==============================] - 1s 144us/step - loss: 0.3512 - accuracy: 0.8564\n",
      "Epoch 27/300\n",
      "7500/7500 [==============================] - 1s 135us/step - loss: 0.3505 - accuracy: 0.8575\n",
      "Epoch 28/300\n",
      "7500/7500 [==============================] - 1s 129us/step - loss: 0.3509 - accuracy: 0.8572\n",
      "Epoch 29/300\n",
      "7500/7500 [==============================] - 1s 146us/step - loss: 0.3491 - accuracy: 0.8577\n",
      "Epoch 30/300\n",
      "7500/7500 [==============================] - 1s 139us/step - loss: 0.3499 - accuracy: 0.8552\n",
      "Epoch 31/300\n",
      "7500/7500 [==============================] - 1s 155us/step - loss: 0.3494 - accuracy: 0.8555\n",
      "Epoch 32/300\n",
      "7500/7500 [==============================] - 1s 146us/step - loss: 0.3491 - accuracy: 0.8595\n",
      "Epoch 33/300\n",
      "7500/7500 [==============================] - 1s 139us/step - loss: 0.3496 - accuracy: 0.8565\n",
      "Epoch 34/300\n",
      "7500/7500 [==============================] - 1s 140us/step - loss: 0.3494 - accuracy: 0.8580\n",
      "Epoch 35/300\n",
      "7500/7500 [==============================] - 1s 136us/step - loss: 0.3486 - accuracy: 0.8577\n",
      "Epoch 36/300\n",
      "7500/7500 [==============================] - 1s 138us/step - loss: 0.3476 - accuracy: 0.8588\n",
      "Epoch 37/300\n",
      "7500/7500 [==============================] - 1s 135us/step - loss: 0.3481 - accuracy: 0.8599\n",
      "Epoch 38/300\n",
      "7500/7500 [==============================] - 1s 136us/step - loss: 0.3481 - accuracy: 0.8573\n",
      "Epoch 39/300\n",
      "7500/7500 [==============================] - 1s 138us/step - loss: 0.3488 - accuracy: 0.8563\n",
      "Epoch 40/300\n",
      "7500/7500 [==============================] - 1s 166us/step - loss: 0.3486 - accuracy: 0.8557\n",
      "Epoch 41/300\n",
      "7500/7500 [==============================] - 1s 138us/step - loss: 0.3462 - accuracy: 0.8583\n",
      "Epoch 42/300\n",
      "7500/7500 [==============================] - 1s 139us/step - loss: 0.3467 - accuracy: 0.8593\n",
      "Epoch 43/300\n",
      "7500/7500 [==============================] - 1s 146us/step - loss: 0.3461 - accuracy: 0.8591\n",
      "Epoch 44/300\n",
      "7500/7500 [==============================] - 1s 147us/step - loss: 0.3466 - accuracy: 0.8569\n",
      "Epoch 45/300\n",
      "7500/7500 [==============================] - 1s 145us/step - loss: 0.3457 - accuracy: 0.8592\n",
      "Epoch 46/300\n",
      "7500/7500 [==============================] - 1s 142us/step - loss: 0.3462 - accuracy: 0.8585\n",
      "Epoch 47/300\n",
      "7500/7500 [==============================] - 1s 159us/step - loss: 0.3460 - accuracy: 0.8580\n",
      "Epoch 48/300\n",
      "7500/7500 [==============================] - 1s 145us/step - loss: 0.3454 - accuracy: 0.8601\n",
      "Epoch 49/300\n",
      "7500/7500 [==============================] - 1s 138us/step - loss: 0.3457 - accuracy: 0.8573\n",
      "Epoch 50/300\n",
      "7500/7500 [==============================] - 1s 139us/step - loss: 0.3458 - accuracy: 0.8580\n",
      "Epoch 51/300\n",
      "7500/7500 [==============================] - 1s 139us/step - loss: 0.3447 - accuracy: 0.8569\n",
      "Epoch 52/300\n",
      "7500/7500 [==============================] - 1s 141us/step - loss: 0.3445 - accuracy: 0.8560\n",
      "Epoch 53/300\n",
      "7500/7500 [==============================] - 1s 139us/step - loss: 0.3436 - accuracy: 0.8596\n",
      "Epoch 54/300\n",
      "7500/7500 [==============================] - 1s 140us/step - loss: 0.3436 - accuracy: 0.8596\n",
      "Epoch 55/300\n",
      "7500/7500 [==============================] - 1s 155us/step - loss: 0.3436 - accuracy: 0.8575\n",
      "Epoch 56/300\n",
      "7500/7500 [==============================] - 1s 138us/step - loss: 0.3447 - accuracy: 0.8600\n",
      "Epoch 57/300\n",
      "7500/7500 [==============================] - 1s 143us/step - loss: 0.3433 - accuracy: 0.8595\n",
      "Epoch 58/300\n",
      "7500/7500 [==============================] - 1s 135us/step - loss: 0.3437 - accuracy: 0.8589\n",
      "Epoch 59/300\n",
      "7500/7500 [==============================] - 1s 140us/step - loss: 0.3432 - accuracy: 0.8600\n",
      "Epoch 60/300\n",
      "7500/7500 [==============================] - 1s 138us/step - loss: 0.3436 - accuracy: 0.8605\n",
      "Epoch 61/300\n",
      "7500/7500 [==============================] - 1s 139us/step - loss: 0.3425 - accuracy: 0.8599\n",
      "Epoch 62/300\n",
      "7500/7500 [==============================] - 1s 139us/step - loss: 0.3431 - accuracy: 0.8600\n",
      "Epoch 63/300\n",
      "7500/7500 [==============================] - 1s 138us/step - loss: 0.3425 - accuracy: 0.8572\n",
      "Epoch 64/300\n",
      "7500/7500 [==============================] - 1s 138us/step - loss: 0.3429 - accuracy: 0.8573\n",
      "Epoch 65/300\n",
      "7500/7500 [==============================] - 1s 135us/step - loss: 0.3423 - accuracy: 0.8615\n",
      "Epoch 66/300\n",
      "7500/7500 [==============================] - 1s 137us/step - loss: 0.3426 - accuracy: 0.8595\n",
      "Epoch 67/300\n",
      "7500/7500 [==============================] - 1s 141us/step - loss: 0.3411 - accuracy: 0.8608\n",
      "Epoch 68/300\n",
      "7500/7500 [==============================] - 1s 145us/step - loss: 0.3427 - accuracy: 0.8599\n",
      "Epoch 69/300\n",
      "7500/7500 [==============================] - 1s 161us/step - loss: 0.3427 - accuracy: 0.8579\n",
      "Epoch 70/300\n",
      "7500/7500 [==============================] - 1s 138us/step - loss: 0.3424 - accuracy: 0.8588\n",
      "Epoch 71/300\n",
      "7500/7500 [==============================] - 1s 140us/step - loss: 0.3414 - accuracy: 0.8569\n",
      "Epoch 72/300\n",
      "7500/7500 [==============================] - 1s 145us/step - loss: 0.3417 - accuracy: 0.8585\n",
      "Epoch 73/300\n",
      "7500/7500 [==============================] - 1s 143us/step - loss: 0.3418 - accuracy: 0.8607\n",
      "Epoch 74/300\n",
      "7500/7500 [==============================] - 1s 140us/step - loss: 0.3414 - accuracy: 0.8577\n",
      "Epoch 75/300\n",
      "7500/7500 [==============================] - 1s 151us/step - loss: 0.3419 - accuracy: 0.8576\n",
      "Epoch 76/300\n",
      "7500/7500 [==============================] - 1s 147us/step - loss: 0.3419 - accuracy: 0.8585\n",
      "Epoch 77/300\n",
      "7500/7500 [==============================] - 1s 151us/step - loss: 0.3428 - accuracy: 0.8589\n",
      "Epoch 78/300\n",
      "7500/7500 [==============================] - 1s 150us/step - loss: 0.3425 - accuracy: 0.86190s - loss:\n",
      "Epoch 79/300\n",
      "7500/7500 [==============================] - 1s 138us/step - loss: 0.3417 - accuracy: 0.8575\n",
      "Epoch 80/300\n",
      "7500/7500 [==============================] - 1s 142us/step - loss: 0.3404 - accuracy: 0.8617\n",
      "Epoch 81/300\n",
      "7500/7500 [==============================] - 1s 141us/step - loss: 0.3420 - accuracy: 0.8579\n",
      "Epoch 82/300\n",
      "7500/7500 [==============================] - 1s 141us/step - loss: 0.3410 - accuracy: 0.86120s - loss: 0.3445 - accuracy: 0.85\n",
      "Epoch 83/300\n",
      "7500/7500 [==============================] - 1s 135us/step - loss: 0.3421 - accuracy: 0.8617\n",
      "Epoch 84/300\n",
      "7500/7500 [==============================] - 1s 121us/step - loss: 0.3415 - accuracy: 0.8588\n",
      "Epoch 85/300\n",
      "7500/7500 [==============================] - 1s 168us/step - loss: 0.3409 - accuracy: 0.8611\n",
      "Epoch 86/300\n",
      "7500/7500 [==============================] - 1s 150us/step - loss: 0.3418 - accuracy: 0.8575\n",
      "Epoch 87/300\n",
      "7500/7500 [==============================] - 1s 149us/step - loss: 0.3417 - accuracy: 0.8615\n",
      "Epoch 88/300\n",
      "7500/7500 [==============================] - 1s 150us/step - loss: 0.3398 - accuracy: 0.8600\n",
      "Epoch 89/300\n",
      "7500/7500 [==============================] - 1s 162us/step - loss: 0.3412 - accuracy: 0.8615\n",
      "Epoch 90/300\n",
      "7500/7500 [==============================] - 1s 147us/step - loss: 0.3402 - accuracy: 0.8595\n",
      "Epoch 91/300\n",
      "7500/7500 [==============================] - 1s 130us/step - loss: 0.3412 - accuracy: 0.8597\n",
      "Epoch 92/300\n",
      "7500/7500 [==============================] - 1s 126us/step - loss: 0.3410 - accuracy: 0.8589\n",
      "Epoch 93/300\n",
      "7500/7500 [==============================] - 1s 126us/step - loss: 0.3397 - accuracy: 0.8601\n",
      "Epoch 94/300\n",
      "7500/7500 [==============================] - 1s 143us/step - loss: 0.3417 - accuracy: 0.8631\n",
      "Epoch 95/300\n",
      "7500/7500 [==============================] - 1s 160us/step - loss: 0.3410 - accuracy: 0.8588\n",
      "Epoch 96/300\n",
      "7500/7500 [==============================] - 1s 155us/step - loss: 0.3406 - accuracy: 0.8593\n",
      "Epoch 97/300\n",
      "7500/7500 [==============================] - 1s 129us/step - loss: 0.3413 - accuracy: 0.8619\n",
      "Epoch 98/300\n",
      "7500/7500 [==============================] - 1s 128us/step - loss: 0.3401 - accuracy: 0.8596\n",
      "Epoch 99/300\n",
      "7500/7500 [==============================] - 1s 131us/step - loss: 0.3415 - accuracy: 0.8604\n",
      "Epoch 100/300\n",
      "7500/7500 [==============================] - 2s 212us/step - loss: 0.3404 - accuracy: 0.8613\n",
      "Epoch 101/300\n",
      "7500/7500 [==============================] - 1s 164us/step - loss: 0.3401 - accuracy: 0.8611\n",
      "Epoch 102/300\n",
      "7500/7500 [==============================] - 1s 148us/step - loss: 0.3400 - accuracy: 0.8627\n",
      "Epoch 103/300\n",
      "7500/7500 [==============================] - 1s 135us/step - loss: 0.3406 - accuracy: 0.8619\n",
      "Epoch 104/300\n",
      "7500/7500 [==============================] - 1s 160us/step - loss: 0.3397 - accuracy: 0.8605\n",
      "Epoch 105/300\n",
      "7500/7500 [==============================] - 1s 144us/step - loss: 0.3404 - accuracy: 0.8595\n",
      "Epoch 106/300\n",
      "7500/7500 [==============================] - 1s 133us/step - loss: 0.3405 - accuracy: 0.8621\n",
      "Epoch 107/300\n",
      "7500/7500 [==============================] - 1s 150us/step - loss: 0.3405 - accuracy: 0.8587\n",
      "Epoch 108/300\n",
      "7500/7500 [==============================] - 1s 130us/step - loss: 0.3408 - accuracy: 0.8623\n",
      "Epoch 109/300\n",
      "7500/7500 [==============================] - 1s 135us/step - loss: 0.3400 - accuracy: 0.8616\n",
      "Epoch 110/300\n",
      "7500/7500 [==============================] - 1s 128us/step - loss: 0.3404 - accuracy: 0.8621\n",
      "Epoch 111/300\n",
      "7500/7500 [==============================] - 1s 134us/step - loss: 0.3402 - accuracy: 0.8599\n",
      "Epoch 112/300\n",
      "7500/7500 [==============================] - 1s 135us/step - loss: 0.3407 - accuracy: 0.8592\n",
      "Epoch 113/300\n",
      "7500/7500 [==============================] - 1s 135us/step - loss: 0.3398 - accuracy: 0.8596\n",
      "Epoch 114/300\n",
      "7500/7500 [==============================] - 1s 134us/step - loss: 0.3401 - accuracy: 0.8611\n",
      "Epoch 115/300\n",
      "7500/7500 [==============================] - 1s 169us/step - loss: 0.3400 - accuracy: 0.8588\n",
      "Epoch 116/300\n",
      "7500/7500 [==============================] - 1s 137us/step - loss: 0.3399 - accuracy: 0.8611\n",
      "Epoch 117/300\n",
      "7500/7500 [==============================] - 1s 133us/step - loss: 0.3411 - accuracy: 0.8600\n",
      "Epoch 118/300\n",
      "7500/7500 [==============================] - 1s 132us/step - loss: 0.3405 - accuracy: 0.8596\n",
      "Epoch 119/300\n",
      "7500/7500 [==============================] - 1s 133us/step - loss: 0.3398 - accuracy: 0.8620\n",
      "Epoch 120/300\n",
      "7500/7500 [==============================] - 1s 129us/step - loss: 0.3407 - accuracy: 0.8625\n",
      "Epoch 121/300\n",
      "7500/7500 [==============================] - 1s 135us/step - loss: 0.3413 - accuracy: 0.8605\n",
      "Epoch 122/300\n",
      "7500/7500 [==============================] - 1s 132us/step - loss: 0.3400 - accuracy: 0.8592\n",
      "Epoch 123/300\n",
      "7500/7500 [==============================] - 1s 136us/step - loss: 0.3404 - accuracy: 0.8593\n",
      "Epoch 124/300\n",
      "7500/7500 [==============================] - 1s 132us/step - loss: 0.3396 - accuracy: 0.8619\n",
      "Epoch 125/300\n",
      "7500/7500 [==============================] - 1s 135us/step - loss: 0.3398 - accuracy: 0.8607\n",
      "Epoch 126/300\n",
      "7500/7500 [==============================] - 1s 131us/step - loss: 0.3397 - accuracy: 0.8629\n",
      "Epoch 127/300\n",
      "7500/7500 [==============================] - 1s 124us/step - loss: 0.3391 - accuracy: 0.8620\n",
      "Epoch 128/300\n",
      "7500/7500 [==============================] - 1s 150us/step - loss: 0.3401 - accuracy: 0.8607\n",
      "Epoch 129/300\n",
      "7500/7500 [==============================] - 1s 132us/step - loss: 0.3394 - accuracy: 0.8617\n",
      "Epoch 130/300\n",
      "7500/7500 [==============================] - 1s 124us/step - loss: 0.3401 - accuracy: 0.8609\n",
      "Epoch 131/300\n",
      "7500/7500 [==============================] - 1s 149us/step - loss: 0.3395 - accuracy: 0.8620\n",
      "Epoch 132/300\n",
      "7500/7500 [==============================] - 1s 159us/step - loss: 0.3400 - accuracy: 0.8621\n",
      "Epoch 133/300\n",
      "7500/7500 [==============================] - 1s 124us/step - loss: 0.3391 - accuracy: 0.8617\n",
      "Epoch 134/300\n",
      "7500/7500 [==============================] - 1s 158us/step - loss: 0.3401 - accuracy: 0.8625\n",
      "Epoch 135/300\n",
      "7500/7500 [==============================] - 1s 145us/step - loss: 0.3397 - accuracy: 0.8628\n",
      "Epoch 136/300\n",
      "7500/7500 [==============================] - 1s 126us/step - loss: 0.3394 - accuracy: 0.8617\n",
      "Epoch 137/300\n",
      "7500/7500 [==============================] - 1s 200us/step - loss: 0.3403 - accuracy: 0.8612\n",
      "Epoch 138/300\n",
      "7500/7500 [==============================] - 1s 142us/step - loss: 0.3398 - accuracy: 0.8628\n",
      "Epoch 139/300\n",
      "7500/7500 [==============================] - 1s 161us/step - loss: 0.3390 - accuracy: 0.8617\n",
      "Epoch 140/300\n",
      "7500/7500 [==============================] - 2s 214us/step - loss: 0.3394 - accuracy: 0.8607\n",
      "Epoch 141/300\n",
      "7500/7500 [==============================] - 2s 221us/step - loss: 0.3402 - accuracy: 0.8607\n",
      "Epoch 142/300\n",
      "7500/7500 [==============================] - 1s 164us/step - loss: 0.3397 - accuracy: 0.8605\n",
      "Epoch 143/300\n",
      "7500/7500 [==============================] - 1s 157us/step - loss: 0.3391 - accuracy: 0.8636\n",
      "Epoch 144/300\n",
      "7500/7500 [==============================] - 1s 142us/step - loss: 0.3386 - accuracy: 0.8600\n",
      "Epoch 145/300\n",
      "7500/7500 [==============================] - 1s 169us/step - loss: 0.3393 - accuracy: 0.8616\n",
      "Epoch 146/300\n",
      "7500/7500 [==============================] - 1s 160us/step - loss: 0.3391 - accuracy: 0.8605\n",
      "Epoch 147/300\n",
      "7500/7500 [==============================] - 1s 153us/step - loss: 0.3381 - accuracy: 0.8624\n",
      "Epoch 148/300\n",
      "7500/7500 [==============================] - 2s 242us/step - loss: 0.3397 - accuracy: 0.8607\n",
      "Epoch 149/300\n",
      "7500/7500 [==============================] - 2s 252us/step - loss: 0.3392 - accuracy: 0.8603\n",
      "Epoch 150/300\n",
      "7500/7500 [==============================] - 1s 198us/step - loss: 0.3384 - accuracy: 0.8613\n",
      "Epoch 151/300\n",
      "7500/7500 [==============================] - 2s 216us/step - loss: 0.3391 - accuracy: 0.8615\n",
      "Epoch 152/300\n",
      "7500/7500 [==============================] - 2s 219us/step - loss: 0.3392 - accuracy: 0.8625\n",
      "Epoch 153/300\n",
      "7500/7500 [==============================] - 2s 219us/step - loss: 0.3386 - accuracy: 0.8613\n",
      "Epoch 154/300\n",
      "7500/7500 [==============================] - 1s 139us/step - loss: 0.3387 - accuracy: 0.8629\n",
      "Epoch 155/300\n",
      "7500/7500 [==============================] - 1s 139us/step - loss: 0.3387 - accuracy: 0.8605\n",
      "Epoch 156/300\n",
      "7500/7500 [==============================] - 1s 131us/step - loss: 0.3396 - accuracy: 0.8612\n",
      "Epoch 157/300\n",
      "7500/7500 [==============================] - 1s 150us/step - loss: 0.3381 - accuracy: 0.8625\n",
      "Epoch 158/300\n",
      "7500/7500 [==============================] - 1s 144us/step - loss: 0.3392 - accuracy: 0.8613\n",
      "Epoch 159/300\n",
      "7500/7500 [==============================] - 1s 175us/step - loss: 0.3386 - accuracy: 0.8629\n",
      "Epoch 160/300\n",
      "7500/7500 [==============================] - 1s 137us/step - loss: 0.3379 - accuracy: 0.8649\n",
      "Epoch 161/300\n",
      "7500/7500 [==============================] - 1s 153us/step - loss: 0.3386 - accuracy: 0.8625\n",
      "Epoch 162/300\n",
      "7500/7500 [==============================] - 1s 158us/step - loss: 0.3384 - accuracy: 0.8631\n",
      "Epoch 163/300\n",
      "7500/7500 [==============================] - 1s 154us/step - loss: 0.3383 - accuracy: 0.8620\n",
      "Epoch 164/300\n",
      "7500/7500 [==============================] - 1s 198us/step - loss: 0.3379 - accuracy: 0.8635\n",
      "Epoch 165/300\n",
      "7500/7500 [==============================] - 2s 215us/step - loss: 0.3382 - accuracy: 0.8635\n",
      "Epoch 166/300\n",
      "7500/7500 [==============================] - 2s 266us/step - loss: 0.3385 - accuracy: 0.8603\n",
      "Epoch 167/300\n",
      "7500/7500 [==============================] - 2s 222us/step - loss: 0.3379 - accuracy: 0.8644\n",
      "Epoch 168/300\n",
      "7500/7500 [==============================] - 1s 197us/step - loss: 0.3377 - accuracy: 0.8608\n",
      "Epoch 169/300\n",
      "7500/7500 [==============================] - 2s 217us/step - loss: 0.3381 - accuracy: 0.8628\n",
      "Epoch 170/300\n",
      "7500/7500 [==============================] - 2s 248us/step - loss: 0.3394 - accuracy: 0.8631\n",
      "Epoch 171/300\n",
      "7500/7500 [==============================] - 2s 202us/step - loss: 0.3380 - accuracy: 0.8628\n",
      "Epoch 172/300\n",
      "7500/7500 [==============================] - 2s 238us/step - loss: 0.3378 - accuracy: 0.8609\n",
      "Epoch 173/300\n",
      "7500/7500 [==============================] - 2s 226us/step - loss: 0.3386 - accuracy: 0.8633\n",
      "Epoch 174/300\n",
      "7500/7500 [==============================] - 2s 242us/step - loss: 0.3380 - accuracy: 0.8601\n",
      "Epoch 175/300\n",
      "7500/7500 [==============================] - 1s 174us/step - loss: 0.3379 - accuracy: 0.8635\n",
      "Epoch 176/300\n",
      "7500/7500 [==============================] - 1s 195us/step - loss: 0.3394 - accuracy: 0.8605\n",
      "Epoch 177/300\n",
      "7500/7500 [==============================] - 1s 151us/step - loss: 0.3385 - accuracy: 0.8629\n",
      "Epoch 178/300\n",
      "7500/7500 [==============================] - 1s 172us/step - loss: 0.3381 - accuracy: 0.8599\n",
      "Epoch 179/300\n",
      "7500/7500 [==============================] - 1s 165us/step - loss: 0.3371 - accuracy: 0.8607\n",
      "Epoch 180/300\n",
      "7500/7500 [==============================] - 1s 139us/step - loss: 0.3390 - accuracy: 0.8613\n",
      "Epoch 181/300\n",
      "7500/7500 [==============================] - 1s 161us/step - loss: 0.3376 - accuracy: 0.8595\n",
      "Epoch 182/300\n",
      "7500/7500 [==============================] - 2s 200us/step - loss: 0.3378 - accuracy: 0.8636\n",
      "Epoch 183/300\n",
      "7500/7500 [==============================] - 1s 181us/step - loss: 0.3380 - accuracy: 0.8625\n",
      "Epoch 184/300\n",
      "7500/7500 [==============================] - 1s 164us/step - loss: 0.3380 - accuracy: 0.8624\n",
      "Epoch 185/300\n",
      "7500/7500 [==============================] - 1s 125us/step - loss: 0.3393 - accuracy: 0.8604\n",
      "Epoch 186/300\n",
      "7500/7500 [==============================] - 1s 111us/step - loss: 0.3383 - accuracy: 0.8603\n",
      "Epoch 187/300\n",
      "7500/7500 [==============================] - 1s 112us/step - loss: 0.3374 - accuracy: 0.8633\n",
      "Epoch 188/300\n",
      "7500/7500 [==============================] - 1s 115us/step - loss: 0.3371 - accuracy: 0.8615\n",
      "Epoch 189/300\n",
      "7500/7500 [==============================] - 1s 111us/step - loss: 0.3375 - accuracy: 0.8632\n",
      "Epoch 190/300\n",
      "7500/7500 [==============================] - 1s 112us/step - loss: 0.3378 - accuracy: 0.8624\n",
      "Epoch 191/300\n",
      "7500/7500 [==============================] - 1s 139us/step - loss: 0.3374 - accuracy: 0.8623\n",
      "Epoch 192/300\n",
      "7500/7500 [==============================] - 1s 124us/step - loss: 0.3383 - accuracy: 0.8628\n",
      "Epoch 193/300\n",
      "7500/7500 [==============================] - 1s 113us/step - loss: 0.3367 - accuracy: 0.8639\n",
      "Epoch 194/300\n",
      "7500/7500 [==============================] - 1s 120us/step - loss: 0.3376 - accuracy: 0.8621\n",
      "Epoch 195/300\n",
      "7500/7500 [==============================] - 1s 112us/step - loss: 0.3369 - accuracy: 0.8645\n",
      "Epoch 196/300\n",
      "7500/7500 [==============================] - 1s 131us/step - loss: 0.3366 - accuracy: 0.8613\n",
      "Epoch 197/300\n",
      "7500/7500 [==============================] - 1s 111us/step - loss: 0.3366 - accuracy: 0.8643\n",
      "Epoch 198/300\n",
      "7500/7500 [==============================] - 1s 117us/step - loss: 0.3373 - accuracy: 0.8631\n",
      "Epoch 199/300\n",
      "7500/7500 [==============================] - 1s 115us/step - loss: 0.3372 - accuracy: 0.8623\n",
      "Epoch 200/300\n",
      "7500/7500 [==============================] - 1s 112us/step - loss: 0.3362 - accuracy: 0.8628\n",
      "Epoch 201/300\n",
      "7500/7500 [==============================] - 1s 115us/step - loss: 0.3365 - accuracy: 0.8619\n",
      "Epoch 202/300\n",
      "7500/7500 [==============================] - 1s 122us/step - loss: 0.3367 - accuracy: 0.8636\n",
      "Epoch 203/300\n",
      "7500/7500 [==============================] - 1s 123us/step - loss: 0.3368 - accuracy: 0.8605\n",
      "Epoch 204/300\n",
      "7500/7500 [==============================] - 1s 134us/step - loss: 0.3362 - accuracy: 0.8625\n",
      "Epoch 205/300\n",
      "7500/7500 [==============================] - 1s 122us/step - loss: 0.3365 - accuracy: 0.8623\n",
      "Epoch 206/300\n",
      "7500/7500 [==============================] - 1s 123us/step - loss: 0.3377 - accuracy: 0.8619\n",
      "Epoch 207/300\n",
      "7500/7500 [==============================] - 1s 123us/step - loss: 0.3361 - accuracy: 0.8628\n",
      "Epoch 208/300\n",
      "7500/7500 [==============================] - 1s 123us/step - loss: 0.3360 - accuracy: 0.8656\n",
      "Epoch 209/300\n",
      "7500/7500 [==============================] - 1s 121us/step - loss: 0.3361 - accuracy: 0.8632\n",
      "Epoch 210/300\n",
      "7500/7500 [==============================] - 1s 123us/step - loss: 0.3367 - accuracy: 0.8613\n",
      "Epoch 211/300\n",
      "7500/7500 [==============================] - 1s 123us/step - loss: 0.3369 - accuracy: 0.8627\n",
      "Epoch 212/300\n",
      "7500/7500 [==============================] - 1s 171us/step - loss: 0.3374 - accuracy: 0.8612\n",
      "Epoch 213/300\n",
      "7500/7500 [==============================] - 1s 168us/step - loss: 0.3376 - accuracy: 0.8611\n",
      "Epoch 214/300\n",
      "7500/7500 [==============================] - 1s 116us/step - loss: 0.3359 - accuracy: 0.8623\n",
      "Epoch 215/300\n",
      "7500/7500 [==============================] - 1s 123us/step - loss: 0.3365 - accuracy: 0.8625\n",
      "Epoch 216/300\n",
      "7500/7500 [==============================] - 1s 122us/step - loss: 0.3363 - accuracy: 0.8631\n",
      "Epoch 217/300\n",
      "7500/7500 [==============================] - 1s 123us/step - loss: 0.3357 - accuracy: 0.8636\n",
      "Epoch 218/300\n",
      "7500/7500 [==============================] - 1s 122us/step - loss: 0.3372 - accuracy: 0.8629\n",
      "Epoch 219/300\n",
      "7500/7500 [==============================] - 1s 121us/step - loss: 0.3360 - accuracy: 0.8629\n",
      "Epoch 220/300\n",
      "7500/7500 [==============================] - 1s 122us/step - loss: 0.3362 - accuracy: 0.8637\n",
      "Epoch 221/300\n",
      "7500/7500 [==============================] - 1s 123us/step - loss: 0.3362 - accuracy: 0.8619\n",
      "Epoch 222/300\n",
      "7500/7500 [==============================] - 1s 123us/step - loss: 0.3371 - accuracy: 0.8621\n",
      "Epoch 223/300\n",
      "7500/7500 [==============================] - 1s 126us/step - loss: 0.3360 - accuracy: 0.8624\n",
      "Epoch 224/300\n",
      "7500/7500 [==============================] - 1s 122us/step - loss: 0.3369 - accuracy: 0.8648\n",
      "Epoch 225/300\n",
      "7500/7500 [==============================] - 1s 121us/step - loss: 0.3362 - accuracy: 0.8617\n",
      "Epoch 226/300\n",
      "7500/7500 [==============================] - 1s 119us/step - loss: 0.3369 - accuracy: 0.8617\n",
      "Epoch 227/300\n",
      "7500/7500 [==============================] - 1s 125us/step - loss: 0.3359 - accuracy: 0.8617\n",
      "Epoch 228/300\n",
      "7500/7500 [==============================] - 1s 146us/step - loss: 0.3370 - accuracy: 0.8599\n",
      "Epoch 229/300\n",
      "7500/7500 [==============================] - 1s 119us/step - loss: 0.3360 - accuracy: 0.8637\n",
      "Epoch 230/300\n",
      "7500/7500 [==============================] - 1s 123us/step - loss: 0.3360 - accuracy: 0.8616\n",
      "Epoch 231/300\n",
      "7500/7500 [==============================] - 1s 127us/step - loss: 0.3352 - accuracy: 0.8617\n",
      "Epoch 232/300\n",
      "7500/7500 [==============================] - 1s 132us/step - loss: 0.3365 - accuracy: 0.8631\n",
      "Epoch 233/300\n",
      "7500/7500 [==============================] - 1s 131us/step - loss: 0.3363 - accuracy: 0.8621\n",
      "Epoch 234/300\n",
      "7500/7500 [==============================] - 1s 140us/step - loss: 0.3361 - accuracy: 0.8628\n",
      "Epoch 235/300\n",
      "7500/7500 [==============================] - 1s 158us/step - loss: 0.3366 - accuracy: 0.8623\n",
      "Epoch 236/300\n",
      "7500/7500 [==============================] - 1s 175us/step - loss: 0.3360 - accuracy: 0.8633\n",
      "Epoch 237/300\n",
      "7500/7500 [==============================] - 1s 175us/step - loss: 0.3367 - accuracy: 0.8635\n",
      "Epoch 238/300\n",
      "7500/7500 [==============================] - 1s 140us/step - loss: 0.3361 - accuracy: 0.8636\n",
      "Epoch 239/300\n",
      "7500/7500 [==============================] - 1s 131us/step - loss: 0.3358 - accuracy: 0.8643\n",
      "Epoch 240/300\n",
      "7500/7500 [==============================] - 1s 129us/step - loss: 0.3360 - accuracy: 0.8628\n",
      "Epoch 241/300\n",
      "7500/7500 [==============================] - 1s 129us/step - loss: 0.3366 - accuracy: 0.8636\n",
      "Epoch 242/300\n",
      "7500/7500 [==============================] - 1s 169us/step - loss: 0.3367 - accuracy: 0.8616\n",
      "Epoch 243/300\n",
      "7500/7500 [==============================] - 1s 153us/step - loss: 0.3368 - accuracy: 0.8629\n",
      "Epoch 244/300\n",
      "7500/7500 [==============================] - 1s 160us/step - loss: 0.3357 - accuracy: 0.8615\n",
      "Epoch 245/300\n",
      "7500/7500 [==============================] - 1s 146us/step - loss: 0.3363 - accuracy: 0.8644\n",
      "Epoch 246/300\n",
      "7500/7500 [==============================] - 1s 138us/step - loss: 0.3356 - accuracy: 0.8629\n",
      "Epoch 247/300\n",
      "7500/7500 [==============================] - 1s 141us/step - loss: 0.3366 - accuracy: 0.8616\n",
      "Epoch 248/300\n",
      "7500/7500 [==============================] - 1s 160us/step - loss: 0.3361 - accuracy: 0.8624\n",
      "Epoch 249/300\n",
      "7500/7500 [==============================] - 1s 161us/step - loss: 0.3357 - accuracy: 0.8627\n",
      "Epoch 250/300\n",
      "7500/7500 [==============================] - 1s 139us/step - loss: 0.3363 - accuracy: 0.8631\n",
      "Epoch 251/300\n",
      "7500/7500 [==============================] - 1s 136us/step - loss: 0.3360 - accuracy: 0.8623\n",
      "Epoch 252/300\n",
      "7500/7500 [==============================] - 1s 153us/step - loss: 0.3368 - accuracy: 0.8619\n",
      "Epoch 253/300\n",
      "7500/7500 [==============================] - 1s 152us/step - loss: 0.3362 - accuracy: 0.8609\n",
      "Epoch 254/300\n",
      "7500/7500 [==============================] - 1s 135us/step - loss: 0.3363 - accuracy: 0.8603\n",
      "Epoch 255/300\n",
      "7500/7500 [==============================] - 1s 155us/step - loss: 0.3357 - accuracy: 0.8643\n",
      "Epoch 256/300\n",
      "7500/7500 [==============================] - 1s 159us/step - loss: 0.3356 - accuracy: 0.8635\n",
      "Epoch 257/300\n",
      "7500/7500 [==============================] - 2s 203us/step - loss: 0.3359 - accuracy: 0.8667\n",
      "Epoch 258/300\n",
      "7500/7500 [==============================] - 1s 160us/step - loss: 0.3362 - accuracy: 0.8609\n",
      "Epoch 259/300\n",
      "7500/7500 [==============================] - 1s 153us/step - loss: 0.3353 - accuracy: 0.8629\n",
      "Epoch 260/300\n",
      "7500/7500 [==============================] - 1s 145us/step - loss: 0.3363 - accuracy: 0.8625\n",
      "Epoch 261/300\n",
      "7500/7500 [==============================] - 1s 143us/step - loss: 0.3359 - accuracy: 0.8619\n",
      "Epoch 262/300\n",
      "7500/7500 [==============================] - 1s 152us/step - loss: 0.3357 - accuracy: 0.8627\n",
      "Epoch 263/300\n",
      "7500/7500 [==============================] - 1s 141us/step - loss: 0.3363 - accuracy: 0.8628\n",
      "Epoch 264/300\n",
      "7500/7500 [==============================] - 1s 137us/step - loss: 0.3351 - accuracy: 0.8605\n",
      "Epoch 265/300\n",
      "7500/7500 [==============================] - 1s 143us/step - loss: 0.3359 - accuracy: 0.8613\n",
      "Epoch 266/300\n",
      "7500/7500 [==============================] - 1s 143us/step - loss: 0.3358 - accuracy: 0.8628\n",
      "Epoch 267/300\n",
      "7500/7500 [==============================] - 1s 152us/step - loss: 0.3364 - accuracy: 0.8651\n",
      "Epoch 268/300\n",
      "7500/7500 [==============================] - 1s 144us/step - loss: 0.3346 - accuracy: 0.8620\n",
      "Epoch 269/300\n",
      "7500/7500 [==============================] - 1s 159us/step - loss: 0.3359 - accuracy: 0.86120s -\n",
      "Epoch 270/300\n",
      "7500/7500 [==============================] - 1s 151us/step - loss: 0.3362 - accuracy: 0.8623\n",
      "Epoch 271/300\n",
      "7500/7500 [==============================] - 1s 138us/step - loss: 0.3358 - accuracy: 0.8631\n",
      "Epoch 272/300\n",
      "7500/7500 [==============================] - 1s 144us/step - loss: 0.3355 - accuracy: 0.8632\n",
      "Epoch 273/300\n",
      "7500/7500 [==============================] - 1s 137us/step - loss: 0.3357 - accuracy: 0.8629\n",
      "Epoch 274/300\n",
      "7500/7500 [==============================] - 1s 136us/step - loss: 0.3356 - accuracy: 0.8603\n",
      "Epoch 275/300\n",
      "7500/7500 [==============================] - 1s 145us/step - loss: 0.3345 - accuracy: 0.8615\n",
      "Epoch 276/300\n",
      "7500/7500 [==============================] - 1s 157us/step - loss: 0.3354 - accuracy: 0.8609\n",
      "Epoch 277/300\n",
      "7500/7500 [==============================] - 1s 149us/step - loss: 0.3351 - accuracy: 0.8621\n",
      "Epoch 278/300\n",
      "7500/7500 [==============================] - 1s 145us/step - loss: 0.3351 - accuracy: 0.8647\n",
      "Epoch 279/300\n",
      "7500/7500 [==============================] - 1s 143us/step - loss: 0.3356 - accuracy: 0.8607\n",
      "Epoch 280/300\n",
      "7500/7500 [==============================] - 1s 137us/step - loss: 0.3356 - accuracy: 0.8603\n",
      "Epoch 281/300\n",
      "7500/7500 [==============================] - 1s 144us/step - loss: 0.3358 - accuracy: 0.8620\n",
      "Epoch 282/300\n",
      "7500/7500 [==============================] - 1s 133us/step - loss: 0.3361 - accuracy: 0.8625\n",
      "Epoch 283/300\n",
      "7500/7500 [==============================] - 1s 126us/step - loss: 0.3354 - accuracy: 0.8643\n",
      "Epoch 284/300\n",
      "7500/7500 [==============================] - 1s 133us/step - loss: 0.3354 - accuracy: 0.8613\n",
      "Epoch 285/300\n",
      "7500/7500 [==============================] - 1s 131us/step - loss: 0.3358 - accuracy: 0.8613\n",
      "Epoch 286/300\n",
      "7500/7500 [==============================] - 1s 131us/step - loss: 0.3365 - accuracy: 0.8635\n",
      "Epoch 287/300\n",
      "7500/7500 [==============================] - 1s 133us/step - loss: 0.3360 - accuracy: 0.8613\n",
      "Epoch 288/300\n",
      "7500/7500 [==============================] - 1s 133us/step - loss: 0.3357 - accuracy: 0.8625\n",
      "Epoch 289/300\n",
      "7500/7500 [==============================] - 1s 157us/step - loss: 0.3357 - accuracy: 0.8621\n",
      "Epoch 290/300\n",
      "7500/7500 [==============================] - 1s 183us/step - loss: 0.3361 - accuracy: 0.8624\n",
      "Epoch 291/300\n",
      "7500/7500 [==============================] - 1s 139us/step - loss: 0.3354 - accuracy: 0.8615\n",
      "Epoch 292/300\n",
      "7500/7500 [==============================] - 1s 130us/step - loss: 0.3349 - accuracy: 0.8620\n",
      "Epoch 293/300\n",
      "7500/7500 [==============================] - 1s 131us/step - loss: 0.3355 - accuracy: 0.8627\n",
      "Epoch 294/300\n",
      "7500/7500 [==============================] - 1s 131us/step - loss: 0.3353 - accuracy: 0.8633\n",
      "Epoch 295/300\n",
      "7500/7500 [==============================] - 1s 131us/step - loss: 0.3354 - accuracy: 0.8653\n",
      "Epoch 296/300\n",
      "7500/7500 [==============================] - 1s 131us/step - loss: 0.3356 - accuracy: 0.8613\n",
      "Epoch 297/300\n",
      "7500/7500 [==============================] - 1s 131us/step - loss: 0.3352 - accuracy: 0.8627\n",
      "Epoch 298/300\n",
      "7500/7500 [==============================] - 1s 145us/step - loss: 0.3350 - accuracy: 0.8623\n",
      "Epoch 299/300\n",
      "7500/7500 [==============================] - 1s 174us/step - loss: 0.3353 - accuracy: 0.8647\n",
      "Epoch 300/300\n",
      "7500/7500 [==============================] - 1s 174us/step - loss: 0.3348 - accuracy: 0.8627\n"
     ]
    },
    {
     "data": {
      "text/plain": [
       "<keras.callbacks.callbacks.History at 0x1e1ffa48>"
      ]
     },
     "execution_count": 46,
     "metadata": {},
     "output_type": "execute_result"
    }
   ],
   "source": [
    "customer_classifier.fit(X_train,y_train,batch_size=10,nb_epoch = 300)"
   ]
  },
  {
   "cell_type": "code",
   "execution_count": null,
   "metadata": {},
   "outputs": [],
   "source": [
    "#loss: 0.3922 - accuracy: 0.8407\n",
    "\n",
    "# 200 Epochs\n",
    "loss: 0.3372 - accuracy: 0.8605\n",
    "# 300 Epochs\n",
    "loss: 0.3350 - accuracy: 0.8632\n",
    "        \n",
    "# with Three Hidden Layers\n",
    "loss: 0.3348 - accuracy: 0.8627"
   ]
  },
  {
   "cell_type": "code",
   "execution_count": 65,
   "metadata": {},
   "outputs": [],
   "source": [
    "predictions = customer_classifier.predict(X_test)    "
   ]
  },
  {
   "cell_type": "code",
   "execution_count": 66,
   "metadata": {
    "collapsed": true
   },
   "outputs": [
    {
     "data": {
      "text/plain": [
       "array([[0.08663528],\n",
       "       [0.12744227],\n",
       "       [0.12569599],\n",
       "       ...,\n",
       "       [0.65391386],\n",
       "       [0.27728027],\n",
       "       [0.23271425]], dtype=float32)"
      ]
     },
     "execution_count": 66,
     "metadata": {},
     "output_type": "execute_result"
    }
   ],
   "source": [
    "predictions"
   ]
  },
  {
   "cell_type": "code",
   "execution_count": 68,
   "metadata": {
    "collapsed": true
   },
   "outputs": [
    {
     "data": {
      "text/plain": [
       "array([0.7145028 , 0.6362007 , 0.6114517 , 0.8487217 , 0.83487576,\n",
       "       0.77793986, 0.5255283 , 0.5922449 , 0.87367415, 0.6087518 ,\n",
       "       0.6786688 , 0.5571901 , 0.655976  , 0.87917465, 0.87108403,\n",
       "       0.606563  , 0.81445515, 0.8381801 , 0.54354393, 0.8543929 ,\n",
       "       0.5432707 , 0.6567862 , 0.7872584 , 0.50369185, 0.6078167 ,\n",
       "       0.6229349 , 0.80078214, 0.6864048 , 0.5446605 , 0.5635291 ,\n",
       "       0.53279704, 0.7240267 , 0.5098967 , 0.51907355, 0.713593  ,\n",
       "       0.5577543 , 0.6085036 , 0.61685413, 0.52298415, 0.5145653 ,\n",
       "       0.82159126, 0.82154155, 0.55197316, 0.76056933, 0.86127055,\n",
       "       0.87917465, 0.5114295 , 0.7462549 , 0.5685871 , 0.5854186 ,\n",
       "       0.8415954 , 0.5337203 , 0.5421252 , 0.6505044 , 0.57700986,\n",
       "       0.5051142 , 0.80209446, 0.85751975, 0.6562799 , 0.87917465,\n",
       "       0.87369955, 0.7012896 , 0.8105486 , 0.56179315, 0.8625898 ,\n",
       "       0.8433575 , 0.7456593 , 0.7940487 , 0.5830245 , 0.87917465,\n",
       "       0.868696  , 0.76432   , 0.8771994 , 0.8661692 , 0.7932787 ,\n",
       "       0.7504581 , 0.57476264, 0.53064233, 0.5443245 , 0.61199796,\n",
       "       0.844745  , 0.74270463, 0.66157144, 0.6421317 , 0.86337656,\n",
       "       0.7654521 , 0.7454773 , 0.6644085 , 0.52302814, 0.77751243,\n",
       "       0.86788714, 0.5653617 , 0.67440987, 0.8209986 , 0.864114  ,\n",
       "       0.7061098 , 0.8537634 , 0.7054956 , 0.5083059 , 0.7151379 ,\n",
       "       0.74642617, 0.7565325 , 0.7322475 , 0.8538249 , 0.81675214,\n",
       "       0.66378003, 0.6180537 , 0.62802804, 0.54729104, 0.74095607,\n",
       "       0.6620301 , 0.8754412 , 0.65644556, 0.58936447, 0.513716  ,\n",
       "       0.6440233 , 0.51552486, 0.5393355 , 0.66298676, 0.59365207,\n",
       "       0.5125697 , 0.53260595, 0.8769033 , 0.6163034 , 0.5778712 ,\n",
       "       0.73755485, 0.8056318 , 0.65494114, 0.87917465, 0.87917465,\n",
       "       0.5297927 , 0.76968366, 0.66359866, 0.87917465, 0.7188405 ,\n",
       "       0.5591813 , 0.6758083 , 0.70599616, 0.5913245 , 0.5032227 ,\n",
       "       0.8784735 , 0.52997684, 0.65509236, 0.5837102 , 0.82052463,\n",
       "       0.6036668 , 0.56207013, 0.5768892 , 0.73745954, 0.51277345,\n",
       "       0.5086063 , 0.56252486, 0.84401214, 0.6988089 , 0.6701615 ,\n",
       "       0.6585314 , 0.5786154 , 0.56189066, 0.7468623 , 0.8402577 ,\n",
       "       0.64051145, 0.5787612 , 0.7989613 , 0.82211524, 0.5696298 ,\n",
       "       0.58601654, 0.5843128 , 0.5354584 , 0.56697583, 0.75179523,\n",
       "       0.719292  , 0.8633259 , 0.60872304, 0.7735221 , 0.60442626,\n",
       "       0.8705534 , 0.76914716, 0.5031857 , 0.56482905, 0.7544889 ,\n",
       "       0.8790322 , 0.5735066 , 0.62185395, 0.8175766 , 0.5404467 ,\n",
       "       0.87897235, 0.75057316, 0.6045552 , 0.8244395 , 0.563266  ,\n",
       "       0.6286646 , 0.64508176, 0.51267695, 0.5406626 , 0.8776887 ,\n",
       "       0.5142193 , 0.59964323, 0.53068584, 0.7390124 , 0.53245515,\n",
       "       0.8131161 , 0.52119625, 0.70251995, 0.6751969 , 0.56241155,\n",
       "       0.53935266, 0.6147858 , 0.76738346, 0.5151371 , 0.5356971 ,\n",
       "       0.87917465, 0.6023937 , 0.7830683 , 0.72432905, 0.7372749 ,\n",
       "       0.5324747 , 0.5754254 , 0.8168549 , 0.7930603 , 0.77645177,\n",
       "       0.78186196, 0.87917465, 0.7312076 , 0.5614343 , 0.87917465,\n",
       "       0.59697163, 0.5617352 , 0.87917465, 0.68157995, 0.72615325,\n",
       "       0.51907444, 0.52432966, 0.51432925, 0.53468823, 0.7394966 ,\n",
       "       0.61992043, 0.63202316, 0.8051823 , 0.65383315, 0.67303044,\n",
       "       0.8690359 , 0.54962456, 0.82702166, 0.751508  , 0.5204828 ,\n",
       "       0.7621871 , 0.87917465, 0.8262383 , 0.56945884, 0.6997578 ,\n",
       "       0.79027057, 0.65391386], dtype=float32)"
      ]
     },
     "execution_count": 68,
     "metadata": {},
     "output_type": "execute_result"
    }
   ],
   "source": [
    "predictions [predictions > 0.50] "
   ]
  },
  {
   "cell_type": "code",
   "execution_count": 69,
   "metadata": {
    "collapsed": true
   },
   "outputs": [
    {
     "name": "stdout",
     "output_type": "stream",
     "text": [
      "Model: \"sequential_2\"\n",
      "_________________________________________________________________\n",
      "Layer (type)                 Output Shape              Param #   \n",
      "=================================================================\n",
      "dense_4 (Dense)              (None, 6)                 72        \n",
      "_________________________________________________________________\n",
      "dense_5 (Dense)              (None, 6)                 42        \n",
      "_________________________________________________________________\n",
      "dense_6 (Dense)              (None, 1)                 7         \n",
      "=================================================================\n",
      "Total params: 121\n",
      "Trainable params: 121\n",
      "Non-trainable params: 0\n",
      "_________________________________________________________________\n"
     ]
    }
   ],
   "source": [
    "customer_classifier.summary()"
   ]
  },
  {
   "cell_type": "code",
   "execution_count": 36,
   "metadata": {},
   "outputs": [],
   "source": [
    "customer_classifier.save('d:/models/Customer_Churn_Model.h5')"
   ]
  },
  {
   "cell_type": "code",
   "execution_count": null,
   "metadata": {},
   "outputs": [],
   "source": [
    "from keras.models import load_model\n",
    "Customer_churn = load_model('d:/Models/Customer_Churn_Model.h5')\n",
    "# Customer_churn.predict()"
   ]
  }
 ],
 "metadata": {
  "kernelspec": {
   "display_name": "Python 3",
   "language": "python",
   "name": "python3"
  },
  "language_info": {
   "codemirror_mode": {
    "name": "ipython",
    "version": 3
   },
   "file_extension": ".py",
   "mimetype": "text/x-python",
   "name": "python",
   "nbconvert_exporter": "python",
   "pygments_lexer": "ipython3",
   "version": "3.7.4"
  }
 },
 "nbformat": 4,
 "nbformat_minor": 2
}
